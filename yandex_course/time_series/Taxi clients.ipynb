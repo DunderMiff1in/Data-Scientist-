{
 "cells": [
  {
   "cell_type": "markdown",
   "metadata": {
    "toc": true
   },
   "source": [
    "<h1>Содержание<span class=\"tocSkip\"></span></h1>\n",
    "<div class=\"toc\"><ul class=\"toc-item\"><li><ul class=\"toc-item\"><li><ul class=\"toc-item\"><li><span><a href=\"#Полезные-ссылки:\" data-toc-modified-id=\"Полезные-ссылки:-0.0.1\"><span class=\"toc-item-num\">0.0.1&nbsp;&nbsp;</span><font color=\"orange\">Полезные ссылки:</font></a></span></li></ul></li><li><span><a href=\"#Общее-впечатление\" data-toc-modified-id=\"Общее-впечатление-0.1\"><span class=\"toc-item-num\">0.1&nbsp;&nbsp;</span><font color=\"orange\">Общее впечатление</font></a></span></li></ul></li><li><span><a href=\"#Подготовка\" data-toc-modified-id=\"Подготовка-1\"><span class=\"toc-item-num\">1&nbsp;&nbsp;</span>Подготовка</a></span></li><li><span><a href=\"#Анализ\" data-toc-modified-id=\"Анализ-2\"><span class=\"toc-item-num\">2&nbsp;&nbsp;</span>Анализ</a></span></li><li><span><a href=\"#Обучение\" data-toc-modified-id=\"Обучение-3\"><span class=\"toc-item-num\">3&nbsp;&nbsp;</span>Обучение</a></span></li><li><span><a href=\"#Тестирование\" data-toc-modified-id=\"Тестирование-4\"><span class=\"toc-item-num\">4&nbsp;&nbsp;</span>Тестирование</a></span></li><li><span><a href=\"#Чек-лист-проверки\" data-toc-modified-id=\"Чек-лист-проверки-5\"><span class=\"toc-item-num\">5&nbsp;&nbsp;</span>Чек-лист проверки</a></span></li></ul></div>"
   ]
  },
  {
   "cell_type": "markdown",
   "metadata": {},
   "source": [
    "#  Прогнозирование заказов такси"
   ]
  },
  {
   "cell_type": "markdown",
   "metadata": {},
   "source": [
    "Компания «Чётенькое такси» собрала исторические данные о заказах такси в аэропортах. Чтобы привлекать больше водителей в период пиковой нагрузки, нужно спрогнозировать количество заказов такси на следующий час. Постройте модель для такого предсказания.\n",
    "\n",
    "Значение метрики *RMSE* на тестовой выборке должно быть не больше 48.\n",
    "\n",
    "Вам нужно:\n",
    "\n",
    "1. Загрузить данные и выполнить их ресемплирование по одному часу.\n",
    "2. Проанализировать данные.\n",
    "3. Обучить разные модели с различными гиперпараметрами. Сделать тестовую выборку размером 10% от исходных данных.\n",
    "4. Проверить данные на тестовой выборке и сделать выводы.\n",
    "\n",
    "\n",
    "Данные лежат в файле `taxi.csv`. Количество заказов находится в столбце `num_orders` (от англ. *number of orders*, «число заказов»)."
   ]
  },
  {
   "cell_type": "markdown",
   "metadata": {},
   "source": [
    "## Подготовка"
   ]
  },
  {
   "cell_type": "code",
   "execution_count": 1,
   "metadata": {},
   "outputs": [],
   "source": [
    "import pandas as pd\n",
    "import numpy as np\n",
    "from matplotlib import pyplot as plt\n",
    "import time\n",
    "\n",
    "from statsmodels.tsa.seasonal import seasonal_decompose\n",
    "from sklearn.model_selection import train_test_split\n",
    "from sklearn.linear_model import LinearRegression\n",
    "from sklearn.metrics import mean_squared_error\n",
    "\n",
    "from sklearn.linear_model import LinearRegression\n",
    "from sklearn.tree import DecisionTreeRegressor\n",
    "from sklearn.ensemble import RandomForestRegressor\n",
    "from sklearn.neighbors import KNeighborsRegressor\n",
    "from lightgbm import LGBMRegressor\n",
    "from catboost import CatBoostRegressor\n",
    "\n",
    "from sklearn.model_selection import cross_val_score\n",
    "from sklearn.model_selection import TimeSeriesSplit\n",
    "from sklearn.model_selection import RandomizedSearchCV\n",
    "from sklearn.model_selection import GridSearchCV\n",
    "\n",
    "import warnings\n",
    "warnings.filterwarnings('ignore')"
   ]
  },
  {
   "cell_type": "code",
   "execution_count": 2,
   "metadata": {},
   "outputs": [
    {
     "data": {
      "text/html": [
       "<div>\n",
       "<style scoped>\n",
       "    .dataframe tbody tr th:only-of-type {\n",
       "        vertical-align: middle;\n",
       "    }\n",
       "\n",
       "    .dataframe tbody tr th {\n",
       "        vertical-align: top;\n",
       "    }\n",
       "\n",
       "    .dataframe thead th {\n",
       "        text-align: right;\n",
       "    }\n",
       "</style>\n",
       "<table border=\"1\" class=\"dataframe\">\n",
       "  <thead>\n",
       "    <tr style=\"text-align: right;\">\n",
       "      <th></th>\n",
       "      <th>num_orders</th>\n",
       "    </tr>\n",
       "    <tr>\n",
       "      <th>datetime</th>\n",
       "      <th></th>\n",
       "    </tr>\n",
       "  </thead>\n",
       "  <tbody>\n",
       "    <tr>\n",
       "      <th>2018-03-01 00:00:00</th>\n",
       "      <td>9</td>\n",
       "    </tr>\n",
       "    <tr>\n",
       "      <th>2018-03-01 00:10:00</th>\n",
       "      <td>14</td>\n",
       "    </tr>\n",
       "    <tr>\n",
       "      <th>2018-03-01 00:20:00</th>\n",
       "      <td>28</td>\n",
       "    </tr>\n",
       "    <tr>\n",
       "      <th>2018-03-01 00:30:00</th>\n",
       "      <td>20</td>\n",
       "    </tr>\n",
       "    <tr>\n",
       "      <th>2018-03-01 00:40:00</th>\n",
       "      <td>32</td>\n",
       "    </tr>\n",
       "  </tbody>\n",
       "</table>\n",
       "</div>"
      ],
      "text/plain": [
       "                     num_orders\n",
       "datetime                       \n",
       "2018-03-01 00:00:00           9\n",
       "2018-03-01 00:10:00          14\n",
       "2018-03-01 00:20:00          28\n",
       "2018-03-01 00:30:00          20\n",
       "2018-03-01 00:40:00          32"
      ]
     },
     "execution_count": 2,
     "metadata": {},
     "output_type": "execute_result"
    }
   ],
   "source": [
    "data = pd.read_csv('taxi.csv', index_col=[0], parse_dates=[0])\n",
    "data.head()"
   ]
  },
  {
   "cell_type": "code",
   "execution_count": 3,
   "metadata": {},
   "outputs": [],
   "source": [
    "data.sort_index(inplace=True)\n",
    "data = data.resample('1H').sum()"
   ]
  },
  {
   "cell_type": "code",
   "execution_count": 4,
   "metadata": {},
   "outputs": [
    {
     "data": {
      "text/html": [
       "<div>\n",
       "<style scoped>\n",
       "    .dataframe tbody tr th:only-of-type {\n",
       "        vertical-align: middle;\n",
       "    }\n",
       "\n",
       "    .dataframe tbody tr th {\n",
       "        vertical-align: top;\n",
       "    }\n",
       "\n",
       "    .dataframe thead th {\n",
       "        text-align: right;\n",
       "    }\n",
       "</style>\n",
       "<table border=\"1\" class=\"dataframe\">\n",
       "  <thead>\n",
       "    <tr style=\"text-align: right;\">\n",
       "      <th></th>\n",
       "      <th>num_orders</th>\n",
       "    </tr>\n",
       "    <tr>\n",
       "      <th>datetime</th>\n",
       "      <th></th>\n",
       "    </tr>\n",
       "  </thead>\n",
       "  <tbody>\n",
       "    <tr>\n",
       "      <th>2018-03-01 00:00:00</th>\n",
       "      <td>124</td>\n",
       "    </tr>\n",
       "    <tr>\n",
       "      <th>2018-03-01 01:00:00</th>\n",
       "      <td>85</td>\n",
       "    </tr>\n",
       "    <tr>\n",
       "      <th>2018-03-01 02:00:00</th>\n",
       "      <td>71</td>\n",
       "    </tr>\n",
       "    <tr>\n",
       "      <th>2018-03-01 03:00:00</th>\n",
       "      <td>66</td>\n",
       "    </tr>\n",
       "    <tr>\n",
       "      <th>2018-03-01 04:00:00</th>\n",
       "      <td>43</td>\n",
       "    </tr>\n",
       "  </tbody>\n",
       "</table>\n",
       "</div>"
      ],
      "text/plain": [
       "                     num_orders\n",
       "datetime                       \n",
       "2018-03-01 00:00:00         124\n",
       "2018-03-01 01:00:00          85\n",
       "2018-03-01 02:00:00          71\n",
       "2018-03-01 03:00:00          66\n",
       "2018-03-01 04:00:00          43"
      ]
     },
     "execution_count": 4,
     "metadata": {},
     "output_type": "execute_result"
    }
   ],
   "source": [
    "data.head()"
   ]
  },
  {
   "cell_type": "code",
   "execution_count": 5,
   "metadata": {
    "scrolled": true
   },
   "outputs": [
    {
     "name": "stdout",
     "output_type": "stream",
     "text": [
      "<class 'pandas.core.frame.DataFrame'>\n",
      "DatetimeIndex: 4416 entries, 2018-03-01 00:00:00 to 2018-08-31 23:00:00\n",
      "Freq: H\n",
      "Data columns (total 1 columns):\n",
      " #   Column      Non-Null Count  Dtype\n",
      "---  ------      --------------  -----\n",
      " 0   num_orders  4416 non-null   int64\n",
      "dtypes: int64(1)\n",
      "memory usage: 69.0 KB\n"
     ]
    }
   ],
   "source": [
    "data.info()"
   ]
  },
  {
   "cell_type": "markdown",
   "metadata": {},
   "source": [
    "Данные в порядке"
   ]
  },
  {
   "cell_type": "markdown",
   "metadata": {},
   "source": [
    "## Анализ"
   ]
  },
  {
   "cell_type": "code",
   "execution_count": 6,
   "metadata": {},
   "outputs": [],
   "source": [
    "decomposed_data = seasonal_decompose(data)"
   ]
  },
  {
   "cell_type": "code",
   "execution_count": 7,
   "metadata": {
    "scrolled": false
   },
   "outputs": [
    {
     "data": {
      "image/png": "[encoded data removed]",
      "text/plain": [
       "<Figure size 432x576 with 2 Axes>"
      ]
     },
     "metadata": {
      "needs_background": "light"
     },
     "output_type": "display_data"
    }
   ],
   "source": [
    "plt.figure(figsize=(6, 8))\n",
    "plt.subplot(211)\n",
    "decomposed_data.trend.plot(ax=plt.gca())\n",
    "plt.title('Trend')\n",
    "plt.subplot(212)\n",
    "decomposed_data.seasonal['2018-03-01':'2018-03-02'].plot(ax=plt.gca())\n",
    "plt.title('Seasonality')\n",
    "\n",
    "plt.tight_layout()"
   ]
  },
  {
   "cell_type": "markdown",
   "metadata": {},
   "source": [
    "Имеем восходящий тренд. По графику сезонности видно, что количество клиентов к 12 ночи увеличивается, к 6 утра спадает (по крайней мере на начало марта 2018 года)."
   ]
  },
  {
   "cell_type": "code",
   "execution_count": 8,
   "metadata": {},
   "outputs": [],
   "source": [
    "def make_features(df, max_lag, rolling_mean_size):\n",
    "    data = df.copy()\n",
    "    data['month'] = data.index.month\n",
    "    data['day'] = data.index.day\n",
    "    data['dayofweek'] = data.index.dayofweek\n",
    "    data['hour'] = data.index.hour\n",
    "    \n",
    "    for lag in range(1, max_lag + 1):\n",
    "        data['lag_{}'.format(lag)] = data['num_orders'].shift(lag)\n",
    "\n",
    "    data['rolling_mean'] = data['num_orders'].shift().rolling(rolling_mean_size).mean()\n",
    "    return data\n",
    "\n",
    "\n",
    "new_data = make_features(data, 20, 20)"
   ]
  },
  {
   "cell_type": "code",
   "execution_count": 9,
   "metadata": {},
   "outputs": [
    {
     "name": "stdout",
     "output_type": "stream",
     "text": [
      "<class 'pandas.core.frame.DataFrame'>\n",
      "DatetimeIndex: 4416 entries, 2018-03-01 00:00:00 to 2018-08-31 23:00:00\n",
      "Freq: H\n",
      "Data columns (total 26 columns):\n",
      " #   Column        Non-Null Count  Dtype  \n",
      "---  ------        --------------  -----  \n",
      " 0   num_orders    4416 non-null   int64  \n",
      " 1   month         4416 non-null   int64  \n",
      " 2   day           4416 non-null   int64  \n",
      " 3   dayofweek     4416 non-null   int64  \n",
      " 4   hour          4416 non-null   int64  \n",
      " 5   lag_1         4415 non-null   float64\n",
      " 6   lag_2         4414 non-null   float64\n",
      " 7   lag_3         4413 non-null   float64\n",
      " 8   lag_4         4412 non-null   float64\n",
      " 9   lag_5         4411 non-null   float64\n",
      " 10  lag_6         4410 non-null   float64\n",
      " 11  lag_7         4409 non-null   float64\n",
      " 12  lag_8         4408 non-null   float64\n",
      " 13  lag_9         4407 non-null   float64\n",
      " 14  lag_10        4406 non-null   float64\n",
      " 15  lag_11        4405 non-null   float64\n",
      " 16  lag_12        4404 non-null   float64\n",
      " 17  lag_13        4403 non-null   float64\n",
      " 18  lag_14        4402 non-null   float64\n",
      " 19  lag_15        4401 non-null   float64\n",
      " 20  lag_16        4400 non-null   float64\n",
      " 21  lag_17        4399 non-null   float64\n",
      " 22  lag_18        4398 non-null   float64\n",
      " 23  lag_19        4397 non-null   float64\n",
      " 24  lag_20        4396 non-null   float64\n",
      " 25  rolling_mean  4396 non-null   float64\n",
      "dtypes: float64(21), int64(5)\n",
      "memory usage: 931.5 KB\n"
     ]
    }
   ],
   "source": [
    "new_data.info()"
   ]
  },
  {
   "cell_type": "markdown",
   "metadata": {},
   "source": [
    "По сути, задание то же, что и было на последних заданиях тренажера, поэтому я втупую копирую код)\n",
    "\n",
    "Правда честно говоря, не очень понимаю, какую инфу дают признаки `lag_`"
   ]
  },
  {
   "cell_type": "markdown",
   "metadata": {},
   "source": [
    "## Обучение"
   ]
  },
  {
   "cell_type": "code",
   "execution_count": 10,
   "metadata": {},
   "outputs": [],
   "source": [
    "train, test = train_test_split(new_data, shuffle=False, test_size=0.1)\n",
    "train = train.dropna()\n",
    "\n",
    "X_train = train.drop('num_orders', axis=1)\n",
    "y_train = train['num_orders']\n",
    "X_test = test.drop('num_orders', axis=1)\n",
    "y_test = test['num_orders']"
   ]
  },
  {
   "cell_type": "code",
   "execution_count": 11,
   "metadata": {},
   "outputs": [
    {
     "name": "stdout",
     "output_type": "stream",
     "text": [
      "CPU times: total: 156 ms\n",
      "Wall time: 7.02 s\n"
     ]
    },
    {
     "data": {
      "text/html": [
       "<div>\n",
       "<style scoped>\n",
       "    .dataframe tbody tr th:only-of-type {\n",
       "        vertical-align: middle;\n",
       "    }\n",
       "\n",
       "    .dataframe tbody tr th {\n",
       "        vertical-align: top;\n",
       "    }\n",
       "\n",
       "    .dataframe thead th {\n",
       "        text-align: right;\n",
       "    }\n",
       "</style>\n",
       "<table border=\"1\" class=\"dataframe\">\n",
       "  <thead>\n",
       "    <tr style=\"text-align: right;\">\n",
       "      <th></th>\n",
       "      <th>Model</th>\n",
       "      <th>RMSE</th>\n",
       "      <th>Time</th>\n",
       "    </tr>\n",
       "  </thead>\n",
       "  <tbody>\n",
       "    <tr>\n",
       "      <th>3</th>\n",
       "      <td>LGBMRegressor</td>\n",
       "      <td>-25.05221</td>\n",
       "      <td>0.357077</td>\n",
       "    </tr>\n",
       "    <tr>\n",
       "      <th>2</th>\n",
       "      <td>RandomForestRegressor</td>\n",
       "      <td>-25.147534</td>\n",
       "      <td>3.290077</td>\n",
       "    </tr>\n",
       "    <tr>\n",
       "      <th>4</th>\n",
       "      <td>KNeighborsRegressor</td>\n",
       "      <td>-27.509093</td>\n",
       "      <td>0.092596</td>\n",
       "    </tr>\n",
       "    <tr>\n",
       "      <th>0</th>\n",
       "      <td>LinearRegression</td>\n",
       "      <td>-30.953286</td>\n",
       "      <td>2.251403</td>\n",
       "    </tr>\n",
       "    <tr>\n",
       "      <th>1</th>\n",
       "      <td>DecisionTreeRegressor</td>\n",
       "      <td>-35.717664</td>\n",
       "      <td>1.021374</td>\n",
       "    </tr>\n",
       "  </tbody>\n",
       "</table>\n",
       "</div>"
      ],
      "text/plain": [
       "                   Model       RMSE      Time\n",
       "3          LGBMRegressor  -25.05221  0.357077\n",
       "2  RandomForestRegressor -25.147534  3.290077\n",
       "4    KNeighborsRegressor -27.509093  0.092596\n",
       "0       LinearRegression -30.953286  2.251403\n",
       "1  DecisionTreeRegressor -35.717664  1.021374"
      ]
     },
     "execution_count": 11,
     "metadata": {},
     "output_type": "execute_result"
    }
   ],
   "source": [
    "%%time\n",
    "\n",
    "tss = TimeSeriesSplit()\n",
    "\n",
    "MLA = [\n",
    "    LinearRegression(),\n",
    "    DecisionTreeRegressor(),\n",
    "    RandomForestRegressor(),\n",
    "    LGBMRegressor(),\n",
    "    KNeighborsRegressor()\n",
    "]\n",
    "\n",
    "row_index = 0\n",
    "\n",
    "# Создаем таблицу для сравнения моделей\n",
    "MLA_cols = ['Model', 'RMSE', 'Time']\n",
    "MLA_compare = pd.DataFrame(columns = MLA_cols)\n",
    "\n",
    "# Добавляем метрики и время в таблицу\n",
    "for model in MLA:\n",
    "    MLA_compare.loc[row_index, 'Model'] = model.__class__.__name__   \n",
    "    tic = time.perf_counter()\n",
    "    cv_results = cross_val_score(model, X_train, y_train, cv=tss, scoring='neg_root_mean_squared_error', n_jobs=-1)\n",
    "    toc = time.perf_counter()\n",
    "    MLA_compare.loc[row_index, 'RMSE'] = cv_results.mean()\n",
    "    MLA_compare.loc[row_index, 'Time'] = toc - tic\n",
    "    \n",
    "    row_index+=1\n",
    "\n",
    "# Результаты\n",
    "MLA_compare.sort_values(by=['RMSE'], ascending=False, inplace=True)\n",
    "MLA_compare"
   ]
  },
  {
   "cell_type": "markdown",
   "metadata": {},
   "source": [
    "Градиентный бустинг выдал лучший результат. Подберем для него параметры"
   ]
  },
  {
   "cell_type": "code",
   "execution_count": 1,
   "metadata": {},
   "outputs": [],
   "source": [
    "# from hyperopt import fmin, hp, tpe, Trials, space_eval, STATUS_OK\n",
    "\n",
    "# def objective(search_space):\n",
    "#     model = LGBMRegressor(**search_space, random_state=42)\n",
    "#     rmse = cross_val_score(model, X_train, y_train, cv=tss, scoring='neg_root_mean_squared_error').mean()\n",
    "#     return {'loss': -rmse, 'status': STATUS_OK}\n",
    "\n",
    "# n_estimators = [int(x) for x in np.linspace(start = 100, stop = 1000, num = 20)]\n",
    "# max_depth = [int(x) for x in np.linspace(5, 30, num = 10)]\n",
    "# num_leaves = [int(x) for x in np.linspace(50, 200, num=20)]\n",
    "\n",
    "# search_space = {\n",
    "#     'n_estimators': n_estimators,\n",
    "#     'max_depth': max_depth,\n",
    "#     'num_leaves': num_leaves,\n",
    "# }\n",
    "\n",
    "# algorithm=tpe.suggest  # использовать Tree of Parzen Estimators\n",
    "\n",
    "# best_params = fmin(\n",
    "#   fn=objective,\n",
    "#   space=search_space,\n",
    "#   algo=algorithm,\n",
    "#   max_evals=10\n",
    "# )\n",
    "\n",
    "# space_eval(search_space, best_params)"
   ]
  },
  {
   "cell_type": "code",
   "execution_count": 12,
   "metadata": {},
   "outputs": [],
   "source": [
    "# %%time\n",
    "\n",
    "# lgbm = LGBMRegressor()\n",
    "\n",
    "# n_estimators = [int(x) for x in np.linspace(start = 100, stop = 1000, num = 20)]\n",
    "# max_depth = [int(x) for x in np.linspace(5, 30, num = 10)]\n",
    "# num_leaves = [int(x) for x in np.linspace(50, 200, num=20)]\n",
    "\n",
    "\n",
    "# param_grid = {\n",
    "#     'n_estimators': n_estimators,\n",
    "#     'max_depth': max_depth,\n",
    "#     'num_leaves': num_leaves,\n",
    "# }\n",
    "\n",
    "# rf_random = RandomizedSearchCV(estimator = lgbm, \n",
    "#                                param_distributions = param_grid, \n",
    "#                                n_iter = 30,\n",
    "#                                cv = tss, \n",
    "#                                verbose=2, \n",
    "#                                random_state=42,\n",
    "#                                scoring='neg_root_mean_squared_error',\n",
    "#                                n_jobs = -1)\n",
    "\n",
    "# rf_random.fit(X_train, y_train)\n",
    "# print(rf_random.best_score_)\n",
    "# print(rf_random.best_params_)"
   ]
  },
  {
   "cell_type": "markdown",
   "metadata": {},
   "source": [
    "LGDM показал rmse = 25.09 со следующими параметрами: {'num_leaves': 97, 'n_estimators': 242, 'max_depth': 7}"
   ]
  },
  {
   "cell_type": "markdown",
   "metadata": {},
   "source": [
    "Дефолтные значения были лучше. Переберем еще пару моделей"
   ]
  },
  {
   "cell_type": "code",
   "execution_count": 13,
   "metadata": {},
   "outputs": [],
   "source": [
    "# %%time\n",
    "\n",
    "# knr = KNeighborsRegressor()\n",
    "\n",
    "# n_neighbours = [int(x) for x in np.linspace(start = 5, stop = 15, num = 10)]\n",
    "\n",
    "# param_grid = {\n",
    "#     'n_neighbors': n_neighbours,\n",
    "#     'weights': ['uniform', 'distance'],\n",
    "#     'algorithm': ['auto', 'ball_tree']\n",
    "# }\n",
    "\n",
    "# rf_random = RandomizedSearchCV(estimator = knr, \n",
    "#                                param_distributions = param_grid, \n",
    "#                                n_iter = 50,\n",
    "#                                cv = tss, \n",
    "#                                verbose=2, \n",
    "#                                random_state=42,\n",
    "#                                scoring='neg_root_mean_squared_error',\n",
    "#                                n_jobs = -1)\n",
    "\n",
    "# rf_random.fit(X_train, y_train)\n",
    "# print(rf_random.best_score_)\n",
    "# print(rf_random.best_params_)"
   ]
  },
  {
   "cell_type": "markdown",
   "metadata": {},
   "source": [
    "Соседи показали rmse = 27.32 со следующими параметрами: {'weights': 'distance', 'n_neighbors': 6, 'algorithm': 'auto'}"
   ]
  },
  {
   "cell_type": "code",
   "execution_count": 14,
   "metadata": {
    "scrolled": true
   },
   "outputs": [],
   "source": [
    "# %%time\n",
    "\n",
    "# forest = RandomForestRegressor()\n",
    "\n",
    "\n",
    "# random_grid = {'bootstrap': [True, False],\n",
    "#                'max_depth': [10, 20, 30, 40, 50, 60, 70, 80, 90, 100, 110],\n",
    "#                'max_features': ['auto', 'sqrt'],\n",
    "#                'min_samples_leaf': [1, 2, 4],\n",
    "#                'min_samples_split': [2, 5, 10],\n",
    "#                'n_estimators': [130, 180, 230]\n",
    "#               }\n",
    "\n",
    "# rf_random = RandomizedSearchCV(estimator = forest, \n",
    "#                                param_distributions = random_grid, \n",
    "#                                n_iter = 20,\n",
    "#                                cv = tss, \n",
    "#                                verbose=2, \n",
    "#                                random_state=42,\n",
    "#                                scoring='neg_root_mean_squared_error',\n",
    "#                                n_jobs = -1)\n",
    "\n",
    "# rf_random.fit(X_train, y_train)\n",
    "# print(rf_random.best_score_)\n",
    "# print(rf_random.best_params_)"
   ]
  },
  {
   "cell_type": "markdown",
   "metadata": {},
   "source": [
    "Лес показал rmse = 25.10 со следующими параметрами: {'n_estimators': 180, 'min_samples_split': 5, 'min_samples_leaf': 1, 'max_features': 'auto', 'max_depth': 60, 'bootstrap': True}"
   ]
  },
  {
   "cell_type": "code",
   "execution_count": 15,
   "metadata": {
    "scrolled": true
   },
   "outputs": [],
   "source": [
    "# cat = CatBoostRegressor()\n",
    "# grid = {'depth'         : [4,5,6,7,8,9, 10],\n",
    "#        'learning_rate' : [0.01,0.02,0.03,0.04],\n",
    "#        'iterations'    : [10, 20,30,40,50,60,70,80,90, 100]\n",
    "#                 }\n",
    "\n",
    "# grid_search_result = cat.grid_search(grid, X=X_train, y=y_train, verbose=False, plot=True)"
   ]
  },
  {
   "cell_type": "code",
   "execution_count": 16,
   "metadata": {},
   "outputs": [],
   "source": [
    "# grid_search_result['params']"
   ]
  },
  {
   "cell_type": "markdown",
   "metadata": {},
   "source": [
    "CatBoost показал rmse = 24.74 со следующими параметрами: {'depth': 7, 'iterations': 100, 'learning_rate': 0.04}"
   ]
  },
  {
   "cell_type": "markdown",
   "metadata": {},
   "source": [
    "## Тестирование"
   ]
  },
  {
   "cell_type": "code",
   "execution_count": 17,
   "metadata": {
    "scrolled": true
   },
   "outputs": [
    {
     "name": "stdout",
     "output_type": "stream",
     "text": [
      "0:\tlearn: 37.9803404\ttotal: 55.1ms\tremaining: 5.45s\n",
      "1:\tlearn: 37.2185733\ttotal: 59.2ms\tremaining: 2.9s\n",
      "2:\tlearn: 36.6563635\ttotal: 63.2ms\tremaining: 2.04s\n",
      "3:\tlearn: 36.0033277\ttotal: 67.6ms\tremaining: 1.62s\n",
      "4:\tlearn: 35.5107701\ttotal: 71.6ms\tremaining: 1.36s\n",
      "5:\tlearn: 34.9521949\ttotal: 75.6ms\tremaining: 1.18s\n",
      "6:\tlearn: 34.3690965\ttotal: 79.9ms\tremaining: 1.06s\n",
      "7:\tlearn: 33.8385103\ttotal: 84.3ms\tremaining: 970ms\n",
      "8:\tlearn: 33.3726406\ttotal: 88.4ms\tremaining: 894ms\n",
      "9:\tlearn: 32.9315206\ttotal: 92.3ms\tremaining: 831ms\n",
      "10:\tlearn: 32.4735790\ttotal: 96.3ms\tremaining: 780ms\n",
      "11:\tlearn: 32.0161705\ttotal: 101ms\tremaining: 738ms\n",
      "12:\tlearn: 31.5538481\ttotal: 104ms\tremaining: 699ms\n",
      "13:\tlearn: 31.1403901\ttotal: 108ms\tremaining: 665ms\n",
      "14:\tlearn: 30.7422919\ttotal: 112ms\tremaining: 636ms\n",
      "15:\tlearn: 30.3337014\ttotal: 116ms\tremaining: 611ms\n",
      "16:\tlearn: 29.9660601\ttotal: 120ms\tremaining: 588ms\n",
      "17:\tlearn: 29.6050585\ttotal: 124ms\tremaining: 567ms\n",
      "18:\tlearn: 29.3098906\ttotal: 128ms\tremaining: 547ms\n",
      "19:\tlearn: 29.0097408\ttotal: 132ms\tremaining: 530ms\n",
      "20:\tlearn: 28.7769263\ttotal: 137ms\tremaining: 515ms\n",
      "21:\tlearn: 28.5503790\ttotal: 141ms\tremaining: 499ms\n",
      "22:\tlearn: 28.2619899\ttotal: 145ms\tremaining: 484ms\n",
      "23:\tlearn: 27.9843454\ttotal: 149ms\tremaining: 471ms\n",
      "24:\tlearn: 27.8231321\ttotal: 152ms\tremaining: 457ms\n",
      "25:\tlearn: 27.5842990\ttotal: 156ms\tremaining: 444ms\n",
      "26:\tlearn: 27.3422047\ttotal: 160ms\tremaining: 431ms\n",
      "27:\tlearn: 27.1482034\ttotal: 164ms\tremaining: 421ms\n",
      "28:\tlearn: 26.9328093\ttotal: 168ms\tremaining: 410ms\n",
      "29:\tlearn: 26.7407691\ttotal: 171ms\tremaining: 400ms\n",
      "30:\tlearn: 26.5179288\ttotal: 175ms\tremaining: 390ms\n",
      "31:\tlearn: 26.3518858\ttotal: 179ms\tremaining: 381ms\n",
      "32:\tlearn: 26.2111921\ttotal: 183ms\tremaining: 371ms\n",
      "33:\tlearn: 26.0705698\ttotal: 186ms\tremaining: 362ms\n",
      "34:\tlearn: 25.9045810\ttotal: 190ms\tremaining: 353ms\n",
      "35:\tlearn: 25.7567889\ttotal: 194ms\tremaining: 345ms\n",
      "36:\tlearn: 25.6206443\ttotal: 198ms\tremaining: 338ms\n",
      "37:\tlearn: 25.4549077\ttotal: 202ms\tremaining: 330ms\n",
      "38:\tlearn: 25.3009580\ttotal: 206ms\tremaining: 322ms\n",
      "39:\tlearn: 25.1745539\ttotal: 210ms\tremaining: 315ms\n",
      "40:\tlearn: 25.0196627\ttotal: 214ms\tremaining: 308ms\n",
      "41:\tlearn: 24.8897726\ttotal: 218ms\tremaining: 301ms\n",
      "42:\tlearn: 24.7291660\ttotal: 222ms\tremaining: 294ms\n",
      "43:\tlearn: 24.6444973\ttotal: 226ms\tremaining: 287ms\n",
      "44:\tlearn: 24.5380772\ttotal: 230ms\tremaining: 281ms\n",
      "45:\tlearn: 24.4254637\ttotal: 234ms\tremaining: 275ms\n",
      "46:\tlearn: 24.3421536\ttotal: 239ms\tremaining: 269ms\n",
      "47:\tlearn: 24.2570959\ttotal: 244ms\tremaining: 264ms\n",
      "48:\tlearn: 24.1378950\ttotal: 248ms\tremaining: 258ms\n",
      "49:\tlearn: 24.0403560\ttotal: 252ms\tremaining: 252ms\n",
      "50:\tlearn: 24.0044148\ttotal: 257ms\tremaining: 247ms\n",
      "51:\tlearn: 23.8812850\ttotal: 261ms\tremaining: 241ms\n",
      "52:\tlearn: 23.7808465\ttotal: 265ms\tremaining: 235ms\n",
      "53:\tlearn: 23.6749622\ttotal: 269ms\tremaining: 229ms\n",
      "54:\tlearn: 23.5916586\ttotal: 273ms\tremaining: 223ms\n",
      "55:\tlearn: 23.5246386\ttotal: 277ms\tremaining: 218ms\n",
      "56:\tlearn: 23.4433411\ttotal: 281ms\tremaining: 212ms\n",
      "57:\tlearn: 23.4307930\ttotal: 284ms\tremaining: 206ms\n",
      "58:\tlearn: 23.3870223\ttotal: 288ms\tremaining: 200ms\n",
      "59:\tlearn: 23.3032560\ttotal: 293ms\tremaining: 195ms\n",
      "60:\tlearn: 23.2028203\ttotal: 297ms\tremaining: 190ms\n",
      "61:\tlearn: 23.1380157\ttotal: 300ms\tremaining: 184ms\n",
      "62:\tlearn: 23.1044353\ttotal: 304ms\tremaining: 179ms\n",
      "63:\tlearn: 23.0129364\ttotal: 309ms\tremaining: 174ms\n",
      "64:\tlearn: 22.9485410\ttotal: 312ms\tremaining: 168ms\n",
      "65:\tlearn: 22.8839168\ttotal: 316ms\tremaining: 163ms\n",
      "66:\tlearn: 22.8133777\ttotal: 320ms\tremaining: 158ms\n",
      "67:\tlearn: 22.7686838\ttotal: 324ms\tremaining: 153ms\n",
      "68:\tlearn: 22.7595720\ttotal: 328ms\tremaining: 147ms\n",
      "69:\tlearn: 22.7477790\ttotal: 332ms\tremaining: 142ms\n",
      "70:\tlearn: 22.7382071\ttotal: 335ms\tremaining: 137ms\n",
      "71:\tlearn: 22.6972818\ttotal: 339ms\tremaining: 132ms\n",
      "72:\tlearn: 22.6898457\ttotal: 343ms\tremaining: 127ms\n",
      "73:\tlearn: 22.6368185\ttotal: 346ms\tremaining: 122ms\n",
      "74:\tlearn: 22.6047995\ttotal: 350ms\tremaining: 117ms\n",
      "75:\tlearn: 22.5486846\ttotal: 354ms\tremaining: 112ms\n",
      "76:\tlearn: 22.5214270\ttotal: 358ms\tremaining: 107ms\n",
      "77:\tlearn: 22.4567356\ttotal: 362ms\tremaining: 102ms\n",
      "78:\tlearn: 22.4216592\ttotal: 365ms\tremaining: 97.1ms\n",
      "79:\tlearn: 22.4144326\ttotal: 370ms\tremaining: 92.4ms\n",
      "80:\tlearn: 22.3804015\ttotal: 374ms\tremaining: 87.6ms\n",
      "81:\tlearn: 22.3727756\ttotal: 377ms\tremaining: 82.8ms\n",
      "82:\tlearn: 22.3414480\ttotal: 381ms\tremaining: 78ms\n",
      "83:\tlearn: 22.2941856\ttotal: 385ms\tremaining: 73.4ms\n",
      "84:\tlearn: 22.2517677\ttotal: 389ms\tremaining: 68.7ms\n",
      "85:\tlearn: 22.2449768\ttotal: 393ms\tremaining: 64ms\n",
      "86:\tlearn: 22.1823194\ttotal: 396ms\tremaining: 59.2ms\n",
      "87:\tlearn: 22.1335281\ttotal: 401ms\tremaining: 54.7ms\n",
      "88:\tlearn: 22.0866292\ttotal: 405ms\tremaining: 50.1ms\n",
      "89:\tlearn: 22.0796504\ttotal: 409ms\tremaining: 45.5ms\n",
      "90:\tlearn: 22.0321123\ttotal: 413ms\tremaining: 40.9ms\n",
      "91:\tlearn: 22.0055212\ttotal: 417ms\tremaining: 36.3ms\n",
      "92:\tlearn: 21.9674003\ttotal: 421ms\tremaining: 31.7ms\n",
      "93:\tlearn: 21.9227064\ttotal: 425ms\tremaining: 27.1ms\n",
      "94:\tlearn: 21.8936460\ttotal: 429ms\tremaining: 22.6ms\n",
      "95:\tlearn: 21.8367886\ttotal: 433ms\tremaining: 18ms\n",
      "96:\tlearn: 21.8061086\ttotal: 436ms\tremaining: 13.5ms\n",
      "97:\tlearn: 21.7889661\ttotal: 440ms\tremaining: 8.98ms\n",
      "98:\tlearn: 21.7535732\ttotal: 443ms\tremaining: 4.48ms\n",
      "99:\tlearn: 21.7139159\ttotal: 448ms\tremaining: 0us\n",
      "CPU times: total: 14 s\n",
      "Wall time: 7.09 s\n"
     ]
    },
    {
     "data": {
      "text/html": [
       "<div>\n",
       "<style scoped>\n",
       "    .dataframe tbody tr th:only-of-type {\n",
       "        vertical-align: middle;\n",
       "    }\n",
       "\n",
       "    .dataframe tbody tr th {\n",
       "        vertical-align: top;\n",
       "    }\n",
       "\n",
       "    .dataframe thead th {\n",
       "        text-align: right;\n",
       "    }\n",
       "</style>\n",
       "<table border=\"1\" class=\"dataframe\">\n",
       "  <thead>\n",
       "    <tr style=\"text-align: right;\">\n",
       "      <th></th>\n",
       "      <th>Model</th>\n",
       "      <th>RMSE</th>\n",
       "    </tr>\n",
       "  </thead>\n",
       "  <tbody>\n",
       "    <tr>\n",
       "      <th>3</th>\n",
       "      <td>LGBMRegressor</td>\n",
       "      <td>42.457103</td>\n",
       "    </tr>\n",
       "    <tr>\n",
       "      <th>2</th>\n",
       "      <td>RandomForestRegressor</td>\n",
       "      <td>44.408141</td>\n",
       "    </tr>\n",
       "    <tr>\n",
       "      <th>4</th>\n",
       "      <td>KNeighborsRegressor</td>\n",
       "      <td>51.19599</td>\n",
       "    </tr>\n",
       "    <tr>\n",
       "      <th>5</th>\n",
       "      <td>CatBoostRegressor</td>\n",
       "      <td>52.30963</td>\n",
       "    </tr>\n",
       "    <tr>\n",
       "      <th>0</th>\n",
       "      <td>LinearRegression</td>\n",
       "      <td>54.436286</td>\n",
       "    </tr>\n",
       "    <tr>\n",
       "      <th>1</th>\n",
       "      <td>DecisionTreeRegressor</td>\n",
       "      <td>56.606558</td>\n",
       "    </tr>\n",
       "  </tbody>\n",
       "</table>\n",
       "</div>"
      ],
      "text/plain": [
       "                   Model       RMSE\n",
       "3          LGBMRegressor  42.457103\n",
       "2  RandomForestRegressor  44.408141\n",
       "4    KNeighborsRegressor   51.19599\n",
       "5      CatBoostRegressor   52.30963\n",
       "0       LinearRegression  54.436286\n",
       "1  DecisionTreeRegressor  56.606558"
      ]
     },
     "execution_count": 17,
     "metadata": {},
     "output_type": "execute_result"
    }
   ],
   "source": [
    "%%time\n",
    "\n",
    "\n",
    "MLA = [\n",
    "    LinearRegression(),\n",
    "    DecisionTreeRegressor(max_depth=5),\n",
    "    RandomForestRegressor(n_estimators=180, \n",
    "                          min_samples_split=5, \n",
    "                          min_samples_leaf=1, \n",
    "                          max_features='auto', \n",
    "                          max_depth=60, \n",
    "                          bootstrap=True),\n",
    "    LGBMRegressor(num_leaves=97, n_estimators=242, max_depth=7),\n",
    "    KNeighborsRegressor(weights='distance', n_neighbors=6, algorithm='auto'),\n",
    "    CatBoostRegressor(depth=7, learning_rate=0.04, iterations=100)\n",
    "]\n",
    "\n",
    "row_index = 0\n",
    "\n",
    "# Создаем таблицу для сравнения моделей\n",
    "MLA_cols = ['Model', 'RMSE']\n",
    "MLA_compare = pd.DataFrame(columns = MLA_cols)\n",
    "\n",
    "# Добавляем метрики и время в таблицу\n",
    "for model in MLA:\n",
    "    MLA_compare.loc[row_index, 'Model'] = model.__class__.__name__      \n",
    "    predictions = model.fit(X_train, y_train).predict(X_test)\n",
    "    MLA_compare.loc[row_index, 'RMSE'] = mean_squared_error(y_test, predictions, squared=False)\n",
    "    \n",
    "    row_index+=1\n",
    "\n",
    "# Результаты\n",
    "MLA_compare.sort_values(by=['RMSE'], ascending=True, inplace=True)\n",
    "MLA_compare"
   ]
  },
  {
   "cell_type": "markdown",
   "metadata": {},
   "source": [
    "Видим, что модель переобучилась, поскольку на трейне lgbm выдавал rmse=25, а на тесте - 42.45. Однако по заданию мы проходим."
   ]
  },
  {
   "cell_type": "markdown",
   "metadata": {},
   "source": [
    "Удостоверимся, что сделали хоть что-то полезное через модель, состоящую из медиан"
   ]
  },
  {
   "cell_type": "code",
   "execution_count": 18,
   "metadata": {},
   "outputs": [
    {
     "name": "stdout",
     "output_type": "stream",
     "text": [
      "RMSE: 87.15277582981295\n"
     ]
    }
   ],
   "source": [
    "pred_median = pd.Series(y_train.median(), index=test.index)\n",
    "print(\"RMSE:\", mean_squared_error(y_test, pred_median, squared=False))"
   ]
  },
  {
   "cell_type": "markdown",
   "metadata": {},
   "source": [
    "Слава богу"
   ]
  },
  {
   "cell_type": "markdown",
   "metadata": {},
   "source": [
    "Лучше всего себя показала модель градиентного бустинга с результатом RMSE = 42.45 со следующими параметрами: num_leaves=97, n_estimators=242, max_depth=7. \n",
    "\n",
    "Результат не идеальный, тк модель переобучается, возможно имеет смысл избавиться от лишних созданных признаков. Визувлизируем предсказания"
   ]
  },
  {
   "cell_type": "code",
   "execution_count": 19,
   "metadata": {},
   "outputs": [
    {
     "data": {
      "image/png": "[encoded data removed]",
      "text/plain": [
       "<Figure size 720x576 with 1 Axes>"
      ]
     },
     "metadata": {
      "needs_background": "light"
     },
     "output_type": "display_data"
    }
   ],
   "source": [
    "lgbm = LGBMRegressor(num_leaves=97, n_estimators=242, max_depth=7)\n",
    "predictions = lgbm.fit(X_train, y_train).predict(X_test)\n",
    "\n",
    "pred = pd.Series(predictions, index=y_test.index)\n",
    "\n",
    "fig = plt.figure(figsize=(10,8))\n",
    "\n",
    "ax = fig.add_axes([0,0,1,1])\n",
    "\n",
    "ax.plot(y_test, label='true')\n",
    "ax.plot(pred, label='predicted')\n",
    "        \n",
    "ax.legend();\n",
    "plt.tight_layout()"
   ]
  },
  {
   "cell_type": "markdown",
   "metadata": {},
   "source": [
    "Как видно, модель плохо улавливает выбросы, а они нам и нужны"
   ]
  },
  {
   "cell_type": "code",
   "execution_count": null,
   "metadata": {},
   "outputs": [],
   "source": []
  }
 ],
 "metadata": {
  "ExecuteTimeLog": [
   {
    "duration": 475,
    "start_time": "2022-05-23T16:12:17.253Z"
   },
   {
    "duration": 117,
    "start_time": "2022-05-23T16:13:20.064Z"
   },
   {
    "duration": 48,
    "start_time": "2022-05-23T16:14:44.954Z"
   },
   {
    "duration": 8,
    "start_time": "2022-05-23T16:16:11.665Z"
   },
   {
    "duration": 7,
    "start_time": "2022-05-23T16:16:15.912Z"
   },
   {
    "duration": 830,
    "start_time": "2022-05-23T16:16:33.512Z"
   },
   {
    "duration": 10,
    "start_time": "2022-05-23T16:17:26.028Z"
   },
   {
    "duration": 183,
    "start_time": "2022-05-23T16:18:11.818Z"
   },
   {
    "duration": 71,
    "start_time": "2022-05-23T16:19:47.637Z"
   },
   {
    "duration": 8,
    "start_time": "2022-05-23T16:19:49.899Z"
   },
   {
    "duration": 10,
    "start_time": "2022-05-23T16:19:50.187Z"
   },
   {
    "duration": 595,
    "start_time": "2022-05-23T16:20:00.787Z"
   },
   {
    "duration": 7,
    "start_time": "2022-05-23T16:20:03.660Z"
   },
   {
    "duration": 918,
    "start_time": "2022-05-23T16:20:04.604Z"
   },
   {
    "duration": 37,
    "start_time": "2022-05-23T16:20:54.556Z"
   },
   {
    "duration": 2,
    "start_time": "2022-05-23T16:21:12.293Z"
   },
   {
    "duration": 105,
    "start_time": "2022-05-23T16:21:16.151Z"
   },
   {
    "duration": 52,
    "start_time": "2022-05-23T16:21:32.923Z"
   },
   {
    "duration": 994,
    "start_time": "2022-05-23T16:21:37.729Z"
   },
   {
    "duration": 53,
    "start_time": "2022-05-23T16:21:38.725Z"
   },
   {
    "duration": 8,
    "start_time": "2022-05-23T16:21:38.780Z"
   },
   {
    "duration": 7,
    "start_time": "2022-05-23T16:21:38.790Z"
   },
   {
    "duration": 11,
    "start_time": "2022-05-23T16:21:38.799Z"
   },
   {
    "duration": 275,
    "start_time": "2022-05-23T16:21:38.812Z"
   },
   {
    "duration": 11,
    "start_time": "2022-05-23T16:21:39.089Z"
   },
   {
    "duration": 936,
    "start_time": "2022-05-23T16:21:39.102Z"
   },
   {
    "duration": 24,
    "start_time": "2022-05-23T16:27:33.720Z"
   },
   {
    "duration": 243,
    "start_time": "2022-05-23T16:27:39.273Z"
   },
   {
    "duration": 177,
    "start_time": "2022-05-23T16:28:12.194Z"
   },
   {
    "duration": 321,
    "start_time": "2022-05-23T16:31:21.531Z"
   },
   {
    "duration": 18,
    "start_time": "2022-05-23T16:31:56.261Z"
   },
   {
    "duration": 17,
    "start_time": "2022-05-23T16:32:04.395Z"
   },
   {
    "duration": 145,
    "start_time": "2022-05-23T16:34:36.533Z"
   },
   {
    "duration": 9,
    "start_time": "2022-05-23T16:35:25.154Z"
   },
   {
    "duration": 998,
    "start_time": "2022-05-23T16:39:02.507Z"
   },
   {
    "duration": 51,
    "start_time": "2022-05-23T16:39:03.507Z"
   },
   {
    "duration": 7,
    "start_time": "2022-05-23T16:39:03.560Z"
   },
   {
    "duration": 11,
    "start_time": "2022-05-23T16:39:03.569Z"
   },
   {
    "duration": 17,
    "start_time": "2022-05-23T16:39:03.582Z"
   },
   {
    "duration": 26,
    "start_time": "2022-05-23T16:39:03.600Z"
   },
   {
    "duration": 269,
    "start_time": "2022-05-23T16:39:03.628Z"
   },
   {
    "duration": 125,
    "start_time": "2022-05-23T16:39:03.898Z"
   },
   {
    "duration": 0,
    "start_time": "2022-05-23T16:39:04.025Z"
   },
   {
    "duration": 8,
    "start_time": "2022-05-23T16:39:42.407Z"
   },
   {
    "duration": 9,
    "start_time": "2022-05-23T16:39:45.657Z"
   },
   {
    "duration": 18,
    "start_time": "2022-05-23T16:40:18.633Z"
   },
   {
    "duration": 1102,
    "start_time": "2022-05-23T16:40:25.273Z"
   },
   {
    "duration": 53,
    "start_time": "2022-05-23T16:40:26.377Z"
   },
   {
    "duration": 9,
    "start_time": "2022-05-23T16:40:26.431Z"
   },
   {
    "duration": 9,
    "start_time": "2022-05-23T16:40:26.441Z"
   },
   {
    "duration": 11,
    "start_time": "2022-05-23T16:40:26.452Z"
   },
   {
    "duration": 10,
    "start_time": "2022-05-23T16:40:26.464Z"
   },
   {
    "duration": 291,
    "start_time": "2022-05-23T16:40:26.475Z"
   },
   {
    "duration": 31,
    "start_time": "2022-05-23T16:40:26.768Z"
   },
   {
    "duration": 78,
    "start_time": "2022-05-23T16:40:26.800Z"
   },
   {
    "duration": 21,
    "start_time": "2022-05-23T16:44:38.253Z"
   },
   {
    "duration": 7,
    "start_time": "2022-05-23T16:44:46.596Z"
   },
   {
    "duration": 36,
    "start_time": "2022-05-23T16:44:48.972Z"
   },
   {
    "duration": 101,
    "start_time": "2022-05-23T16:44:53.493Z"
   },
   {
    "duration": 87,
    "start_time": "2022-05-23T16:44:59.160Z"
   },
   {
    "duration": 1071,
    "start_time": "2022-05-23T16:45:06.430Z"
   },
   {
    "duration": 53,
    "start_time": "2022-05-23T16:45:07.503Z"
   },
   {
    "duration": 73,
    "start_time": "2022-05-23T16:45:07.557Z"
   },
   {
    "duration": 6,
    "start_time": "2022-05-23T16:45:07.632Z"
   },
   {
    "duration": 12,
    "start_time": "2022-05-23T16:45:07.640Z"
   },
   {
    "duration": 14,
    "start_time": "2022-05-23T16:45:07.653Z"
   },
   {
    "duration": 280,
    "start_time": "2022-05-23T16:45:07.668Z"
   },
   {
    "duration": 29,
    "start_time": "2022-05-23T16:45:07.950Z"
   },
   {
    "duration": 19,
    "start_time": "2022-05-23T16:45:07.980Z"
   },
   {
    "duration": 9,
    "start_time": "2022-05-23T16:45:08.001Z"
   },
   {
    "duration": 8,
    "start_time": "2022-05-23T16:45:08.011Z"
   },
   {
    "duration": 89,
    "start_time": "2022-05-23T16:46:41.717Z"
   },
   {
    "duration": 165,
    "start_time": "2022-05-23T16:49:33.810Z"
   },
   {
    "duration": 4,
    "start_time": "2022-05-23T16:50:02.264Z"
   },
   {
    "duration": 1570,
    "start_time": "2022-05-24T08:08:03.943Z"
   },
   {
    "duration": 137,
    "start_time": "2022-05-24T08:08:05.515Z"
   },
   {
    "duration": 0,
    "start_time": "2022-05-24T08:08:05.653Z"
   },
   {
    "duration": 0,
    "start_time": "2022-05-24T08:08:05.655Z"
   },
   {
    "duration": 19,
    "start_time": "2022-05-24T08:08:22.612Z"
   },
   {
    "duration": 114,
    "start_time": "2022-05-24T08:08:29.350Z"
   },
   {
    "duration": 1445,
    "start_time": "2022-05-24T08:08:41.293Z"
   },
   {
    "duration": 60,
    "start_time": "2022-05-24T08:08:42.740Z"
   },
   {
    "duration": 10,
    "start_time": "2022-05-24T08:08:42.802Z"
   },
   {
    "duration": 11,
    "start_time": "2022-05-24T08:08:42.814Z"
   },
   {
    "duration": 17,
    "start_time": "2022-05-24T08:08:42.826Z"
   },
   {
    "duration": 11,
    "start_time": "2022-05-24T08:08:42.845Z"
   },
   {
    "duration": 600,
    "start_time": "2022-05-24T08:08:42.858Z"
   },
   {
    "duration": 499,
    "start_time": "2022-05-24T08:09:44.096Z"
   },
   {
    "duration": 26,
    "start_time": "2022-05-24T08:14:51.509Z"
   },
   {
    "duration": 13,
    "start_time": "2022-05-24T08:14:57.795Z"
   },
   {
    "duration": 11,
    "start_time": "2022-05-24T08:15:25.211Z"
   },
   {
    "duration": 5,
    "start_time": "2022-05-24T08:15:55.460Z"
   },
   {
    "duration": 3004,
    "start_time": "2022-05-24T08:16:36.213Z"
   },
   {
    "duration": 54785,
    "start_time": "2022-05-24T08:16:46.695Z"
   }
  ],
  "kernelspec": {
   "display_name": "Python 3 (ipykernel)",
   "language": "python",
   "name": "python3"
  },
  "language_info": {
   "codemirror_mode": {
    "name": "ipython",
    "version": 3
   },
   "file_extension": ".py",
   "mimetype": "text/x-python",
   "name": "python",
   "nbconvert_exporter": "python",
   "pygments_lexer": "ipython3",
   "version": "3.9.12"
  },
  "toc": {
   "base_numbering": 1,
   "nav_menu": {},
   "number_sections": true,
   "sideBar": true,
   "skip_h1_title": true,
   "title_cell": "Содержание",
   "title_sidebar": "Contents",
   "toc_cell": true,
   "toc_position": {},
   "toc_section_display": true,
   "toc_window_display": false
  }
 },
 "nbformat": 4,
 "nbformat_minor": 2
}
