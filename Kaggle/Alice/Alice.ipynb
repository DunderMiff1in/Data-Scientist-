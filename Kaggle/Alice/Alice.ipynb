{
 "cells": [
  {
   "cell_type": "markdown",
   "id": "4ccf7441",
   "metadata": {},
   "source": [
    "# Подготовка и анализ данных"
   ]
  },
  {
   "cell_type": "code",
   "execution_count": 1,
   "id": "1681514b",
   "metadata": {},
   "outputs": [],
   "source": [
    "import numpy as np\n",
    "import pandas as pd\n",
    "import pickle\n",
    "import math\n",
    "import matplotlib.pyplot as plt\n",
    "plt.style.use('ggplot')\n",
    "#%matplotlib inline\n",
    "import seaborn as sns\n",
    "\n",
    "import torch\n",
    "import transformers as ppb\n",
    "\n",
    "from scipy.sparse import csr_matrix, hstack\n",
    "\n",
    "from sklearn.model_selection import cross_val_score\n",
    "from sklearn.model_selection import train_test_split\n",
    "from sklearn.metrics import f1_score\n",
    "from sklearn.preprocessing import OneHotEncoder\n",
    "from sklearn.feature_extraction.text import CountVectorizer\n",
    "from sklearn.feature_extraction.text import TfidfVectorizer \n",
    "from sklearn.metrics import roc_auc_score\n",
    "from sklearn.model_selection import TimeSeriesSplit\n",
    "\n",
    "from sklearn.model_selection import GridSearchCV\n",
    "from sklearn.model_selection import RandomizedSearchCV\n",
    "from sklearn.linear_model import LogisticRegression\n",
    "\n",
    "import warnings\n",
    "warnings.filterwarnings('ignore')"
   ]
  },
  {
   "cell_type": "code",
   "execution_count": 2,
   "id": "1dd057e9",
   "metadata": {},
   "outputs": [
    {
     "data": {
      "text/plain": [
       "['time1',\n",
       " 'time2',\n",
       " 'time3',\n",
       " 'time4',\n",
       " 'time5',\n",
       " 'time6',\n",
       " 'time7',\n",
       " 'time8',\n",
       " 'time9',\n",
       " 'time10']"
      ]
     },
     "execution_count": 2,
     "metadata": {},
     "output_type": "execute_result"
    }
   ],
   "source": [
    "times = ['time'+str(i) for i in range(1,11)]\n",
    "times"
   ]
  },
  {
   "cell_type": "code",
   "execution_count": 3,
   "id": "3a47382c",
   "metadata": {},
   "outputs": [
    {
     "data": {
      "text/html": [
       "<div>\n",
       "<style scoped>\n",
       "    .dataframe tbody tr th:only-of-type {\n",
       "        vertical-align: middle;\n",
       "    }\n",
       "\n",
       "    .dataframe tbody tr th {\n",
       "        vertical-align: top;\n",
       "    }\n",
       "\n",
       "    .dataframe thead th {\n",
       "        text-align: right;\n",
       "    }\n",
       "</style>\n",
       "<table border=\"1\" class=\"dataframe\">\n",
       "  <thead>\n",
       "    <tr style=\"text-align: right;\">\n",
       "      <th></th>\n",
       "      <th>site1</th>\n",
       "      <th>time1</th>\n",
       "      <th>site2</th>\n",
       "      <th>time2</th>\n",
       "      <th>site3</th>\n",
       "      <th>time3</th>\n",
       "      <th>site4</th>\n",
       "      <th>time4</th>\n",
       "      <th>site5</th>\n",
       "      <th>time5</th>\n",
       "      <th>...</th>\n",
       "      <th>time6</th>\n",
       "      <th>site7</th>\n",
       "      <th>time7</th>\n",
       "      <th>site8</th>\n",
       "      <th>time8</th>\n",
       "      <th>site9</th>\n",
       "      <th>time9</th>\n",
       "      <th>site10</th>\n",
       "      <th>time10</th>\n",
       "      <th>target</th>\n",
       "    </tr>\n",
       "    <tr>\n",
       "      <th>session_id</th>\n",
       "      <th></th>\n",
       "      <th></th>\n",
       "      <th></th>\n",
       "      <th></th>\n",
       "      <th></th>\n",
       "      <th></th>\n",
       "      <th></th>\n",
       "      <th></th>\n",
       "      <th></th>\n",
       "      <th></th>\n",
       "      <th></th>\n",
       "      <th></th>\n",
       "      <th></th>\n",
       "      <th></th>\n",
       "      <th></th>\n",
       "      <th></th>\n",
       "      <th></th>\n",
       "      <th></th>\n",
       "      <th></th>\n",
       "      <th></th>\n",
       "      <th></th>\n",
       "    </tr>\n",
       "  </thead>\n",
       "  <tbody>\n",
       "    <tr>\n",
       "      <th>21669</th>\n",
       "      <td>56</td>\n",
       "      <td>2013-01-12 08:05:57</td>\n",
       "      <td>55.0</td>\n",
       "      <td>2013-01-12 08:05:57</td>\n",
       "      <td>NaN</td>\n",
       "      <td>NaT</td>\n",
       "      <td>NaN</td>\n",
       "      <td>NaT</td>\n",
       "      <td>NaN</td>\n",
       "      <td>NaT</td>\n",
       "      <td>...</td>\n",
       "      <td>NaT</td>\n",
       "      <td>NaN</td>\n",
       "      <td>NaT</td>\n",
       "      <td>NaN</td>\n",
       "      <td>NaT</td>\n",
       "      <td>NaN</td>\n",
       "      <td>NaT</td>\n",
       "      <td>NaN</td>\n",
       "      <td>NaT</td>\n",
       "      <td>0</td>\n",
       "    </tr>\n",
       "    <tr>\n",
       "      <th>54843</th>\n",
       "      <td>56</td>\n",
       "      <td>2013-01-12 08:37:23</td>\n",
       "      <td>55.0</td>\n",
       "      <td>2013-01-12 08:37:23</td>\n",
       "      <td>56.0</td>\n",
       "      <td>2013-01-12 09:07:07</td>\n",
       "      <td>55.0</td>\n",
       "      <td>2013-01-12 09:07:09</td>\n",
       "      <td>NaN</td>\n",
       "      <td>NaT</td>\n",
       "      <td>...</td>\n",
       "      <td>NaT</td>\n",
       "      <td>NaN</td>\n",
       "      <td>NaT</td>\n",
       "      <td>NaN</td>\n",
       "      <td>NaT</td>\n",
       "      <td>NaN</td>\n",
       "      <td>NaT</td>\n",
       "      <td>NaN</td>\n",
       "      <td>NaT</td>\n",
       "      <td>0</td>\n",
       "    </tr>\n",
       "    <tr>\n",
       "      <th>77292</th>\n",
       "      <td>946</td>\n",
       "      <td>2013-01-12 08:50:13</td>\n",
       "      <td>946.0</td>\n",
       "      <td>2013-01-12 08:50:14</td>\n",
       "      <td>951.0</td>\n",
       "      <td>2013-01-12 08:50:15</td>\n",
       "      <td>946.0</td>\n",
       "      <td>2013-01-12 08:50:15</td>\n",
       "      <td>946.0</td>\n",
       "      <td>2013-01-12 08:50:16</td>\n",
       "      <td>...</td>\n",
       "      <td>2013-01-12 08:50:16</td>\n",
       "      <td>948.0</td>\n",
       "      <td>2013-01-12 08:50:16</td>\n",
       "      <td>784.0</td>\n",
       "      <td>2013-01-12 08:50:16</td>\n",
       "      <td>949.0</td>\n",
       "      <td>2013-01-12 08:50:17</td>\n",
       "      <td>946.0</td>\n",
       "      <td>2013-01-12 08:50:17</td>\n",
       "      <td>0</td>\n",
       "    </tr>\n",
       "    <tr>\n",
       "      <th>114021</th>\n",
       "      <td>945</td>\n",
       "      <td>2013-01-12 08:50:17</td>\n",
       "      <td>948.0</td>\n",
       "      <td>2013-01-12 08:50:17</td>\n",
       "      <td>949.0</td>\n",
       "      <td>2013-01-12 08:50:18</td>\n",
       "      <td>948.0</td>\n",
       "      <td>2013-01-12 08:50:18</td>\n",
       "      <td>945.0</td>\n",
       "      <td>2013-01-12 08:50:18</td>\n",
       "      <td>...</td>\n",
       "      <td>2013-01-12 08:50:18</td>\n",
       "      <td>947.0</td>\n",
       "      <td>2013-01-12 08:50:19</td>\n",
       "      <td>945.0</td>\n",
       "      <td>2013-01-12 08:50:19</td>\n",
       "      <td>946.0</td>\n",
       "      <td>2013-01-12 08:50:19</td>\n",
       "      <td>946.0</td>\n",
       "      <td>2013-01-12 08:50:20</td>\n",
       "      <td>0</td>\n",
       "    </tr>\n",
       "    <tr>\n",
       "      <th>146670</th>\n",
       "      <td>947</td>\n",
       "      <td>2013-01-12 08:50:20</td>\n",
       "      <td>950.0</td>\n",
       "      <td>2013-01-12 08:50:20</td>\n",
       "      <td>948.0</td>\n",
       "      <td>2013-01-12 08:50:20</td>\n",
       "      <td>947.0</td>\n",
       "      <td>2013-01-12 08:50:21</td>\n",
       "      <td>950.0</td>\n",
       "      <td>2013-01-12 08:50:21</td>\n",
       "      <td>...</td>\n",
       "      <td>2013-01-12 08:50:21</td>\n",
       "      <td>946.0</td>\n",
       "      <td>2013-01-12 08:50:21</td>\n",
       "      <td>951.0</td>\n",
       "      <td>2013-01-12 08:50:22</td>\n",
       "      <td>946.0</td>\n",
       "      <td>2013-01-12 08:50:22</td>\n",
       "      <td>947.0</td>\n",
       "      <td>2013-01-12 08:50:22</td>\n",
       "      <td>0</td>\n",
       "    </tr>\n",
       "  </tbody>\n",
       "</table>\n",
       "<p>5 rows × 21 columns</p>\n",
       "</div>"
      ],
      "text/plain": [
       "            site1               time1  site2               time2  site3  \\\n",
       "session_id                                                                \n",
       "21669          56 2013-01-12 08:05:57   55.0 2013-01-12 08:05:57    NaN   \n",
       "54843          56 2013-01-12 08:37:23   55.0 2013-01-12 08:37:23   56.0   \n",
       "77292         946 2013-01-12 08:50:13  946.0 2013-01-12 08:50:14  951.0   \n",
       "114021        945 2013-01-12 08:50:17  948.0 2013-01-12 08:50:17  949.0   \n",
       "146670        947 2013-01-12 08:50:20  950.0 2013-01-12 08:50:20  948.0   \n",
       "\n",
       "                         time3  site4               time4  site5  \\\n",
       "session_id                                                         \n",
       "21669                      NaT    NaN                 NaT    NaN   \n",
       "54843      2013-01-12 09:07:07   55.0 2013-01-12 09:07:09    NaN   \n",
       "77292      2013-01-12 08:50:15  946.0 2013-01-12 08:50:15  946.0   \n",
       "114021     2013-01-12 08:50:18  948.0 2013-01-12 08:50:18  945.0   \n",
       "146670     2013-01-12 08:50:20  947.0 2013-01-12 08:50:21  950.0   \n",
       "\n",
       "                         time5  ...               time6  site7  \\\n",
       "session_id                      ...                              \n",
       "21669                      NaT  ...                 NaT    NaN   \n",
       "54843                      NaT  ...                 NaT    NaN   \n",
       "77292      2013-01-12 08:50:16  ... 2013-01-12 08:50:16  948.0   \n",
       "114021     2013-01-12 08:50:18  ... 2013-01-12 08:50:18  947.0   \n",
       "146670     2013-01-12 08:50:21  ... 2013-01-12 08:50:21  946.0   \n",
       "\n",
       "                         time7  site8               time8  site9  \\\n",
       "session_id                                                         \n",
       "21669                      NaT    NaN                 NaT    NaN   \n",
       "54843                      NaT    NaN                 NaT    NaN   \n",
       "77292      2013-01-12 08:50:16  784.0 2013-01-12 08:50:16  949.0   \n",
       "114021     2013-01-12 08:50:19  945.0 2013-01-12 08:50:19  946.0   \n",
       "146670     2013-01-12 08:50:21  951.0 2013-01-12 08:50:22  946.0   \n",
       "\n",
       "                         time9 site10              time10 target  \n",
       "session_id                                                        \n",
       "21669                      NaT    NaN                 NaT      0  \n",
       "54843                      NaT    NaN                 NaT      0  \n",
       "77292      2013-01-12 08:50:17  946.0 2013-01-12 08:50:17      0  \n",
       "114021     2013-01-12 08:50:19  946.0 2013-01-12 08:50:20      0  \n",
       "146670     2013-01-12 08:50:22  947.0 2013-01-12 08:50:22      0  \n",
       "\n",
       "[5 rows x 21 columns]"
      ]
     },
     "execution_count": 3,
     "metadata": {},
     "output_type": "execute_result"
    }
   ],
   "source": [
    "# Read the training and test data sets and parse dates\n",
    "train_df = pd.read_csv('train.csv',\n",
    "                       index_col='session_id', parse_dates=times)\n",
    "\n",
    "test_df = pd.read_csv('test.csv',\n",
    "                      index_col='session_id', parse_dates=times)\n",
    "\n",
    "# Sort the data by time\n",
    "train_df = train_df.sort_values(by='time1')\n",
    "\n",
    "train_df_cv = train_df.copy()\n",
    "test_df_cv = test_df.copy()\n",
    "\n",
    "# Look at the first rows of the training set\n",
    "train_df.head()"
   ]
  },
  {
   "cell_type": "code",
   "execution_count": 4,
   "id": "4c0c8949",
   "metadata": {},
   "outputs": [
    {
     "name": "stdout",
     "output_type": "stream",
     "text": [
      "<class 'pandas.core.frame.DataFrame'>\n",
      "Int64Index: 253561 entries, 21669 to 204762\n",
      "Data columns (total 21 columns):\n",
      " #   Column  Non-Null Count   Dtype         \n",
      "---  ------  --------------   -----         \n",
      " 0   site1   253561 non-null  int64         \n",
      " 1   time1   253561 non-null  datetime64[ns]\n",
      " 2   site2   250098 non-null  float64       \n",
      " 3   time2   250098 non-null  datetime64[ns]\n",
      " 4   site3   246919 non-null  float64       \n",
      " 5   time3   246919 non-null  datetime64[ns]\n",
      " 6   site4   244321 non-null  float64       \n",
      " 7   time4   244321 non-null  datetime64[ns]\n",
      " 8   site5   241829 non-null  float64       \n",
      " 9   time5   241829 non-null  datetime64[ns]\n",
      " 10  site6   239495 non-null  float64       \n",
      " 11  time6   239495 non-null  datetime64[ns]\n",
      " 12  site7   237297 non-null  float64       \n",
      " 13  time7   237297 non-null  datetime64[ns]\n",
      " 14  site8   235224 non-null  float64       \n",
      " 15  time8   235224 non-null  datetime64[ns]\n",
      " 16  site9   233084 non-null  float64       \n",
      " 17  time9   233084 non-null  datetime64[ns]\n",
      " 18  site10  231052 non-null  float64       \n",
      " 19  time10  231052 non-null  datetime64[ns]\n",
      " 20  target  253561 non-null  int64         \n",
      "dtypes: datetime64[ns](10), float64(9), int64(2)\n",
      "memory usage: 42.6 MB\n"
     ]
    }
   ],
   "source": [
    "train_df.info()"
   ]
  },
  {
   "cell_type": "markdown",
   "id": "6a8656b5",
   "metadata": {},
   "source": [
    "The training data set contains the following features:\n",
    "\n",
    "- **site1** – ID of the first visited website in the session\n",
    "- **time1** – visiting time for the first website in the session\n",
    "- ...\n",
    "- **site10** – ID of the tenth visited website in the session\n",
    "- **time10** – visiting time for the tenth website in the session\n",
    "- **target** – target variable, equals 1 for Alice's sessions, and 0 otherwise"
   ]
  },
  {
   "cell_type": "code",
   "execution_count": 5,
   "id": "9eea770a",
   "metadata": {},
   "outputs": [
    {
     "name": "stdout",
     "output_type": "stream",
     "text": [
      "Websites total: 48371\n"
     ]
    }
   ],
   "source": [
    "# Change site1, ..., site10 columns type to integer and fill NA-values with zeros\n",
    "sites = ['site'+str(i) for i in range(1, 11)]\n",
    "train_df_cv[sites] = train_df_cv[sites].fillna(0).astype('int')\n",
    "test_df_cv[sites] = test_df_cv[sites].fillna(0).astype('int')\n",
    "\n",
    "# Load websites dictionary\n",
    "with open(r\"site_dic.pkl\", \"rb\") as input_file:\n",
    "    site_dict = pickle.load(input_file)\n",
    "    \n",
    "# r before a string means \"raw\", i.e. take the string as it comes,\n",
    "# e.g. as a file path without interpreting special symbols like \\n\n",
    "\n",
    "print('Websites total:', len(site_dict))"
   ]
  },
  {
   "cell_type": "code",
   "execution_count": 6,
   "id": "216120af",
   "metadata": {},
   "outputs": [
    {
     "data": {
      "text/plain": [
       "[('www.abmecatronique.com', 25075),\n",
       " ('groups.live.com', 13997),\n",
       " ('majeureliguefootball.wordpress.com', 42436)]"
      ]
     },
     "execution_count": 6,
     "metadata": {},
     "output_type": "execute_result"
    }
   ],
   "source": [
    "# See what's in the dict\n",
    "list(site_dict.items())[:3]"
   ]
  },
  {
   "cell_type": "code",
   "execution_count": 7,
   "id": "c2430083",
   "metadata": {},
   "outputs": [
    {
     "name": "stdout",
     "output_type": "stream",
     "text": [
      "(82797, 20) (253561, 21)\n"
     ]
    }
   ],
   "source": [
    "# Size of the sets\n",
    "print(test_df.shape, train_df.shape)"
   ]
  },
  {
   "cell_type": "code",
   "execution_count": 8,
   "id": "40052fd8",
   "metadata": {},
   "outputs": [
    {
     "data": {
      "text/html": [
       "<div>\n",
       "<style scoped>\n",
       "    .dataframe tbody tr th:only-of-type {\n",
       "        vertical-align: middle;\n",
       "    }\n",
       "\n",
       "    .dataframe tbody tr th {\n",
       "        vertical-align: top;\n",
       "    }\n",
       "\n",
       "    .dataframe thead th {\n",
       "        text-align: right;\n",
       "    }\n",
       "</style>\n",
       "<table border=\"1\" class=\"dataframe\">\n",
       "  <thead>\n",
       "    <tr style=\"text-align: right;\">\n",
       "      <th></th>\n",
       "      <th>site1</th>\n",
       "      <th>time1</th>\n",
       "      <th>site2</th>\n",
       "      <th>time2</th>\n",
       "      <th>site3</th>\n",
       "      <th>time3</th>\n",
       "      <th>site4</th>\n",
       "      <th>time4</th>\n",
       "      <th>site5</th>\n",
       "      <th>time5</th>\n",
       "      <th>...</th>\n",
       "      <th>time6</th>\n",
       "      <th>site7</th>\n",
       "      <th>time7</th>\n",
       "      <th>site8</th>\n",
       "      <th>time8</th>\n",
       "      <th>site9</th>\n",
       "      <th>time9</th>\n",
       "      <th>site10</th>\n",
       "      <th>time10</th>\n",
       "      <th>target</th>\n",
       "    </tr>\n",
       "    <tr>\n",
       "      <th>session_id</th>\n",
       "      <th></th>\n",
       "      <th></th>\n",
       "      <th></th>\n",
       "      <th></th>\n",
       "      <th></th>\n",
       "      <th></th>\n",
       "      <th></th>\n",
       "      <th></th>\n",
       "      <th></th>\n",
       "      <th></th>\n",
       "      <th></th>\n",
       "      <th></th>\n",
       "      <th></th>\n",
       "      <th></th>\n",
       "      <th></th>\n",
       "      <th></th>\n",
       "      <th></th>\n",
       "      <th></th>\n",
       "      <th></th>\n",
       "      <th></th>\n",
       "      <th></th>\n",
       "    </tr>\n",
       "  </thead>\n",
       "  <tbody>\n",
       "    <tr>\n",
       "      <th>21669</th>\n",
       "      <td>56</td>\n",
       "      <td>2013-01-12 08:05:57</td>\n",
       "      <td>55</td>\n",
       "      <td>2013-01-12 08:05:57</td>\n",
       "      <td>0</td>\n",
       "      <td>NaT</td>\n",
       "      <td>0</td>\n",
       "      <td>NaT</td>\n",
       "      <td>0</td>\n",
       "      <td>NaT</td>\n",
       "      <td>...</td>\n",
       "      <td>NaT</td>\n",
       "      <td>0</td>\n",
       "      <td>NaT</td>\n",
       "      <td>0</td>\n",
       "      <td>NaT</td>\n",
       "      <td>0</td>\n",
       "      <td>NaT</td>\n",
       "      <td>0</td>\n",
       "      <td>NaT</td>\n",
       "      <td>0</td>\n",
       "    </tr>\n",
       "    <tr>\n",
       "      <th>54843</th>\n",
       "      <td>56</td>\n",
       "      <td>2013-01-12 08:37:23</td>\n",
       "      <td>55</td>\n",
       "      <td>2013-01-12 08:37:23</td>\n",
       "      <td>56</td>\n",
       "      <td>2013-01-12 09:07:07</td>\n",
       "      <td>55</td>\n",
       "      <td>2013-01-12 09:07:09</td>\n",
       "      <td>0</td>\n",
       "      <td>NaT</td>\n",
       "      <td>...</td>\n",
       "      <td>NaT</td>\n",
       "      <td>0</td>\n",
       "      <td>NaT</td>\n",
       "      <td>0</td>\n",
       "      <td>NaT</td>\n",
       "      <td>0</td>\n",
       "      <td>NaT</td>\n",
       "      <td>0</td>\n",
       "      <td>NaT</td>\n",
       "      <td>0</td>\n",
       "    </tr>\n",
       "    <tr>\n",
       "      <th>77292</th>\n",
       "      <td>946</td>\n",
       "      <td>2013-01-12 08:50:13</td>\n",
       "      <td>946</td>\n",
       "      <td>2013-01-12 08:50:14</td>\n",
       "      <td>951</td>\n",
       "      <td>2013-01-12 08:50:15</td>\n",
       "      <td>946</td>\n",
       "      <td>2013-01-12 08:50:15</td>\n",
       "      <td>946</td>\n",
       "      <td>2013-01-12 08:50:16</td>\n",
       "      <td>...</td>\n",
       "      <td>2013-01-12 08:50:16</td>\n",
       "      <td>948</td>\n",
       "      <td>2013-01-12 08:50:16</td>\n",
       "      <td>784</td>\n",
       "      <td>2013-01-12 08:50:16</td>\n",
       "      <td>949</td>\n",
       "      <td>2013-01-12 08:50:17</td>\n",
       "      <td>946</td>\n",
       "      <td>2013-01-12 08:50:17</td>\n",
       "      <td>0</td>\n",
       "    </tr>\n",
       "    <tr>\n",
       "      <th>114021</th>\n",
       "      <td>945</td>\n",
       "      <td>2013-01-12 08:50:17</td>\n",
       "      <td>948</td>\n",
       "      <td>2013-01-12 08:50:17</td>\n",
       "      <td>949</td>\n",
       "      <td>2013-01-12 08:50:18</td>\n",
       "      <td>948</td>\n",
       "      <td>2013-01-12 08:50:18</td>\n",
       "      <td>945</td>\n",
       "      <td>2013-01-12 08:50:18</td>\n",
       "      <td>...</td>\n",
       "      <td>2013-01-12 08:50:18</td>\n",
       "      <td>947</td>\n",
       "      <td>2013-01-12 08:50:19</td>\n",
       "      <td>945</td>\n",
       "      <td>2013-01-12 08:50:19</td>\n",
       "      <td>946</td>\n",
       "      <td>2013-01-12 08:50:19</td>\n",
       "      <td>946</td>\n",
       "      <td>2013-01-12 08:50:20</td>\n",
       "      <td>0</td>\n",
       "    </tr>\n",
       "    <tr>\n",
       "      <th>146670</th>\n",
       "      <td>947</td>\n",
       "      <td>2013-01-12 08:50:20</td>\n",
       "      <td>950</td>\n",
       "      <td>2013-01-12 08:50:20</td>\n",
       "      <td>948</td>\n",
       "      <td>2013-01-12 08:50:20</td>\n",
       "      <td>947</td>\n",
       "      <td>2013-01-12 08:50:21</td>\n",
       "      <td>950</td>\n",
       "      <td>2013-01-12 08:50:21</td>\n",
       "      <td>...</td>\n",
       "      <td>2013-01-12 08:50:21</td>\n",
       "      <td>946</td>\n",
       "      <td>2013-01-12 08:50:21</td>\n",
       "      <td>951</td>\n",
       "      <td>2013-01-12 08:50:22</td>\n",
       "      <td>946</td>\n",
       "      <td>2013-01-12 08:50:22</td>\n",
       "      <td>947</td>\n",
       "      <td>2013-01-12 08:50:22</td>\n",
       "      <td>0</td>\n",
       "    </tr>\n",
       "  </tbody>\n",
       "</table>\n",
       "<p>5 rows × 21 columns</p>\n",
       "</div>"
      ],
      "text/plain": [
       "            site1               time1  site2               time2  site3  \\\n",
       "session_id                                                                \n",
       "21669          56 2013-01-12 08:05:57     55 2013-01-12 08:05:57      0   \n",
       "54843          56 2013-01-12 08:37:23     55 2013-01-12 08:37:23     56   \n",
       "77292         946 2013-01-12 08:50:13    946 2013-01-12 08:50:14    951   \n",
       "114021        945 2013-01-12 08:50:17    948 2013-01-12 08:50:17    949   \n",
       "146670        947 2013-01-12 08:50:20    950 2013-01-12 08:50:20    948   \n",
       "\n",
       "                         time3  site4               time4  site5  \\\n",
       "session_id                                                         \n",
       "21669                      NaT      0                 NaT      0   \n",
       "54843      2013-01-12 09:07:07     55 2013-01-12 09:07:09      0   \n",
       "77292      2013-01-12 08:50:15    946 2013-01-12 08:50:15    946   \n",
       "114021     2013-01-12 08:50:18    948 2013-01-12 08:50:18    945   \n",
       "146670     2013-01-12 08:50:20    947 2013-01-12 08:50:21    950   \n",
       "\n",
       "                         time5  ...               time6 site7  \\\n",
       "session_id                      ...                             \n",
       "21669                      NaT  ...                 NaT     0   \n",
       "54843                      NaT  ...                 NaT     0   \n",
       "77292      2013-01-12 08:50:16  ... 2013-01-12 08:50:16   948   \n",
       "114021     2013-01-12 08:50:18  ... 2013-01-12 08:50:18   947   \n",
       "146670     2013-01-12 08:50:21  ... 2013-01-12 08:50:21   946   \n",
       "\n",
       "                         time7 site8               time8 site9  \\\n",
       "session_id                                                       \n",
       "21669                      NaT     0                 NaT     0   \n",
       "54843                      NaT     0                 NaT     0   \n",
       "77292      2013-01-12 08:50:16   784 2013-01-12 08:50:16   949   \n",
       "114021     2013-01-12 08:50:19   945 2013-01-12 08:50:19   946   \n",
       "146670     2013-01-12 08:50:21   951 2013-01-12 08:50:22   946   \n",
       "\n",
       "                         time9 site10              time10 target  \n",
       "session_id                                                        \n",
       "21669                      NaT      0                 NaT      0  \n",
       "54843                      NaT      0                 NaT      0  \n",
       "77292      2013-01-12 08:50:17    946 2013-01-12 08:50:17      0  \n",
       "114021     2013-01-12 08:50:19    946 2013-01-12 08:50:20      0  \n",
       "146670     2013-01-12 08:50:22    947 2013-01-12 08:50:22      0  \n",
       "\n",
       "[5 rows x 21 columns]"
      ]
     },
     "execution_count": 8,
     "metadata": {},
     "output_type": "execute_result"
    }
   ],
   "source": [
    "# What's inside the train\n",
    "train_df_cv.head()"
   ]
  },
  {
   "cell_type": "markdown",
   "id": "d4a1cb15",
   "metadata": {},
   "source": [
    "## Создание признаков через CountVectorizer"
   ]
  },
  {
   "cell_type": "markdown",
   "id": "fa542ccd",
   "metadata": {},
   "source": [
    "Работаем только с сайтами (пока)"
   ]
  },
  {
   "cell_type": "code",
   "execution_count": 9,
   "id": "dc8ac502",
   "metadata": {
    "scrolled": true
   },
   "outputs": [],
   "source": [
    "cv = CountVectorizer(ngram_range=(1, 5), max_features=150000)"
   ]
  },
  {
   "cell_type": "markdown",
   "id": "abe8e8cb",
   "metadata": {},
   "source": [
    "ngram_range=(1, 5) лучше, чем ngram_range=(1, 10). CountVectorizer лучше TfidfVectorizer"
   ]
  },
  {
   "cell_type": "markdown",
   "id": "68c34c74",
   "metadata": {},
   "source": [
    "Создаем файы из-за огромных размеров строк, как понимаю"
   ]
  },
  {
   "cell_type": "code",
   "execution_count": 10,
   "id": "1b85fba1",
   "metadata": {},
   "outputs": [],
   "source": [
    "train_df_cv[sites].fillna(0).to_csv('train_sessions_text.txt', \n",
    "                                 sep=' ', index=None, header=None)\n",
    "test_df_cv[sites].fillna(0).to_csv('test_sessions_text.txt', \n",
    "                                sep=' ', index=None, header=None)"
   ]
  },
  {
   "cell_type": "code",
   "execution_count": 11,
   "id": "87de45de",
   "metadata": {},
   "outputs": [
    {
     "name": "stdout",
     "output_type": "stream",
     "text": [
      "(253561, 150000) (82797, 150000)\n",
      "CPU times: total: 20.4 s\n",
      "Wall time: 20.4 s\n"
     ]
    }
   ],
   "source": [
    "%%time\n",
    "\n",
    "with open('train_sessions_text.txt') as inp_train_file:\n",
    "    X_train_cv = cv.fit_transform(inp_train_file)\n",
    "with open('test_sessions_text.txt') as inp_test_file:\n",
    "    X_test_cv = cv.transform(inp_test_file)\n",
    "\n",
    "print(X_train_cv.shape, X_test_cv.shape)\n",
    "\n",
    "# Note very big dimensions of matrices: 253561 * 50000 = 12678050000 elements in train! Only sparse matrices can take it."
   ]
  },
  {
   "cell_type": "markdown",
   "id": "3fe88556",
   "metadata": {},
   "source": [
    "## Создание временных признаков"
   ]
  },
  {
   "cell_type": "markdown",
   "id": "413cc856",
   "metadata": {},
   "source": [
    "Создадим всевозможные признаки для дальшейшего исследования"
   ]
  },
  {
   "cell_type": "code",
   "execution_count": 12,
   "id": "29e76f8b",
   "metadata": {},
   "outputs": [
    {
     "name": "stdout",
     "output_type": "stream",
     "text": [
      "<class 'pandas.core.frame.DataFrame'>\n",
      "Int64Index: 82797 entries, 1 to 82797\n",
      "Data columns (total 20 columns):\n",
      " #   Column  Non-Null Count  Dtype         \n",
      "---  ------  --------------  -----         \n",
      " 0   site1   82797 non-null  int64         \n",
      " 1   time1   82797 non-null  datetime64[ns]\n",
      " 2   site2   81308 non-null  float64       \n",
      " 3   time2   81308 non-null  datetime64[ns]\n",
      " 4   site3   80075 non-null  float64       \n",
      " 5   time3   80075 non-null  datetime64[ns]\n",
      " 6   site4   79182 non-null  float64       \n",
      " 7   time4   79182 non-null  datetime64[ns]\n",
      " 8   site5   78341 non-null  float64       \n",
      " 9   time5   78341 non-null  datetime64[ns]\n",
      " 10  site6   77566 non-null  float64       \n",
      " 11  time6   77566 non-null  datetime64[ns]\n",
      " 12  site7   76840 non-null  float64       \n",
      " 13  time7   76840 non-null  datetime64[ns]\n",
      " 14  site8   76151 non-null  float64       \n",
      " 15  time8   76151 non-null  datetime64[ns]\n",
      " 16  site9   75484 non-null  float64       \n",
      " 17  time9   75484 non-null  datetime64[ns]\n",
      " 18  site10  74806 non-null  float64       \n",
      " 19  time10  74806 non-null  datetime64[ns]\n",
      "dtypes: datetime64[ns](10), float64(9), int64(1)\n",
      "memory usage: 13.3 MB\n"
     ]
    }
   ],
   "source": [
    "test_df.info()"
   ]
  },
  {
   "cell_type": "code",
   "execution_count": 13,
   "id": "f7f64597",
   "metadata": {},
   "outputs": [],
   "source": [
    "def time_operations(df):\n",
    "    if 'target' in df.columns:\n",
    "        df['number_of_sites'] = ((df.notna().sum(axis=1)) / 2) - 0.5\n",
    "    else:\n",
    "        df['number_of_sites'] = ((df.notna().sum(axis=1)) / 2)\n",
    "    df['session_strt'] = df[[f\"time{i}\" for i in range(1,11)]].min(axis=1)\n",
    "    df['session_end'] = df[[f\"time{i}\" for i in range(1,11)]].max(axis=1)\n",
    "    df['session_len'] = (df['session_end'] - df['session_strt']).dt.seconds\n",
    "    df['weekday'] = df['session_strt'].dt.dayofweek\n",
    "    df['weekday'] = df['weekday'].astype('category')\n",
    "    df['start_hour'] = df['session_strt'].dt.hour\n",
    "    df['start_hour'] = df['start_hour'].astype('category')\n",
    "    df['end_hour'] = df['session_end'].dt.hour\n",
    "    df['end_hour'] = df['end_hour'].astype('category')\n",
    "    df['day'] = df['session_strt'].dt.day\n",
    "    df['day'] = df['day'].astype('category')\n",
    "    df['minute'] = df['session_strt'].dt.minute\n",
    "    df['month'] = df['session_strt'].dt.month\n",
    "#     df = df.sort_values('session_strt', ignore_index=True)\n",
    "#     df = df.reset_index()\n",
    "#     df = df.rename(columns={'index':'time_index'})\n",
    "#     df = df.sort_values('session_id', ignore_index=True)\n",
    "    return df"
   ]
  },
  {
   "cell_type": "code",
   "execution_count": 14,
   "id": "cf6ecb1f",
   "metadata": {},
   "outputs": [],
   "source": [
    "train_df= time_operations(train_df)"
   ]
  },
  {
   "cell_type": "code",
   "execution_count": 15,
   "id": "3a06df89",
   "metadata": {},
   "outputs": [],
   "source": [
    "test_df = time_operations(test_df)"
   ]
  },
  {
   "cell_type": "code",
   "execution_count": 16,
   "id": "0d58261e",
   "metadata": {
    "scrolled": true
   },
   "outputs": [
    {
     "data": {
      "text/html": [
       "<div>\n",
       "<style scoped>\n",
       "    .dataframe tbody tr th:only-of-type {\n",
       "        vertical-align: middle;\n",
       "    }\n",
       "\n",
       "    .dataframe tbody tr th {\n",
       "        vertical-align: top;\n",
       "    }\n",
       "\n",
       "    .dataframe thead th {\n",
       "        text-align: right;\n",
       "    }\n",
       "</style>\n",
       "<table border=\"1\" class=\"dataframe\">\n",
       "  <thead>\n",
       "    <tr style=\"text-align: right;\">\n",
       "      <th></th>\n",
       "      <th>site1</th>\n",
       "      <th>time1</th>\n",
       "      <th>site2</th>\n",
       "      <th>time2</th>\n",
       "      <th>site3</th>\n",
       "      <th>time3</th>\n",
       "      <th>site4</th>\n",
       "      <th>time4</th>\n",
       "      <th>site5</th>\n",
       "      <th>time5</th>\n",
       "      <th>...</th>\n",
       "      <th>number_of_sites</th>\n",
       "      <th>session_strt</th>\n",
       "      <th>session_end</th>\n",
       "      <th>session_len</th>\n",
       "      <th>weekday</th>\n",
       "      <th>start_hour</th>\n",
       "      <th>end_hour</th>\n",
       "      <th>day</th>\n",
       "      <th>minute</th>\n",
       "      <th>month</th>\n",
       "    </tr>\n",
       "    <tr>\n",
       "      <th>session_id</th>\n",
       "      <th></th>\n",
       "      <th></th>\n",
       "      <th></th>\n",
       "      <th></th>\n",
       "      <th></th>\n",
       "      <th></th>\n",
       "      <th></th>\n",
       "      <th></th>\n",
       "      <th></th>\n",
       "      <th></th>\n",
       "      <th></th>\n",
       "      <th></th>\n",
       "      <th></th>\n",
       "      <th></th>\n",
       "      <th></th>\n",
       "      <th></th>\n",
       "      <th></th>\n",
       "      <th></th>\n",
       "      <th></th>\n",
       "      <th></th>\n",
       "      <th></th>\n",
       "    </tr>\n",
       "  </thead>\n",
       "  <tbody>\n",
       "    <tr>\n",
       "      <th>21669</th>\n",
       "      <td>56</td>\n",
       "      <td>2013-01-12 08:05:57</td>\n",
       "      <td>55.0</td>\n",
       "      <td>2013-01-12 08:05:57</td>\n",
       "      <td>NaN</td>\n",
       "      <td>NaT</td>\n",
       "      <td>NaN</td>\n",
       "      <td>NaT</td>\n",
       "      <td>NaN</td>\n",
       "      <td>NaT</td>\n",
       "      <td>...</td>\n",
       "      <td>2.0</td>\n",
       "      <td>2013-01-12 08:05:57</td>\n",
       "      <td>2013-01-12 08:05:57</td>\n",
       "      <td>0</td>\n",
       "      <td>5</td>\n",
       "      <td>8</td>\n",
       "      <td>8</td>\n",
       "      <td>12</td>\n",
       "      <td>5</td>\n",
       "      <td>1</td>\n",
       "    </tr>\n",
       "    <tr>\n",
       "      <th>54843</th>\n",
       "      <td>56</td>\n",
       "      <td>2013-01-12 08:37:23</td>\n",
       "      <td>55.0</td>\n",
       "      <td>2013-01-12 08:37:23</td>\n",
       "      <td>56.0</td>\n",
       "      <td>2013-01-12 09:07:07</td>\n",
       "      <td>55.0</td>\n",
       "      <td>2013-01-12 09:07:09</td>\n",
       "      <td>NaN</td>\n",
       "      <td>NaT</td>\n",
       "      <td>...</td>\n",
       "      <td>4.0</td>\n",
       "      <td>2013-01-12 08:37:23</td>\n",
       "      <td>2013-01-12 09:07:09</td>\n",
       "      <td>1786</td>\n",
       "      <td>5</td>\n",
       "      <td>8</td>\n",
       "      <td>9</td>\n",
       "      <td>12</td>\n",
       "      <td>37</td>\n",
       "      <td>1</td>\n",
       "    </tr>\n",
       "    <tr>\n",
       "      <th>77292</th>\n",
       "      <td>946</td>\n",
       "      <td>2013-01-12 08:50:13</td>\n",
       "      <td>946.0</td>\n",
       "      <td>2013-01-12 08:50:14</td>\n",
       "      <td>951.0</td>\n",
       "      <td>2013-01-12 08:50:15</td>\n",
       "      <td>946.0</td>\n",
       "      <td>2013-01-12 08:50:15</td>\n",
       "      <td>946.0</td>\n",
       "      <td>2013-01-12 08:50:16</td>\n",
       "      <td>...</td>\n",
       "      <td>10.0</td>\n",
       "      <td>2013-01-12 08:50:13</td>\n",
       "      <td>2013-01-12 08:50:17</td>\n",
       "      <td>4</td>\n",
       "      <td>5</td>\n",
       "      <td>8</td>\n",
       "      <td>8</td>\n",
       "      <td>12</td>\n",
       "      <td>50</td>\n",
       "      <td>1</td>\n",
       "    </tr>\n",
       "    <tr>\n",
       "      <th>114021</th>\n",
       "      <td>945</td>\n",
       "      <td>2013-01-12 08:50:17</td>\n",
       "      <td>948.0</td>\n",
       "      <td>2013-01-12 08:50:17</td>\n",
       "      <td>949.0</td>\n",
       "      <td>2013-01-12 08:50:18</td>\n",
       "      <td>948.0</td>\n",
       "      <td>2013-01-12 08:50:18</td>\n",
       "      <td>945.0</td>\n",
       "      <td>2013-01-12 08:50:18</td>\n",
       "      <td>...</td>\n",
       "      <td>10.0</td>\n",
       "      <td>2013-01-12 08:50:17</td>\n",
       "      <td>2013-01-12 08:50:20</td>\n",
       "      <td>3</td>\n",
       "      <td>5</td>\n",
       "      <td>8</td>\n",
       "      <td>8</td>\n",
       "      <td>12</td>\n",
       "      <td>50</td>\n",
       "      <td>1</td>\n",
       "    </tr>\n",
       "    <tr>\n",
       "      <th>146670</th>\n",
       "      <td>947</td>\n",
       "      <td>2013-01-12 08:50:20</td>\n",
       "      <td>950.0</td>\n",
       "      <td>2013-01-12 08:50:20</td>\n",
       "      <td>948.0</td>\n",
       "      <td>2013-01-12 08:50:20</td>\n",
       "      <td>947.0</td>\n",
       "      <td>2013-01-12 08:50:21</td>\n",
       "      <td>950.0</td>\n",
       "      <td>2013-01-12 08:50:21</td>\n",
       "      <td>...</td>\n",
       "      <td>10.0</td>\n",
       "      <td>2013-01-12 08:50:20</td>\n",
       "      <td>2013-01-12 08:50:22</td>\n",
       "      <td>2</td>\n",
       "      <td>5</td>\n",
       "      <td>8</td>\n",
       "      <td>8</td>\n",
       "      <td>12</td>\n",
       "      <td>50</td>\n",
       "      <td>1</td>\n",
       "    </tr>\n",
       "  </tbody>\n",
       "</table>\n",
       "<p>5 rows × 31 columns</p>\n",
       "</div>"
      ],
      "text/plain": [
       "            site1               time1  site2               time2  site3  \\\n",
       "session_id                                                                \n",
       "21669          56 2013-01-12 08:05:57   55.0 2013-01-12 08:05:57    NaN   \n",
       "54843          56 2013-01-12 08:37:23   55.0 2013-01-12 08:37:23   56.0   \n",
       "77292         946 2013-01-12 08:50:13  946.0 2013-01-12 08:50:14  951.0   \n",
       "114021        945 2013-01-12 08:50:17  948.0 2013-01-12 08:50:17  949.0   \n",
       "146670        947 2013-01-12 08:50:20  950.0 2013-01-12 08:50:20  948.0   \n",
       "\n",
       "                         time3  site4               time4  site5  \\\n",
       "session_id                                                         \n",
       "21669                      NaT    NaN                 NaT    NaN   \n",
       "54843      2013-01-12 09:07:07   55.0 2013-01-12 09:07:09    NaN   \n",
       "77292      2013-01-12 08:50:15  946.0 2013-01-12 08:50:15  946.0   \n",
       "114021     2013-01-12 08:50:18  948.0 2013-01-12 08:50:18  945.0   \n",
       "146670     2013-01-12 08:50:20  947.0 2013-01-12 08:50:21  950.0   \n",
       "\n",
       "                         time5  ...  number_of_sites        session_strt  \\\n",
       "session_id                      ...                                        \n",
       "21669                      NaT  ...              2.0 2013-01-12 08:05:57   \n",
       "54843                      NaT  ...              4.0 2013-01-12 08:37:23   \n",
       "77292      2013-01-12 08:50:16  ...             10.0 2013-01-12 08:50:13   \n",
       "114021     2013-01-12 08:50:18  ...             10.0 2013-01-12 08:50:17   \n",
       "146670     2013-01-12 08:50:21  ...             10.0 2013-01-12 08:50:20   \n",
       "\n",
       "                   session_end session_len  weekday start_hour  end_hour day  \\\n",
       "session_id                                                                     \n",
       "21669      2013-01-12 08:05:57           0        5          8         8  12   \n",
       "54843      2013-01-12 09:07:09        1786        5          8         9  12   \n",
       "77292      2013-01-12 08:50:17           4        5          8         8  12   \n",
       "114021     2013-01-12 08:50:20           3        5          8         8  12   \n",
       "146670     2013-01-12 08:50:22           2        5          8         8  12   \n",
       "\n",
       "            minute month  \n",
       "session_id                \n",
       "21669            5     1  \n",
       "54843           37     1  \n",
       "77292           50     1  \n",
       "114021          50     1  \n",
       "146670          50     1  \n",
       "\n",
       "[5 rows x 31 columns]"
      ]
     },
     "execution_count": 16,
     "metadata": {},
     "output_type": "execute_result"
    }
   ],
   "source": [
    "train_df.head()"
   ]
  },
  {
   "cell_type": "code",
   "execution_count": 17,
   "id": "fbd2eb36",
   "metadata": {},
   "outputs": [],
   "source": [
    "alice = train_df['target'] == 1"
   ]
  },
  {
   "cell_type": "markdown",
   "id": "f74a44bf",
   "metadata": {},
   "source": [
    "### Дата сессии"
   ]
  },
  {
   "cell_type": "code",
   "execution_count": 18,
   "id": "16546638",
   "metadata": {},
   "outputs": [
    {
     "data": {
      "image/png": "[encoded data removed]",
      "text/plain": [
       "<Figure size 720x432 with 1 Axes>"
      ]
     },
     "metadata": {},
     "output_type": "display_data"
    }
   ],
   "source": [
    "ax, fig = plt.subplots(figsize=(10,6))\n",
    "plt.hist(train_df.session_strt, bins=100,rwidth=0.9,color='peru')\n",
    "\n",
    "plt.title('Session calendar, train')\n",
    "plt.show()"
   ]
  },
  {
   "cell_type": "code",
   "execution_count": 19,
   "id": "b659317e",
   "metadata": {},
   "outputs": [
    {
     "data": {
      "image/png": "[encoded data removed]",
      "text/plain": [
       "<Figure size 720x432 with 1 Axes>"
      ]
     },
     "metadata": {},
     "output_type": "display_data"
    }
   ],
   "source": [
    "ax, fig = plt.subplots(figsize=(10,6))\n",
    "plt.hist(test_df.session_strt, bins=100,rwidth=0.9,color='peru')\n",
    "\n",
    "plt.title('Session calendar, test')\n",
    "plt.show()"
   ]
  },
  {
   "cell_type": "code",
   "execution_count": 20,
   "id": "7d9c0a67",
   "metadata": {},
   "outputs": [
    {
     "data": {
      "image/png": "[encoded data removed]",
      "text/plain": [
       "<Figure size 720x432 with 2 Axes>"
      ]
     },
     "metadata": {},
     "output_type": "display_data"
    }
   ],
   "source": [
    "fig, ax = plt.subplots(1, 2, figsize=(10, 6))\n",
    "\n",
    "ax[0].hist(train_df[alice].session_strt, bins=100,rwidth=0.9, color='teal', label='Alice')\n",
    "ax[1].hist(train_df[~alice].session_strt, bins=100,rwidth=0.9, color='maroon', label='Users')\n",
    "\n",
    "ax[0].title.set_text('Alice\\'s session calendar')\n",
    "ax[1].title.set_text('Users\\s day session calendar')\n",
    "plt.tight_layout()\n",
    "plt.show()"
   ]
  },
  {
   "cell_type": "markdown",
   "id": "e27996e4",
   "metadata": {},
   "source": [
    "### Продолжительность сессии ⚠️"
   ]
  },
  {
   "cell_type": "code",
   "execution_count": 21,
   "id": "7f7f79db",
   "metadata": {},
   "outputs": [
    {
     "data": {
      "image/png": "[encoded data removed]",
      "text/plain": [
       "<Figure size 720x432 with 1 Axes>"
      ]
     },
     "metadata": {},
     "output_type": "display_data"
    }
   ],
   "source": [
    "ax, fig = plt.subplots(figsize=(10,6))\n",
    "plt.hist(np.log(train_df.session_len + 1), bins=30,rwidth=0.9,color='peru')\n",
    "\n",
    "plt.title('Session duration, s')\n",
    "plt.show()"
   ]
  },
  {
   "cell_type": "code",
   "execution_count": 22,
   "id": "ed7776c4",
   "metadata": {},
   "outputs": [
    {
     "data": {
      "image/png": "[encoded data removed]",
      "text/plain": [
       "<Figure size 720x432 with 2 Axes>"
      ]
     },
     "metadata": {},
     "output_type": "display_data"
    }
   ],
   "source": [
    "fig, ax = plt.subplots(1, 2, figsize=(10, 6))\n",
    "\n",
    "ax[0].hist(np.log(train_df[alice].session_len + 1), bins=31,rwidth=0.9, color='teal', label='Alice')\n",
    "ax[1].hist(np.log(train_df[~alice].session_len + 1), bins=31,rwidth=0.9, color='maroon', label='Users')\n",
    "\n",
    "ax[0].title.set_text('Alice\\'s session duration')\n",
    "ax[1].title.set_text('Users\\s day session duration')\n",
    "plt.tight_layout()\n",
    "plt.show()"
   ]
  },
  {
   "cell_type": "markdown",
   "id": "0c360bb0",
   "metadata": {},
   "source": [
    "Отличается несильно, настолько, что пришлось брать логарифм, чтобы было нагляднее. Пока можно не брать"
   ]
  },
  {
   "cell_type": "code",
   "execution_count": null,
   "id": "217c6e34",
   "metadata": {},
   "outputs": [],
   "source": []
  },
  {
   "cell_type": "markdown",
   "id": "b6bd4573",
   "metadata": {},
   "source": [
    "### День недели ✔️"
   ]
  },
  {
   "cell_type": "code",
   "execution_count": 23,
   "id": "bd0411e3",
   "metadata": {},
   "outputs": [
    {
     "data": {
      "image/png": "[encoded data removed]",
      "text/plain": [
       "<Figure size 720x432 with 1 Axes>"
      ]
     },
     "metadata": {},
     "output_type": "display_data"
    }
   ],
   "source": [
    "ax, fig = plt.subplots(figsize=(10,6))\n",
    "plt.hist(train_df.weekday, bins=7,rwidth=0.9,color='peru')\n",
    "plt.xticks(ticks=[i - 0.5 for i in np.linspace(1,6,7)], labels=['Mon','Tue','Wed','Thu','Fri','Sat','Sun'])\n",
    "plt.title('Main weekday schedule')\n",
    "plt.show()"
   ]
  },
  {
   "cell_type": "code",
   "execution_count": 24,
   "id": "620ea2fb",
   "metadata": {},
   "outputs": [
    {
     "data": {
      "image/png": "[encoded data removed]",
      "text/plain": [
       "<Figure size 720x432 with 2 Axes>"
      ]
     },
     "metadata": {},
     "output_type": "display_data"
    }
   ],
   "source": [
    "fig, ax = plt.subplots(1, 2, figsize=(10,6))\n",
    "ax[0].hist(train_df[alice].weekday, bins=7, color='teal', label='Alice', rwidth=0.9)\n",
    "ax[1].hist(train_df[~alice].weekday, bins=7, color='maroon', label='Users', rwidth=0.9)\n",
    "ax[0].set_xticks(ticks=[i - 0.5 for i in np.linspace(1,6,7)])\n",
    "ax[1].set_xticks(ticks=[i - 0.5 for i in np.linspace(1,6,7)])\n",
    "ax[0].set_xticklabels(labels=['Mon','Tue','Wed','Thu','Fri','Sat','Sun'])\n",
    "ax[1].set_xticklabels(labels=['Mon','Tue','Wed','Thu','Fri','Sat','Sun'])\n",
    "ax[0].title.set_text('Alice weekday schedule')\n",
    "ax[1].title.set_text('Users weekday schedule')\n",
    "plt.tight_layout()\n",
    "plt.show()"
   ]
  },
  {
   "cell_type": "markdown",
   "id": "6aeea5e5",
   "metadata": {},
   "source": [
    "Элис не работает по выходным, редко в среду, чаще всего в понедельник. Данные отличаются, поэтому эту фичу оставляем"
   ]
  },
  {
   "cell_type": "markdown",
   "id": "bb91d440",
   "metadata": {},
   "source": [
    "### Час начала сессии ✔️"
   ]
  },
  {
   "cell_type": "code",
   "execution_count": 25,
   "id": "c3d61e83",
   "metadata": {},
   "outputs": [
    {
     "data": {
      "image/png": "[encoded data removed]",
      "text/plain": [
       "<Figure size 720x432 with 1 Axes>"
      ]
     },
     "metadata": {},
     "output_type": "display_data"
    }
   ],
   "source": [
    "ax, fig = plt.subplots(figsize=(10,6))\n",
    "plt.hist(train_df.start_hour, bins=17,rwidth=0.9,color='peru')\n",
    "plt.xticks(ticks=[i + 0.5 for i in np.linspace(7,22,17)], labels=[i for i in np.linspace(7, 23, 17)])\n",
    "plt.title('Start hour schedule')\n",
    "plt.show()"
   ]
  },
  {
   "cell_type": "code",
   "execution_count": 26,
   "id": "69358212",
   "metadata": {
    "scrolled": false
   },
   "outputs": [
    {
     "data": {
      "image/png": "[encoded data removed]",
      "text/plain": [
       "<Figure size 720x432 with 2 Axes>"
      ]
     },
     "metadata": {},
     "output_type": "display_data"
    }
   ],
   "source": [
    "fig, ax = plt.subplots(1, 2, figsize=(10, 6))\n",
    "\n",
    "ax[0].hist(train_df[alice].start_hour, bins=17,rwidth=0.9, color='teal', label='Alice')\n",
    "ax[1].hist(train_df[~alice].start_hour, bins=17,rwidth=0.9, color='maroon', label='Users')\n",
    "\n",
    "ax[0].set_xticks(ticks=[i + 0.5 for i in np.linspace(7,22,17)])\n",
    "ax[1].set_xticks(ticks=[i + 0.5 for i in np.linspace(7,22,17)])\n",
    "ax[0].set_xticklabels(labels=[i for i in np.linspace(7, 23, 17)])\n",
    "ax[1].set_xticklabels(labels=[i for i in np.linspace(7, 23, 17)])\n",
    "\n",
    "ax[0].title.set_text('Alice start hour schedule')\n",
    "ax[1].title.set_text('Users start hour schedule')\n",
    "plt.tight_layout()\n",
    "plt.show()"
   ]
  },
  {
   "cell_type": "markdown",
   "id": "72cb42a6",
   "metadata": {},
   "source": [
    "Оставляем"
   ]
  },
  {
   "cell_type": "markdown",
   "id": "9a2760f2",
   "metadata": {},
   "source": [
    "### Час конца сессии ❌"
   ]
  },
  {
   "cell_type": "code",
   "execution_count": 27,
   "id": "4445c401",
   "metadata": {},
   "outputs": [
    {
     "data": {
      "image/png": "[encoded data removed]",
      "text/plain": [
       "<Figure size 720x432 with 1 Axes>"
      ]
     },
     "metadata": {},
     "output_type": "display_data"
    }
   ],
   "source": [
    "ax, fig = plt.subplots(figsize=(10,6))\n",
    "plt.hist(train_df.end_hour, bins=17,rwidth=0.9,color='peru')\n",
    "plt.xticks(ticks=[i + 0.5 for i in np.linspace(7,22,17)], labels=[i for i in np.linspace(7, 23, 17)])\n",
    "plt.title('End hour schedule')\n",
    "plt.show()"
   ]
  },
  {
   "cell_type": "code",
   "execution_count": 28,
   "id": "9246f210",
   "metadata": {},
   "outputs": [
    {
     "data": {
      "image/png": "[encoded data removed]",
      "text/plain": [
       "<Figure size 720x432 with 2 Axes>"
      ]
     },
     "metadata": {},
     "output_type": "display_data"
    }
   ],
   "source": [
    "fig, ax = plt.subplots(1, 2, figsize=(10, 6))\n",
    "\n",
    "ax[0].hist(train_df[alice].end_hour, bins=17,rwidth=0.9, color='teal', label='Alice')\n",
    "ax[1].hist(train_df[~alice].end_hour, bins=17,rwidth=0.9, color='maroon', label='Users')\n",
    "\n",
    "ax[0].set_xticks(ticks=[i + 0.5 for i in np.linspace(7,22,17)])\n",
    "ax[1].set_xticks(ticks=[i + 0.5 for i in np.linspace(7,22,17)])\n",
    "ax[0].set_xticklabels(labels=[i for i in np.linspace(7, 23, 17)])\n",
    "ax[1].set_xticklabels(labels=[i for i in np.linspace(7, 23, 17)])\n",
    "\n",
    "ax[0].title.set_text('Alice end hour schedule')\n",
    "ax[1].title.set_text('Users end hour schedule')\n",
    "plt.tight_layout()\n",
    "plt.show()"
   ]
  },
  {
   "cell_type": "markdown",
   "id": "9433ad32",
   "metadata": {},
   "source": [
    "Все то же самое, что и с часом начала сессии (логично, ведь сессия длится максимум полчаса). Эта фича уйдет, поскольку сильно коррелирует с часом начала сессии"
   ]
  },
  {
   "cell_type": "markdown",
   "id": "2984365e",
   "metadata": {},
   "source": [
    "### День начала сессии ✔️"
   ]
  },
  {
   "cell_type": "code",
   "execution_count": 29,
   "id": "144cdb86",
   "metadata": {},
   "outputs": [
    {
     "data": {
      "image/png": "[encoded data removed]",
      "text/plain": [
       "<Figure size 720x432 with 1 Axes>"
      ]
     },
     "metadata": {},
     "output_type": "display_data"
    }
   ],
   "source": [
    "ax, fig = plt.subplots(figsize=(10,6))\n",
    "plt.hist(train_df.day, bins=31,rwidth=0.9,color='peru')\n",
    "plt.title('Day schedule')\n",
    "plt.show()"
   ]
  },
  {
   "cell_type": "code",
   "execution_count": 30,
   "id": "f3c96b43",
   "metadata": {},
   "outputs": [
    {
     "data": {
      "image/png": "[encoded data removed]",
      "text/plain": [
       "<Figure size 720x432 with 2 Axes>"
      ]
     },
     "metadata": {},
     "output_type": "display_data"
    }
   ],
   "source": [
    "fig, ax = plt.subplots(1, 2, figsize=(10, 6))\n",
    "\n",
    "ax[0].hist(train_df[alice].day, bins=31,rwidth=0.9, color='teal', label='Alice')\n",
    "ax[1].hist(train_df[~alice].day, bins=31,rwidth=0.9, color='maroon', label='Users')\n",
    "\n",
    "ax[0].title.set_text('Alice day of month schedule')\n",
    "ax[1].title.set_text('Users day of month schedule')\n",
    "plt.tight_layout()\n",
    "plt.show()"
   ]
  },
  {
   "cell_type": "markdown",
   "id": "912a35a4",
   "metadata": {},
   "source": [
    "Есть дни, в которых Элис неактивна совсем. Если оставить фичу в чистом виде, она снижает скор на валидации. Можно попробовать создать фичу \"Происходит ли сессия в ... дни\""
   ]
  },
  {
   "cell_type": "code",
   "execution_count": 31,
   "id": "4f7569dc",
   "metadata": {},
   "outputs": [],
   "source": [
    "train_df[\"online_day\"] = train_df['time1'].apply(lambda ts: ts.day in train_df[alice].day.unique()).astype(np.int8)"
   ]
  },
  {
   "cell_type": "code",
   "execution_count": 32,
   "id": "5f4b5e9b",
   "metadata": {},
   "outputs": [],
   "source": [
    "test_df[\"online_day\"] = test_df['time1'].apply(lambda ts: ts.day in train_df[alice].day.unique()).astype(np.int8)"
   ]
  },
  {
   "cell_type": "markdown",
   "id": "4d505e8b",
   "metadata": {},
   "source": [
    "### Минута начала сессии ⚠️"
   ]
  },
  {
   "cell_type": "code",
   "execution_count": 33,
   "id": "1310a6f5",
   "metadata": {},
   "outputs": [
    {
     "data": {
      "image/png": "[encoded data removed]",
      "text/plain": [
       "<Figure size 720x432 with 1 Axes>"
      ]
     },
     "metadata": {},
     "output_type": "display_data"
    }
   ],
   "source": [
    "ax, fig = plt.subplots(figsize=(10,6))\n",
    "plt.hist(train_df.minute, bins=60,rwidth=0.9,color='peru')\n",
    "plt.title('Minute schedule')\n",
    "plt.show()"
   ]
  },
  {
   "cell_type": "code",
   "execution_count": 34,
   "id": "1e7b036f",
   "metadata": {},
   "outputs": [
    {
     "data": {
      "image/png": "[encoded data removed]",
      "text/plain": [
       "<Figure size 720x432 with 2 Axes>"
      ]
     },
     "metadata": {},
     "output_type": "display_data"
    }
   ],
   "source": [
    "fig, ax = plt.subplots(1, 2, figsize=(10, 6))\n",
    "\n",
    "ax[0].hist(train_df[alice].minute, bins=60,rwidth=0.9, color='teal', label='Alice')\n",
    "ax[1].hist(train_df[~alice].minute, bins=60,rwidth=0.9, color='maroon', label='Users')\n",
    "\n",
    "ax[0].title.set_text('Alice minute of hour schedule')\n",
    "ax[1].title.set_text('Users minute of hour schedule')\n",
    "plt.tight_layout()\n",
    "plt.show()"
   ]
  },
  {
   "cell_type": "markdown",
   "id": "d73ac7b3",
   "metadata": {},
   "source": [
    "Поведение Элис и здесь отличается, но не существенно. На валидации скор падает, поэтому эту фичу убираем"
   ]
  },
  {
   "cell_type": "markdown",
   "id": "cbfccdb6",
   "metadata": {},
   "source": [
    "### Месяц сессии ⚠️"
   ]
  },
  {
   "cell_type": "code",
   "execution_count": 35,
   "id": "dc62aded",
   "metadata": {},
   "outputs": [
    {
     "data": {
      "image/png": "[encoded data removed]",
      "text/plain": [
       "<Figure size 720x432 with 1 Axes>"
      ]
     },
     "metadata": {},
     "output_type": "display_data"
    }
   ],
   "source": [
    "ax, fig = plt.subplots(figsize=(10,6))\n",
    "plt.hist(train_df.month, bins=12,rwidth=0.9,color='peru')\n",
    "plt.xticks(ticks=[i - 0.5 for i in np.linspace(1,12,12)], labels=[i for i in np.linspace(1,12,12)])\n",
    "plt.title('Month schedule')\n",
    "plt.show()"
   ]
  },
  {
   "cell_type": "code",
   "execution_count": 36,
   "id": "4099c4ec",
   "metadata": {},
   "outputs": [
    {
     "data": {
      "image/png": "[encoded data removed]",
      "text/plain": [
       "<Figure size 720x432 with 2 Axes>"
      ]
     },
     "metadata": {},
     "output_type": "display_data"
    }
   ],
   "source": [
    "fig, ax = plt.subplots(1, 2, figsize=(10, 6))\n",
    "\n",
    "ax[0].hist(train_df[alice].month, bins=12,rwidth=0.9, color='teal', label='Alice')\n",
    "ax[1].hist(train_df[~alice].month, bins=12,rwidth=0.9, color='maroon', label='Users')\n",
    "\n",
    "ax[0].set_xticks(ticks=[i + 0.4 for i in np.linspace(1,12,12)])\n",
    "ax[1].set_xticks(ticks=[i + 0.4 for i in np.linspace(1,12,12)])\n",
    "ax[0].set_xticklabels(labels=[i for i in np.linspace(1,12,12)])\n",
    "ax[1].set_xticklabels(labels=[i for i in np.linspace(1,12,12)])\n",
    "\n",
    "ax[0].title.set_text('Alice month schedule')\n",
    "ax[1].title.set_text('Users month schedule')\n",
    "plt.tight_layout()\n",
    "plt.show()"
   ]
  },
  {
   "cell_type": "markdown",
   "id": "527bf8f2",
   "metadata": {},
   "source": [
    "Отличия небольшие, возможно потом уберем"
   ]
  },
  {
   "cell_type": "markdown",
   "id": "d490cc92",
   "metadata": {},
   "source": [
    "## Создаем dummy-переменные"
   ]
  },
  {
   "cell_type": "code",
   "execution_count": 37,
   "id": "e581ccc6",
   "metadata": {},
   "outputs": [],
   "source": [
    "def get_dummies(train_df):\n",
    "    col_names = ['weekday','start_hour'] #, 'minute'] #, 'day']\n",
    "    train_df = train_df[col_names]\n",
    "    train_df_time = pd.get_dummies(train_df, columns=col_names,\n",
    "                           drop_first=True)\n",
    "    train_df_time = train_df_time.dropna()\n",
    "    return train_df_time"
   ]
  },
  {
   "cell_type": "code",
   "execution_count": 38,
   "id": "67e93b82",
   "metadata": {},
   "outputs": [],
   "source": [
    "train_df_time  = get_dummies(train_df)\n",
    "test_df_time = get_dummies(test_df)"
   ]
  },
  {
   "cell_type": "markdown",
   "id": "d105523c",
   "metadata": {},
   "source": [
    "## Склеиваем признаки"
   ]
  },
  {
   "cell_type": "code",
   "execution_count": 39,
   "id": "e79458e9",
   "metadata": {},
   "outputs": [],
   "source": [
    "def add_feature(X, feature_to_add):\n",
    "    \"\"\"\n",
    "    Returns sparse feature matrix with added feature.\n",
    "    feature_to_add can also be a list of features.\n",
    "    \"\"\"\n",
    "    return hstack([X, csr_matrix(feature_to_add)], 'csr')"
   ]
  },
  {
   "cell_type": "code",
   "execution_count": 40,
   "id": "810c0d49",
   "metadata": {},
   "outputs": [],
   "source": [
    "# X_train = add_feature(X_train_cv, train_df_time)\n",
    "# X_test = add_feature(X_test_cv, test_df_time)"
   ]
  },
  {
   "cell_type": "code",
   "execution_count": 41,
   "id": "4c782110",
   "metadata": {},
   "outputs": [],
   "source": [
    "X_train_pre = add_feature(X_train_cv, train_df_time)\n",
    "X_test_pre = add_feature(X_test_cv, test_df_time)\n",
    "\n",
    "X_train = add_feature(X_train_pre, train_df[['online_day']])\n",
    "X_test = add_feature(X_test_pre, test_df[['online_day']])"
   ]
  },
  {
   "cell_type": "markdown",
   "id": "92092020",
   "metadata": {},
   "source": [
    "# Model Training"
   ]
  },
  {
   "cell_type": "code",
   "execution_count": 42,
   "id": "8ad37270",
   "metadata": {},
   "outputs": [],
   "source": [
    "def get_auc_lr_valid(X, y, C=1, seed=17, ratio = 0.9):\n",
    "    \n",
    "    # Split the data into the training and validation sets\n",
    "    idx = int(round(X.shape[0] * ratio))\n",
    "    \n",
    "    # Classifier training\n",
    "    lr = LogisticRegression(C=0.5994842503189409, random_state=seed,\n",
    "                            multi_class='auto', penalty='l1', solver='liblinear', max_iter=1000).fit(X[:idx, :], y[:idx])\n",
    "#     # Classifier training\n",
    "#     lr = LogisticRegression(C=C, random_state=seed, solver='lbfgs', max_iter=1000).fit(X[:idx, :], y[:idx])\n",
    "\n",
    "    # Prediction for validation set\n",
    "    y_pred = lr.predict_proba(X[idx:, :])[:, 1]\n",
    "    \n",
    "    # Calculate the quality\n",
    "    score = roc_auc_score(y[idx:], y_pred)\n",
    "    \n",
    "    return score"
   ]
  },
  {
   "cell_type": "code",
   "execution_count": 43,
   "id": "7243b275",
   "metadata": {},
   "outputs": [],
   "source": [
    "# Our target variable\n",
    "y_train = train_df_cv['target'].values"
   ]
  },
  {
   "cell_type": "markdown",
   "id": "70fbf32c",
   "metadata": {},
   "source": [
    "Подбираем параметры для логистической регрессии"
   ]
  },
  {
   "cell_type": "code",
   "execution_count": 44,
   "id": "18ce875c",
   "metadata": {},
   "outputs": [
    {
     "name": "stdout",
     "output_type": "stream",
     "text": [
      "0.9778036522566652\n",
      "CPU times: total: 25.2 s\n",
      "Wall time: 25.2 s\n"
     ]
    }
   ],
   "source": [
    "%%time\n",
    "# Calculate metric on the validation set. 90% of train data for training. 10% for validation.\n",
    "\n",
    "print(get_auc_lr_valid(X_train, y_train))"
   ]
  },
  {
   "cell_type": "markdown",
   "id": "292c8f5a",
   "metadata": {},
   "source": [
    "## Подбираем параметры"
   ]
  },
  {
   "cell_type": "code",
   "execution_count": 45,
   "id": "681a5e45",
   "metadata": {},
   "outputs": [],
   "source": [
    "# tss = TimeSeriesSplit(n_splits=10)\n",
    "\n",
    "\n",
    "\n",
    "# from hyperopt import fmin, hp, tpe, Trials, space_eval, STATUS_OK\n",
    "\n",
    "# def objective(search_space):\n",
    "#     model = LogisticRegression(C=search_space['C'], solver=search_space['solver'],\n",
    "#                                multi_class=search_space['multi_class'], penalty=search_space['penalty'],\n",
    "#                                random_state=17, max_iter=500, n_jobs=-1)\n",
    "#     roc_auc = cross_val_score(model, X_train, y_train, cv=tss, scoring='roc_auc').mean()\n",
    "#     return {'loss': roc_auc, 'status': STATUS_OK}\n",
    "\n",
    "# search_space = {\n",
    "#                  'C':np.logspace(-2, 2, 10),  # задаем возможные параметры для С\n",
    "#                 'solver':hp.choice['lbfgs', 'liblinear'],  # задаем возможные параметры для солвера\n",
    "#                 'multi_class':hp.choice['auto', 'ovr'],\n",
    "#                 'penalty':hp.choice['l1', 'l2', 'elasticnet', 'none']\n",
    "#                 }\n",
    "\n",
    "# algorithm=tpe.suggest  # использовать Tree of Parzen Estimators\n",
    "\n",
    "# best_params = fmin(\n",
    "#   fn=objective,\n",
    "#   space=search_space,\n",
    "#   algo=algorithm,\n",
    "#   max_evals=25\n",
    "# )\n",
    "\n",
    "# space_eval(search_space, best_params)"
   ]
  },
  {
   "cell_type": "code",
   "execution_count": 46,
   "id": "96c88194",
   "metadata": {},
   "outputs": [],
   "source": [
    "lr = LogisticRegression(C=1, random_state=17,\n",
    "                            multi_class='ovr', penalty='l1', solver='liblinear', max_iter=1000)\n",
    "tss = TimeSeriesSplit(n_splits=10)\n",
    "\n",
    "c_params = np.logspace(-2, 2, 10)  # задаем возможные параметры для С\n",
    "solver_params = ['lbfgs', 'liblinear']  # задаем возможные параметры для солвера\n",
    "\n",
    "gs_model = GridSearchCV(estimator=lr, \n",
    "                                   param_grid={'C': c_params, 'solver':solver_params},\n",
    "                                   scoring='roc_auc', \n",
    "                                   n_jobs=-1, \n",
    "                                   cv=tss, \n",
    "                                   verbose=1)"
   ]
  },
  {
   "cell_type": "code",
   "execution_count": 47,
   "id": "4ad6dd4c",
   "metadata": {},
   "outputs": [],
   "source": [
    "# %%time\n",
    "# gs_model.fit(X_train, y_train)"
   ]
  },
  {
   "cell_type": "code",
   "execution_count": 48,
   "id": "f1621941",
   "metadata": {},
   "outputs": [],
   "source": [
    "# gs_model.best_score_, gs_model.best_params_\n",
    "\n",
    "# (0.9397987760651763, {'C': 0.5994842503189409, 'solver': 'liblinear'})"
   ]
  },
  {
   "cell_type": "markdown",
   "id": "26262f0b",
   "metadata": {},
   "source": [
    "## Выводим результат"
   ]
  },
  {
   "cell_type": "code",
   "execution_count": 49,
   "id": "d63f551f",
   "metadata": {},
   "outputs": [],
   "source": [
    "# Function for writing predictions to a file\n",
    "def write_to_submission_file(predicted_labels, out_file,\n",
    "                             target='target', index_label=\"session_id\"):\n",
    "    predicted_df = pd.DataFrame(predicted_labels,\n",
    "                                index = range(1, predicted_labels.shape[0] + 1),\n",
    "                                columns=[target])\n",
    "    predicted_df.to_csv(out_file, index_label=index_label)"
   ]
  },
  {
   "cell_type": "code",
   "execution_count": 50,
   "id": "5c22ec44",
   "metadata": {},
   "outputs": [],
   "source": [
    "# Train the model on the whole training data set\n",
    "# Use random_state=17 for reproducibility\n",
    "# Parameter C=1 by default, but here we set it explicitly\n",
    "\n",
    "lr = LogisticRegression(C=1, random_state=17, multi_class='ovr', penalty='l1', solver='liblinear',\n",
    "                        max_iter=1000).fit(X_train, y_train)\n",
    "\n",
    "# Make a prediction for test data set\n",
    "y_test = lr.predict_proba(X_test)[:, 1]\n",
    "\n",
    "# Write it to the file which could be submitted\n",
    "write_to_submission_file(y_test, 'baseline_1.csv')"
   ]
  },
  {
   "cell_type": "markdown",
   "id": "87bf4c28",
   "metadata": {},
   "source": [
    "В итоге при C=1 наивысший скор"
   ]
  },
  {
   "cell_type": "code",
   "execution_count": null,
   "id": "c1ee7d61",
   "metadata": {},
   "outputs": [],
   "source": []
  }
 ],
 "metadata": {
  "kernelspec": {
   "display_name": "Python 3 (ipykernel)",
   "language": "python",
   "name": "python3"
  },
  "language_info": {
   "codemirror_mode": {
    "name": "ipython",
    "version": 3
   },
   "file_extension": ".py",
   "mimetype": "text/x-python",
   "name": "python",
   "nbconvert_exporter": "python",
   "pygments_lexer": "ipython3",
   "version": "3.9.12"
  },
  "toc": {
   "base_numbering": 1,
   "nav_menu": {},
   "number_sections": true,
   "sideBar": true,
   "skip_h1_title": false,
   "title_cell": "Table of Contents",
   "title_sidebar": "Contents",
   "toc_cell": false,
   "toc_position": {
    "height": "calc(100% - 180px)",
    "left": "10px",
    "top": "150px",
    "width": "349.078px"
   },
   "toc_section_display": true,
   "toc_window_display": true
  }
 },
 "nbformat": 4,
 "nbformat_minor": 5
}
