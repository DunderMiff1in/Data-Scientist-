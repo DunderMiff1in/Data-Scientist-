{
 "cells": [
  {
   "cell_type": "markdown",
   "metadata": {},
   "source": [
    "# Определение стоимости автомобилей"
   ]
  },
  {
   "cell_type": "markdown",
   "metadata": {},
   "source": [
    "Сервис по продаже автомобилей с пробегом «Не бит, не крашен» разрабатывает приложение для привлечения новых клиентов. В нём можно быстро узнать рыночную стоимость своего автомобиля. В вашем распоряжении исторические данные: технические характеристики, комплектации и цены автомобилей. Вам нужно построить модель для определения стоимости. \n",
    "\n",
    "Заказчику важны:\n",
    "\n",
    "- качество предсказания;\n",
    "- скорость предсказания;\n",
    "- время обучения."
   ]
  },
  {
   "cell_type": "markdown",
   "metadata": {},
   "source": [
    "## Подготовка данных"
   ]
  },
  {
   "cell_type": "code",
   "execution_count": 1,
   "metadata": {},
   "outputs": [],
   "source": [
    "%matplotlib inline\n",
    "from matplotlib import pyplot as plt\n",
    "\n",
    "import pandas as pd\n",
    "import numpy as np\n",
    "import seaborn as sns\n",
    "\n",
    "from sklearn.preprocessing import OrdinalEncoder\n",
    "from sklearn.model_selection import train_test_split\n",
    "from sklearn.metrics import mean_squared_error\n",
    "from sklearn.metrics import make_scorer\n",
    "from sklearn.model_selection import cross_val_score\n",
    "from sklearn.model_selection import RandomizedSearchCV\n",
    "from sklearn.pipeline import make_pipeline\n",
    "from sklearn.compose import ColumnTransformer\n",
    "from sklearn.preprocessing import StandardScaler,LabelBinarizer\n",
    "from sklearn.linear_model import LinearRegression\n",
    "from sklearn.tree import DecisionTreeRegressor\n",
    "from sklearn.ensemble import RandomForestRegressor\n",
    "from sklearn.neighbors import KNeighborsRegressor\n",
    "from lightgbm import LGBMRegressor\n",
    "from catboost import CatBoostRegressor\n",
    "import time\n",
    "\n",
    "import warnings\n",
    "warnings.filterwarnings('ignore')\n",
    "\n"
   ]
  },
  {
   "cell_type": "code",
   "execution_count": 2,
   "metadata": {},
   "outputs": [],
   "source": [
    "df = pd.read_csv('autos.csv')"
   ]
  },
  {
   "cell_type": "code",
   "execution_count": 3,
   "metadata": {},
   "outputs": [
    {
     "data": {
      "text/html": [
       "<div>\n",
       "<style scoped>\n",
       "    .dataframe tbody tr th:only-of-type {\n",
       "        vertical-align: middle;\n",
       "    }\n",
       "\n",
       "    .dataframe tbody tr th {\n",
       "        vertical-align: top;\n",
       "    }\n",
       "\n",
       "    .dataframe thead th {\n",
       "        text-align: right;\n",
       "    }\n",
       "</style>\n",
       "<table border=\"1\" class=\"dataframe\">\n",
       "  <thead>\n",
       "    <tr style=\"text-align: right;\">\n",
       "      <th></th>\n",
       "      <th>DateCrawled</th>\n",
       "      <th>Price</th>\n",
       "      <th>VehicleType</th>\n",
       "      <th>RegistrationYear</th>\n",
       "      <th>Gearbox</th>\n",
       "      <th>Power</th>\n",
       "      <th>Model</th>\n",
       "      <th>Kilometer</th>\n",
       "      <th>RegistrationMonth</th>\n",
       "      <th>FuelType</th>\n",
       "      <th>Brand</th>\n",
       "      <th>NotRepaired</th>\n",
       "      <th>DateCreated</th>\n",
       "      <th>NumberOfPictures</th>\n",
       "      <th>PostalCode</th>\n",
       "      <th>LastSeen</th>\n",
       "    </tr>\n",
       "  </thead>\n",
       "  <tbody>\n",
       "    <tr>\n",
       "      <th>0</th>\n",
       "      <td>2016-03-24 11:52:17</td>\n",
       "      <td>480</td>\n",
       "      <td>NaN</td>\n",
       "      <td>1993</td>\n",
       "      <td>manual</td>\n",
       "      <td>0</td>\n",
       "      <td>golf</td>\n",
       "      <td>150000</td>\n",
       "      <td>0</td>\n",
       "      <td>petrol</td>\n",
       "      <td>volkswagen</td>\n",
       "      <td>NaN</td>\n",
       "      <td>2016-03-24 00:00:00</td>\n",
       "      <td>0</td>\n",
       "      <td>70435</td>\n",
       "      <td>2016-04-07 03:16:57</td>\n",
       "    </tr>\n",
       "    <tr>\n",
       "      <th>1</th>\n",
       "      <td>2016-03-24 10:58:45</td>\n",
       "      <td>18300</td>\n",
       "      <td>coupe</td>\n",
       "      <td>2011</td>\n",
       "      <td>manual</td>\n",
       "      <td>190</td>\n",
       "      <td>NaN</td>\n",
       "      <td>125000</td>\n",
       "      <td>5</td>\n",
       "      <td>gasoline</td>\n",
       "      <td>audi</td>\n",
       "      <td>yes</td>\n",
       "      <td>2016-03-24 00:00:00</td>\n",
       "      <td>0</td>\n",
       "      <td>66954</td>\n",
       "      <td>2016-04-07 01:46:50</td>\n",
       "    </tr>\n",
       "    <tr>\n",
       "      <th>2</th>\n",
       "      <td>2016-03-14 12:52:21</td>\n",
       "      <td>9800</td>\n",
       "      <td>suv</td>\n",
       "      <td>2004</td>\n",
       "      <td>auto</td>\n",
       "      <td>163</td>\n",
       "      <td>grand</td>\n",
       "      <td>125000</td>\n",
       "      <td>8</td>\n",
       "      <td>gasoline</td>\n",
       "      <td>jeep</td>\n",
       "      <td>NaN</td>\n",
       "      <td>2016-03-14 00:00:00</td>\n",
       "      <td>0</td>\n",
       "      <td>90480</td>\n",
       "      <td>2016-04-05 12:47:46</td>\n",
       "    </tr>\n",
       "    <tr>\n",
       "      <th>3</th>\n",
       "      <td>2016-03-17 16:54:04</td>\n",
       "      <td>1500</td>\n",
       "      <td>small</td>\n",
       "      <td>2001</td>\n",
       "      <td>manual</td>\n",
       "      <td>75</td>\n",
       "      <td>golf</td>\n",
       "      <td>150000</td>\n",
       "      <td>6</td>\n",
       "      <td>petrol</td>\n",
       "      <td>volkswagen</td>\n",
       "      <td>no</td>\n",
       "      <td>2016-03-17 00:00:00</td>\n",
       "      <td>0</td>\n",
       "      <td>91074</td>\n",
       "      <td>2016-03-17 17:40:17</td>\n",
       "    </tr>\n",
       "    <tr>\n",
       "      <th>4</th>\n",
       "      <td>2016-03-31 17:25:20</td>\n",
       "      <td>3600</td>\n",
       "      <td>small</td>\n",
       "      <td>2008</td>\n",
       "      <td>manual</td>\n",
       "      <td>69</td>\n",
       "      <td>fabia</td>\n",
       "      <td>90000</td>\n",
       "      <td>7</td>\n",
       "      <td>gasoline</td>\n",
       "      <td>skoda</td>\n",
       "      <td>no</td>\n",
       "      <td>2016-03-31 00:00:00</td>\n",
       "      <td>0</td>\n",
       "      <td>60437</td>\n",
       "      <td>2016-04-06 10:17:21</td>\n",
       "    </tr>\n",
       "  </tbody>\n",
       "</table>\n",
       "</div>"
      ],
      "text/plain": [
       "           DateCrawled  Price VehicleType  RegistrationYear Gearbox  Power  \\\n",
       "0  2016-03-24 11:52:17    480         NaN              1993  manual      0   \n",
       "1  2016-03-24 10:58:45  18300       coupe              2011  manual    190   \n",
       "2  2016-03-14 12:52:21   9800         suv              2004    auto    163   \n",
       "3  2016-03-17 16:54:04   1500       small              2001  manual     75   \n",
       "4  2016-03-31 17:25:20   3600       small              2008  manual     69   \n",
       "\n",
       "   Model  Kilometer  RegistrationMonth  FuelType       Brand NotRepaired  \\\n",
       "0   golf     150000                  0    petrol  volkswagen         NaN   \n",
       "1    NaN     125000                  5  gasoline        audi         yes   \n",
       "2  grand     125000                  8  gasoline        jeep         NaN   \n",
       "3   golf     150000                  6    petrol  volkswagen          no   \n",
       "4  fabia      90000                  7  gasoline       skoda          no   \n",
       "\n",
       "           DateCreated  NumberOfPictures  PostalCode             LastSeen  \n",
       "0  2016-03-24 00:00:00                 0       70435  2016-04-07 03:16:57  \n",
       "1  2016-03-24 00:00:00                 0       66954  2016-04-07 01:46:50  \n",
       "2  2016-03-14 00:00:00                 0       90480  2016-04-05 12:47:46  \n",
       "3  2016-03-17 00:00:00                 0       91074  2016-03-17 17:40:17  \n",
       "4  2016-03-31 00:00:00                 0       60437  2016-04-06 10:17:21  "
      ]
     },
     "execution_count": 3,
     "metadata": {},
     "output_type": "execute_result"
    }
   ],
   "source": [
    "df.head()"
   ]
  },
  {
   "cell_type": "code",
   "execution_count": 4,
   "metadata": {},
   "outputs": [
    {
     "name": "stdout",
     "output_type": "stream",
     "text": [
      "<class 'pandas.core.frame.DataFrame'>\n",
      "RangeIndex: 354369 entries, 0 to 354368\n",
      "Data columns (total 16 columns):\n",
      " #   Column             Non-Null Count   Dtype \n",
      "---  ------             --------------   ----- \n",
      " 0   DateCrawled        354369 non-null  object\n",
      " 1   Price              354369 non-null  int64 \n",
      " 2   VehicleType        316879 non-null  object\n",
      " 3   RegistrationYear   354369 non-null  int64 \n",
      " 4   Gearbox            334536 non-null  object\n",
      " 5   Power              354369 non-null  int64 \n",
      " 6   Model              334664 non-null  object\n",
      " 7   Kilometer          354369 non-null  int64 \n",
      " 8   RegistrationMonth  354369 non-null  int64 \n",
      " 9   FuelType           321474 non-null  object\n",
      " 10  Brand              354369 non-null  object\n",
      " 11  NotRepaired        283215 non-null  object\n",
      " 12  DateCreated        354369 non-null  object\n",
      " 13  NumberOfPictures   354369 non-null  int64 \n",
      " 14  PostalCode         354369 non-null  int64 \n",
      " 15  LastSeen           354369 non-null  object\n",
      "dtypes: int64(7), object(9)\n",
      "memory usage: 43.3+ MB\n"
     ]
    }
   ],
   "source": [
    "df.info()"
   ]
  },
  {
   "cell_type": "markdown",
   "metadata": {},
   "source": [
    "Описание данных:\n",
    "\n",
    "**Признаки**\n",
    "\n",
    "- `DateCrawled` — дата скачивания анкеты из базы\n",
    "- `VehicleType` — тип автомобильного кузова\n",
    "- `RegistrationYear` — год регистрации автомобиля\n",
    "- `Gearbox` — тип коробки передач\n",
    "- `Power` — мощность (л. с.)\n",
    "- `Model` — модель автомобиля\n",
    "- `Kilometer` — пробег (км)\n",
    "- `RegistrationMonth` — месяц регистрации автомобиля\n",
    "- `FuelType` — тип топлива\n",
    "- `Brand` — марка автомобиля\n",
    "- `NotRepaired` — была машина в ремонте или нет\n",
    "- `DateCreated` — дата создания анкеты\n",
    "- `NumberOfPictures` — количество фотографий автомобиля\n",
    "- `PostalCode` — почтовый индекс владельца анкеты (пользователя)\n",
    "- `LastSeen` — дата последней активности пользователя\n",
    "\n",
    "**Целевой признак**\n",
    "\n",
    "- `Price` — цена (евро)"
   ]
  },
  {
   "cell_type": "markdown",
   "metadata": {},
   "source": [
    "Какие погрешности есть в данных: пропуски + несоответствие типов данных их описанию. К тому же нужно будет разобраться с данными типа object"
   ]
  },
  {
   "cell_type": "code",
   "execution_count": 5,
   "metadata": {},
   "outputs": [
    {
     "data": {
      "text/plain": [
       "4"
      ]
     },
     "execution_count": 5,
     "metadata": {},
     "output_type": "execute_result"
    }
   ],
   "source": [
    "df.duplicated().sum()"
   ]
  },
  {
   "cell_type": "markdown",
   "metadata": {},
   "source": [
    "Избавляемся"
   ]
  },
  {
   "cell_type": "code",
   "execution_count": 6,
   "metadata": {},
   "outputs": [],
   "source": [
    "df = df.drop_duplicates()"
   ]
  },
  {
   "cell_type": "code",
   "execution_count": 7,
   "metadata": {
    "scrolled": true
   },
   "outputs": [
    {
     "data": {
      "text/html": [
       "<div>\n",
       "<style scoped>\n",
       "    .dataframe tbody tr th:only-of-type {\n",
       "        vertical-align: middle;\n",
       "    }\n",
       "\n",
       "    .dataframe tbody tr th {\n",
       "        vertical-align: top;\n",
       "    }\n",
       "\n",
       "    .dataframe thead th {\n",
       "        text-align: right;\n",
       "    }\n",
       "</style>\n",
       "<table border=\"1\" class=\"dataframe\">\n",
       "  <thead>\n",
       "    <tr style=\"text-align: right;\">\n",
       "      <th></th>\n",
       "      <th>Price</th>\n",
       "      <th>RegistrationYear</th>\n",
       "      <th>Power</th>\n",
       "      <th>Kilometer</th>\n",
       "      <th>RegistrationMonth</th>\n",
       "      <th>NumberOfPictures</th>\n",
       "      <th>PostalCode</th>\n",
       "    </tr>\n",
       "  </thead>\n",
       "  <tbody>\n",
       "    <tr>\n",
       "      <th>count</th>\n",
       "      <td>354365.000000</td>\n",
       "      <td>354365.000000</td>\n",
       "      <td>354365.000000</td>\n",
       "      <td>354365.000000</td>\n",
       "      <td>354365.000000</td>\n",
       "      <td>354365.0</td>\n",
       "      <td>354365.000000</td>\n",
       "    </tr>\n",
       "    <tr>\n",
       "      <th>mean</th>\n",
       "      <td>4416.679830</td>\n",
       "      <td>2004.234481</td>\n",
       "      <td>110.093816</td>\n",
       "      <td>128211.363989</td>\n",
       "      <td>5.714650</td>\n",
       "      <td>0.0</td>\n",
       "      <td>50508.503800</td>\n",
       "    </tr>\n",
       "    <tr>\n",
       "      <th>std</th>\n",
       "      <td>4514.176349</td>\n",
       "      <td>90.228466</td>\n",
       "      <td>189.851330</td>\n",
       "      <td>37905.083858</td>\n",
       "      <td>3.726432</td>\n",
       "      <td>0.0</td>\n",
       "      <td>25783.100078</td>\n",
       "    </tr>\n",
       "    <tr>\n",
       "      <th>min</th>\n",
       "      <td>0.000000</td>\n",
       "      <td>1000.000000</td>\n",
       "      <td>0.000000</td>\n",
       "      <td>5000.000000</td>\n",
       "      <td>0.000000</td>\n",
       "      <td>0.0</td>\n",
       "      <td>1067.000000</td>\n",
       "    </tr>\n",
       "    <tr>\n",
       "      <th>25%</th>\n",
       "      <td>1050.000000</td>\n",
       "      <td>1999.000000</td>\n",
       "      <td>69.000000</td>\n",
       "      <td>125000.000000</td>\n",
       "      <td>3.000000</td>\n",
       "      <td>0.0</td>\n",
       "      <td>30165.000000</td>\n",
       "    </tr>\n",
       "    <tr>\n",
       "      <th>50%</th>\n",
       "      <td>2700.000000</td>\n",
       "      <td>2003.000000</td>\n",
       "      <td>105.000000</td>\n",
       "      <td>150000.000000</td>\n",
       "      <td>6.000000</td>\n",
       "      <td>0.0</td>\n",
       "      <td>49413.000000</td>\n",
       "    </tr>\n",
       "    <tr>\n",
       "      <th>75%</th>\n",
       "      <td>6400.000000</td>\n",
       "      <td>2008.000000</td>\n",
       "      <td>143.000000</td>\n",
       "      <td>150000.000000</td>\n",
       "      <td>9.000000</td>\n",
       "      <td>0.0</td>\n",
       "      <td>71083.000000</td>\n",
       "    </tr>\n",
       "    <tr>\n",
       "      <th>max</th>\n",
       "      <td>20000.000000</td>\n",
       "      <td>9999.000000</td>\n",
       "      <td>20000.000000</td>\n",
       "      <td>150000.000000</td>\n",
       "      <td>12.000000</td>\n",
       "      <td>0.0</td>\n",
       "      <td>99998.000000</td>\n",
       "    </tr>\n",
       "  </tbody>\n",
       "</table>\n",
       "</div>"
      ],
      "text/plain": [
       "               Price  RegistrationYear          Power      Kilometer  \\\n",
       "count  354365.000000     354365.000000  354365.000000  354365.000000   \n",
       "mean     4416.679830       2004.234481     110.093816  128211.363989   \n",
       "std      4514.176349         90.228466     189.851330   37905.083858   \n",
       "min         0.000000       1000.000000       0.000000    5000.000000   \n",
       "25%      1050.000000       1999.000000      69.000000  125000.000000   \n",
       "50%      2700.000000       2003.000000     105.000000  150000.000000   \n",
       "75%      6400.000000       2008.000000     143.000000  150000.000000   \n",
       "max     20000.000000       9999.000000   20000.000000  150000.000000   \n",
       "\n",
       "       RegistrationMonth  NumberOfPictures     PostalCode  \n",
       "count      354365.000000          354365.0  354365.000000  \n",
       "mean            5.714650               0.0   50508.503800  \n",
       "std             3.726432               0.0   25783.100078  \n",
       "min             0.000000               0.0    1067.000000  \n",
       "25%             3.000000               0.0   30165.000000  \n",
       "50%             6.000000               0.0   49413.000000  \n",
       "75%             9.000000               0.0   71083.000000  \n",
       "max            12.000000               0.0   99998.000000  "
      ]
     },
     "execution_count": 7,
     "metadata": {},
     "output_type": "execute_result"
    }
   ],
   "source": [
    "df.describe(include='int')"
   ]
  },
  {
   "cell_type": "markdown",
   "metadata": {},
   "source": [
    "Из интов: нулевая цена, регистрация в 1000 и 9999 годах, 0 и 20000 л.с., нулевой месяц регистрации, ни одной фотографии и смущает почтовый индекс в целом как признак, думаю, что он особо не значит, возможно, позже удалим."
   ]
  },
  {
   "cell_type": "code",
   "execution_count": 8,
   "metadata": {
    "scrolled": true
   },
   "outputs": [
    {
     "data": {
      "text/html": [
       "<div>\n",
       "<style scoped>\n",
       "    .dataframe tbody tr th:only-of-type {\n",
       "        vertical-align: middle;\n",
       "    }\n",
       "\n",
       "    .dataframe tbody tr th {\n",
       "        vertical-align: top;\n",
       "    }\n",
       "\n",
       "    .dataframe thead th {\n",
       "        text-align: right;\n",
       "    }\n",
       "</style>\n",
       "<table border=\"1\" class=\"dataframe\">\n",
       "  <thead>\n",
       "    <tr style=\"text-align: right;\">\n",
       "      <th></th>\n",
       "      <th>DateCrawled</th>\n",
       "      <th>VehicleType</th>\n",
       "      <th>Gearbox</th>\n",
       "      <th>Model</th>\n",
       "      <th>FuelType</th>\n",
       "      <th>Brand</th>\n",
       "      <th>NotRepaired</th>\n",
       "      <th>DateCreated</th>\n",
       "      <th>LastSeen</th>\n",
       "    </tr>\n",
       "  </thead>\n",
       "  <tbody>\n",
       "    <tr>\n",
       "      <th>count</th>\n",
       "      <td>354365</td>\n",
       "      <td>316875</td>\n",
       "      <td>334532</td>\n",
       "      <td>334660</td>\n",
       "      <td>321470</td>\n",
       "      <td>354365</td>\n",
       "      <td>283211</td>\n",
       "      <td>354365</td>\n",
       "      <td>354365</td>\n",
       "    </tr>\n",
       "    <tr>\n",
       "      <th>unique</th>\n",
       "      <td>271174</td>\n",
       "      <td>8</td>\n",
       "      <td>2</td>\n",
       "      <td>250</td>\n",
       "      <td>7</td>\n",
       "      <td>40</td>\n",
       "      <td>2</td>\n",
       "      <td>109</td>\n",
       "      <td>179150</td>\n",
       "    </tr>\n",
       "    <tr>\n",
       "      <th>top</th>\n",
       "      <td>2016-03-24 14:49:47</td>\n",
       "      <td>sedan</td>\n",
       "      <td>manual</td>\n",
       "      <td>golf</td>\n",
       "      <td>petrol</td>\n",
       "      <td>volkswagen</td>\n",
       "      <td>no</td>\n",
       "      <td>2016-04-03 00:00:00</td>\n",
       "      <td>2016-04-06 13:45:54</td>\n",
       "    </tr>\n",
       "    <tr>\n",
       "      <th>freq</th>\n",
       "      <td>7</td>\n",
       "      <td>91457</td>\n",
       "      <td>268249</td>\n",
       "      <td>29232</td>\n",
       "      <td>216349</td>\n",
       "      <td>77012</td>\n",
       "      <td>247158</td>\n",
       "      <td>13718</td>\n",
       "      <td>17</td>\n",
       "    </tr>\n",
       "  </tbody>\n",
       "</table>\n",
       "</div>"
      ],
      "text/plain": [
       "                DateCrawled VehicleType Gearbox   Model FuelType       Brand  \\\n",
       "count                354365      316875  334532  334660   321470      354365   \n",
       "unique               271174           8       2     250        7          40   \n",
       "top     2016-03-24 14:49:47       sedan  manual    golf   petrol  volkswagen   \n",
       "freq                      7       91457  268249   29232   216349       77012   \n",
       "\n",
       "       NotRepaired          DateCreated             LastSeen  \n",
       "count       283211               354365               354365  \n",
       "unique           2                  109               179150  \n",
       "top             no  2016-04-03 00:00:00  2016-04-06 13:45:54  \n",
       "freq        247158                13718                   17  "
      ]
     },
     "execution_count": 8,
     "metadata": {},
     "output_type": "execute_result"
    }
   ],
   "source": [
    "df.describe(include=object)"
   ]
  },
  {
   "cell_type": "markdown",
   "metadata": {},
   "source": [
    "NotRepaired точно уйдет в булеан, DateCreated скорее всего не нужен, как и LastSeen и DateCrawled. Остальные закодируем"
   ]
  },
  {
   "cell_type": "markdown",
   "metadata": {},
   "source": [
    "Начнем с интов: поскольку картинок не завезли, столбец бесполезен, удаляем его. Также все-таки удалю индекс"
   ]
  },
  {
   "cell_type": "code",
   "execution_count": 9,
   "metadata": {},
   "outputs": [],
   "source": [
    "df = df.drop(['NumberOfPictures', 'PostalCode'], axis=1)"
   ]
  },
  {
   "cell_type": "code",
   "execution_count": 10,
   "metadata": {},
   "outputs": [
    {
     "data": {
      "text/plain": [
       "10772"
      ]
     },
     "execution_count": 10,
     "metadata": {},
     "output_type": "execute_result"
    }
   ],
   "source": [
    "len(df[df['Price'] == 0])"
   ]
  },
  {
   "cell_type": "markdown",
   "metadata": {},
   "source": [
    "Машин с нулевой ценой порядка 3%, что немало, но с такими ценами далеко не уедешь"
   ]
  },
  {
   "cell_type": "code",
   "execution_count": 11,
   "metadata": {},
   "outputs": [],
   "source": [
    "df = df[df['Price'] != 0]"
   ]
  },
  {
   "cell_type": "code",
   "execution_count": 12,
   "metadata": {},
   "outputs": [
    {
     "data": {
      "text/plain": [
       "<seaborn.axisgrid.FacetGrid at 0x1bd1f526490>"
      ]
     },
     "execution_count": 12,
     "metadata": {},
     "output_type": "execute_result"
    },
    {
     "data": {
      "image/png": "[encoded data removed]",
      "text/plain": [
       "<Figure size 432x432 with 1 Axes>"
      ]
     },
     "metadata": {
      "needs_background": "light"
     },
     "output_type": "display_data"
    }
   ],
   "source": [
    "sns.displot(df, x='Price', height=6)"
   ]
  },
  {
   "cell_type": "markdown",
   "metadata": {},
   "source": [
    "Вообще здесь ненормальное распределение, наверное нужно отлагорифмировать, но пока оставлю (не уверен просто, всегда ли нужно приводить данные к нормальному виду) (Мысль о приведении данных к нормальному распроcтраняется и к следующим данным)"
   ]
  },
  {
   "cell_type": "code",
   "execution_count": 13,
   "metadata": {
    "scrolled": false
   },
   "outputs": [
    {
     "data": {
      "image/png": "[encoded data removed]",
      "text/plain": [
       "<Figure size 432x288 with 1 Axes>"
      ]
     },
     "metadata": {
      "needs_background": "light"
     },
     "output_type": "display_data"
    }
   ],
   "source": [
    "plt.hist(df['RegistrationYear'], bins=100);"
   ]
  },
  {
   "cell_type": "markdown",
   "metadata": {},
   "source": [
    "От выбросов также страдает признак `Power`"
   ]
  },
  {
   "cell_type": "code",
   "execution_count": 14,
   "metadata": {},
   "outputs": [
    {
     "data": {
      "image/png": "[encoded data removed]",
      "text/plain": [
       "<Figure size 432x288 with 1 Axes>"
      ]
     },
     "metadata": {
      "needs_background": "light"
     },
     "output_type": "display_data"
    }
   ],
   "source": [
    "plt.hist(df['Power'], bins=100);"
   ]
  },
  {
   "cell_type": "markdown",
   "metadata": {},
   "source": [
    "Уберем выбросы с помощью квантилей"
   ]
  },
  {
   "cell_type": "code",
   "execution_count": 15,
   "metadata": {},
   "outputs": [
    {
     "name": "stdout",
     "output_type": "stream",
     "text": [
      "В колонке RegistrationYear отфильтруем 11573 значений, что составляет 0.03% от датасета\n",
      "В колонке Power отфильтруем 7999 значений, что составляет 0.02% от датасета\n"
     ]
    }
   ],
   "source": [
    "for col in ['RegistrationYear', 'Power']:\n",
    "    high_quantile = 0.975\n",
    "    low_quantile = 0.025\n",
    "    filtered_count = len(df[df[col] > df[col].quantile(high_quantile)]) + \\\n",
    "    len(df[df[col] < df[col].quantile(low_quantile)])\n",
    "    len_data = len(df)\n",
    "    # отфильртуем все, что больше 0,95 квантиля\n",
    "    print(f\"В колонке {col} отфильтруем {filtered_count} значений, что составляет {filtered_count / len_data:.02f}% от датасета\")\n",
    "    # здесь я удаляю полностью строки с выбросами, возможно, имеет смысл просто удалить значения в столбцах\n",
    "    df = df[(df[col] < df[col].quantile(high_quantile)) & \n",
    "                (df[col] > df[col].quantile(low_quantile))]"
   ]
  },
  {
   "cell_type": "code",
   "execution_count": 16,
   "metadata": {},
   "outputs": [
    {
     "data": {
      "image/png": "[encoded data removed]",
      "text/plain": [
       "<Figure size 576x432 with 2 Axes>"
      ]
     },
     "metadata": {
      "needs_background": "light"
     },
     "output_type": "display_data"
    }
   ],
   "source": [
    "fig, ax = plt.subplots(1,2, figsize=(8,6))\n",
    "ax[0].hist(df['RegistrationYear'], bins=100, );\n",
    "ax[0].set_xlabel('RegistrationYear')\n",
    "ax[0].set_ylabel('Count')\n",
    "ax[1].hist(df['Power'], bins=100);\n",
    "ax[1].set_xlabel('Power')\n",
    "ax[1].set_ylabel('Count')\n",
    "plt.tight_layout()"
   ]
  },
  {
   "cell_type": "code",
   "execution_count": 17,
   "metadata": {},
   "outputs": [
    {
     "data": {
      "image/png": "[encoded data removed]",
      "text/plain": [
       "<Figure size 432x288 with 1 Axes>"
      ]
     },
     "metadata": {
      "needs_background": "light"
     },
     "output_type": "display_data"
    }
   ],
   "source": [
    "plt.hist(df['RegistrationMonth'], bins=100);"
   ]
  },
  {
   "cell_type": "markdown",
   "metadata": {},
   "source": [
    "13 месяцев в году (если один добавили на лето, я оставляю). А так я бы спроосил у бизнеса, возможно нулевой месяц подразумевался как январь, но пока сносим "
   ]
  },
  {
   "cell_type": "code",
   "execution_count": 18,
   "metadata": {},
   "outputs": [],
   "source": [
    "df = df[df['RegistrationMonth'] != 0]"
   ]
  },
  {
   "cell_type": "code",
   "execution_count": 19,
   "metadata": {},
   "outputs": [
    {
     "name": "stdout",
     "output_type": "stream",
     "text": [
      "<class 'pandas.core.frame.DataFrame'>\n",
      "Int64Index: 264744 entries, 1 to 354368\n",
      "Data columns (total 14 columns):\n",
      " #   Column             Non-Null Count   Dtype \n",
      "---  ------             --------------   ----- \n",
      " 0   DateCrawled        264744 non-null  object\n",
      " 1   Price              264744 non-null  int64 \n",
      " 2   VehicleType        257377 non-null  object\n",
      " 3   RegistrationYear   264744 non-null  int64 \n",
      " 4   Gearbox            261151 non-null  object\n",
      " 5   Power              264744 non-null  int64 \n",
      " 6   Model              256906 non-null  object\n",
      " 7   Kilometer          264744 non-null  int64 \n",
      " 8   RegistrationMonth  264744 non-null  int64 \n",
      " 9   FuelType           254085 non-null  object\n",
      " 10  Brand              264744 non-null  object\n",
      " 11  NotRepaired        232378 non-null  object\n",
      " 12  DateCreated        264744 non-null  object\n",
      " 13  LastSeen           264744 non-null  object\n",
      "dtypes: int64(5), object(9)\n",
      "memory usage: 30.3+ MB\n"
     ]
    }
   ],
   "source": [
    "df.info()"
   ]
  },
  {
   "cell_type": "markdown",
   "metadata": {},
   "source": [
    "Меня немного смущает, что я снес уже около 100000 строк, но пока оставим так"
   ]
  },
  {
   "cell_type": "markdown",
   "metadata": {},
   "source": [
    "Переходим к object\n",
    "\n",
    "Предполагаем, что даты нам особо не помогут, поэтому эти мтолбцы сносим (агрессивный EDA как-то получается)"
   ]
  },
  {
   "cell_type": "code",
   "execution_count": 20,
   "metadata": {},
   "outputs": [],
   "source": [
    "df = df.drop(['DateCrawled', 'DateCreated', 'LastSeen'], axis=1)"
   ]
  },
  {
   "cell_type": "markdown",
   "metadata": {},
   "source": [
    "Столбец NotRepaired нужно перевести в тип boolean. Там есть пропуски. Предположим, что раз записей о ремонте нет, то машина не была в ремонте (тут немного запутался, если yes, значит не была, правильно?)"
   ]
  },
  {
   "cell_type": "code",
   "execution_count": 21,
   "metadata": {},
   "outputs": [
    {
     "name": "stdout",
     "output_type": "stream",
     "text": [
      "<class 'pandas.core.frame.DataFrame'>\n",
      "Int64Index: 264744 entries, 1 to 354368\n",
      "Data columns (total 11 columns):\n",
      " #   Column             Non-Null Count   Dtype \n",
      "---  ------             --------------   ----- \n",
      " 0   Price              264744 non-null  int64 \n",
      " 1   VehicleType        257377 non-null  object\n",
      " 2   RegistrationYear   264744 non-null  int64 \n",
      " 3   Gearbox            261151 non-null  object\n",
      " 4   Power              264744 non-null  int64 \n",
      " 5   Model              256906 non-null  object\n",
      " 6   Kilometer          264744 non-null  int64 \n",
      " 7   RegistrationMonth  264744 non-null  int64 \n",
      " 8   FuelType           254085 non-null  object\n",
      " 9   Brand              264744 non-null  object\n",
      " 10  NotRepaired        264744 non-null  bool  \n",
      "dtypes: bool(1), int64(5), object(5)\n",
      "memory usage: 22.5+ MB\n"
     ]
    }
   ],
   "source": [
    "df['NotRepaired'] = df['NotRepaired'].replace({'yes':1, 'no':0}).fillna(1).astype('bool')\n",
    "df.info()"
   ]
  },
  {
   "cell_type": "markdown",
   "metadata": {},
   "source": [
    "Тут загвоздка: я знаю, что с помощью CatBoost можно обрабатывать обджекты (либо он умеет строить модели и при этом сам обрабатывает их, точно не знаю). Наверняка с LightGBM можно тоже что-то такое провернуть. Самому разобраться пока не получилось, поэтому по старинке обработаю их "
   ]
  },
  {
   "cell_type": "code",
   "execution_count": 22,
   "metadata": {},
   "outputs": [
    {
     "data": {
      "text/plain": [
       "Price                    0\n",
       "VehicleType           7367\n",
       "RegistrationYear         0\n",
       "Gearbox               3593\n",
       "Power                    0\n",
       "Model                 7838\n",
       "Kilometer                0\n",
       "RegistrationMonth        0\n",
       "FuelType             10659\n",
       "Brand                    0\n",
       "NotRepaired              0\n",
       "dtype: int64"
      ]
     },
     "execution_count": 22,
     "metadata": {},
     "output_type": "execute_result"
    }
   ],
   "source": [
    "df.isna().sum()"
   ]
  },
  {
   "cell_type": "markdown",
   "metadata": {},
   "source": [
    "Тип топлива, коробки передач и автомобиля можно заполнить медианами, а вот с моделью такого не сделать. Поскольку в столбце Brand пропусков нет, можно попробовать заменить самыми популярными моделями этого бренда.\n",
    "\n",
    "С другой стороны, модель автомобиля должна достаточно сильно влиять на стоимость, поэтому наверное все-таки выбросим эти данные"
   ]
  },
  {
   "cell_type": "code",
   "execution_count": 23,
   "metadata": {},
   "outputs": [],
   "source": [
    "df = df.dropna(subset=['Model'])"
   ]
  },
  {
   "cell_type": "code",
   "execution_count": 24,
   "metadata": {},
   "outputs": [
    {
     "data": {
      "text/plain": [
       "Price                   0\n",
       "VehicleType          6387\n",
       "RegistrationYear        0\n",
       "Gearbox              3286\n",
       "Power                   0\n",
       "Model                   0\n",
       "Kilometer               0\n",
       "RegistrationMonth       0\n",
       "FuelType             8955\n",
       "Brand                   0\n",
       "NotRepaired             0\n",
       "dtype: int64"
      ]
     },
     "execution_count": 24,
     "metadata": {},
     "output_type": "execute_result"
    }
   ],
   "source": [
    "df.isna().sum()"
   ]
  },
  {
   "cell_type": "code",
   "execution_count": 25,
   "metadata": {},
   "outputs": [],
   "source": [
    "for col in ['VehicleType', 'Gearbox', 'FuelType']:\n",
    "    moda = df[col].mode()\n",
    "    df[col] = df[col].fillna(str(moda))"
   ]
  },
  {
   "cell_type": "code",
   "execution_count": 26,
   "metadata": {},
   "outputs": [
    {
     "name": "stdout",
     "output_type": "stream",
     "text": [
      "<class 'pandas.core.frame.DataFrame'>\n",
      "Int64Index: 256906 entries, 2 to 354368\n",
      "Data columns (total 11 columns):\n",
      " #   Column             Non-Null Count   Dtype \n",
      "---  ------             --------------   ----- \n",
      " 0   Price              256906 non-null  int64 \n",
      " 1   VehicleType        256906 non-null  object\n",
      " 2   RegistrationYear   256906 non-null  int64 \n",
      " 3   Gearbox            256906 non-null  object\n",
      " 4   Power              256906 non-null  int64 \n",
      " 5   Model              256906 non-null  object\n",
      " 6   Kilometer          256906 non-null  int64 \n",
      " 7   RegistrationMonth  256906 non-null  int64 \n",
      " 8   FuelType           256906 non-null  object\n",
      " 9   Brand              256906 non-null  object\n",
      " 10  NotRepaired        256906 non-null  bool  \n",
      "dtypes: bool(1), int64(5), object(5)\n",
      "memory usage: 21.8+ MB\n"
     ]
    }
   ],
   "source": [
    "df.info()"
   ]
  },
  {
   "cell_type": "markdown",
   "metadata": {},
   "source": [
    "Здесь я сделаю копию датафрейма для проверки работы с CatBoost и для линейной модели"
   ]
  },
  {
   "cell_type": "code",
   "execution_count": 27,
   "metadata": {},
   "outputs": [],
   "source": [
    "df_cat = df.copy()\n",
    "df_ohe = df.copy()"
   ]
  },
  {
   "cell_type": "code",
   "execution_count": 28,
   "metadata": {},
   "outputs": [],
   "source": [
    "encoder = OrdinalEncoder()\n",
    "obj_cols = ['VehicleType', 'Gearbox', 'Model', 'FuelType', 'Brand']\n",
    "df[obj_cols] = encoder.fit_transform(df[obj_cols])\n",
    "\n",
    "df_ohe = pd.get_dummies(df_ohe, columns=['VehicleType', 'Gearbox', 'Model', 'FuelType', 'Brand'], drop_first=True)"
   ]
  },
  {
   "cell_type": "code",
   "execution_count": 29,
   "metadata": {},
   "outputs": [],
   "source": [
    "num_cols = ['RegistrationYear', 'Power', 'Kilometer', 'RegistrationMonth']"
   ]
  },
  {
   "cell_type": "code",
   "execution_count": 30,
   "metadata": {
    "scrolled": true
   },
   "outputs": [
    {
     "name": "stdout",
     "output_type": "stream",
     "text": [
      "<class 'pandas.core.frame.DataFrame'>\n",
      "Int64Index: 256906 entries, 2 to 354368\n",
      "Data columns (total 11 columns):\n",
      " #   Column             Non-Null Count   Dtype  \n",
      "---  ------             --------------   -----  \n",
      " 0   Price              256906 non-null  int64  \n",
      " 1   VehicleType        256906 non-null  float64\n",
      " 2   RegistrationYear   256906 non-null  int64  \n",
      " 3   Gearbox            256906 non-null  float64\n",
      " 4   Power              256906 non-null  int64  \n",
      " 5   Model              256906 non-null  float64\n",
      " 6   Kilometer          256906 non-null  int64  \n",
      " 7   RegistrationMonth  256906 non-null  int64  \n",
      " 8   FuelType           256906 non-null  float64\n",
      " 9   Brand              256906 non-null  float64\n",
      " 10  NotRepaired        256906 non-null  bool   \n",
      "dtypes: bool(1), float64(5), int64(5)\n",
      "memory usage: 21.8 MB\n"
     ]
    }
   ],
   "source": [
    "df.info()"
   ]
  },
  {
   "cell_type": "markdown",
   "metadata": {},
   "source": [
    "## Обучение моделей"
   ]
  },
  {
   "cell_type": "code",
   "execution_count": 31,
   "metadata": {},
   "outputs": [],
   "source": [
    "X_train, X_test, y_train, y_test = train_test_split(\n",
    "df.drop('Price', axis=1), df['Price'], test_size=0.33, random_state=42)\n",
    "\n",
    "X_train_ohe, X_test_ohe, y_train_ohe, y_test_ohe = train_test_split(\n",
    "df_ohe.drop('Price', axis=1), df_ohe['Price'], test_size=0.33, random_state=42)"
   ]
  },
  {
   "cell_type": "markdown",
   "metadata": {},
   "source": [
    "Нечнем с перебора моделей"
   ]
  },
  {
   "cell_type": "code",
   "execution_count": 32,
   "metadata": {},
   "outputs": [],
   "source": [
    "rmse = make_scorer(mean_squared_error, greater_is_better=False, squared=False)"
   ]
  },
  {
   "cell_type": "code",
   "execution_count": 33,
   "metadata": {},
   "outputs": [
    {
     "name": "stdout",
     "output_type": "stream",
     "text": [
      "CPU times: total: 344 ms\n",
      "Wall time: 49.3 s\n"
     ]
    },
    {
     "data": {
      "text/html": [
       "<div>\n",
       "<style scoped>\n",
       "    .dataframe tbody tr th:only-of-type {\n",
       "        vertical-align: middle;\n",
       "    }\n",
       "\n",
       "    .dataframe tbody tr th {\n",
       "        vertical-align: top;\n",
       "    }\n",
       "\n",
       "    .dataframe thead th {\n",
       "        text-align: right;\n",
       "    }\n",
       "</style>\n",
       "<table border=\"1\" class=\"dataframe\">\n",
       "  <thead>\n",
       "    <tr style=\"text-align: right;\">\n",
       "      <th></th>\n",
       "      <th>Model</th>\n",
       "      <th>RMSE</th>\n",
       "      <th>Time</th>\n",
       "    </tr>\n",
       "  </thead>\n",
       "  <tbody>\n",
       "    <tr>\n",
       "      <th>2</th>\n",
       "      <td>RandomForestRegressor</td>\n",
       "      <td>-1515.150564</td>\n",
       "      <td>41.028995</td>\n",
       "    </tr>\n",
       "    <tr>\n",
       "      <th>3</th>\n",
       "      <td>LGBMRegressor</td>\n",
       "      <td>-1558.387462</td>\n",
       "      <td>1.602221</td>\n",
       "    </tr>\n",
       "    <tr>\n",
       "      <th>4</th>\n",
       "      <td>KNeighborsRegressor</td>\n",
       "      <td>-1888.677273</td>\n",
       "      <td>2.339463</td>\n",
       "    </tr>\n",
       "    <tr>\n",
       "      <th>1</th>\n",
       "      <td>DecisionTreeRegressor</td>\n",
       "      <td>-1953.793544</td>\n",
       "      <td>1.855057</td>\n",
       "    </tr>\n",
       "    <tr>\n",
       "      <th>0</th>\n",
       "      <td>LinearRegression</td>\n",
       "      <td>-2648.833147</td>\n",
       "      <td>2.476454</td>\n",
       "    </tr>\n",
       "  </tbody>\n",
       "</table>\n",
       "</div>"
      ],
      "text/plain": [
       "                   Model         RMSE       Time\n",
       "2  RandomForestRegressor -1515.150564  41.028995\n",
       "3          LGBMRegressor -1558.387462   1.602221\n",
       "4    KNeighborsRegressor -1888.677273   2.339463\n",
       "1  DecisionTreeRegressor -1953.793544   1.855057\n",
       "0       LinearRegression -2648.833147   2.476454"
      ]
     },
     "execution_count": 33,
     "metadata": {},
     "output_type": "execute_result"
    }
   ],
   "source": [
    "%%time\n",
    "\n",
    "\n",
    "MLA = [\n",
    "    LinearRegression(),\n",
    "    DecisionTreeRegressor(),\n",
    "    RandomForestRegressor(),\n",
    "    LGBMRegressor(),\n",
    "    KNeighborsRegressor(),\n",
    "]\n",
    "\n",
    "row_index = 0\n",
    "\n",
    "# Создаем таблицу для сравнения моделей\n",
    "MLA_cols = ['Model', 'RMSE', 'Time']\n",
    "MLA_compare = pd.DataFrame(columns = MLA_cols)\n",
    "\n",
    "# Добавляем метрики и время в таблицу\n",
    "for model in MLA:\n",
    "    MLA_compare.loc[row_index, 'Model'] = model.__class__.__name__\n",
    "    if model == LinearRegression():\n",
    "        tic = time.perf_counter()\n",
    "        cv_results = cross_val_score(model, X_train_ohe, y_train_ohe, cv=5, scoring=rmse, n_jobs=-1)\n",
    "        toc = time.perf_counter()\n",
    "    else:    \n",
    "        tic = time.perf_counter()\n",
    "        cv_results = cross_val_score(model, X_train, y_train, cv=5, scoring=rmse, n_jobs=-1)\n",
    "        toc = time.perf_counter()\n",
    "    MLA_compare.loc[row_index, 'RMSE'] = cv_results.mean()\n",
    "    MLA_compare.loc[row_index, 'Time'] = toc - tic\n",
    "    \n",
    "    row_index+=1\n",
    "\n",
    "# Результаты\n",
    "MLA_compare.sort_values(by=['RMSE'], ascending=False, inplace=True)\n",
    "MLA_compare"
   ]
  },
  {
   "cell_type": "markdown",
   "metadata": {},
   "source": [
    "Случайный лес выдал лучший результат, но оказался самым длительным. LightGBM быстрее всех выдал второй по точности результат, с ним и продолжим развлекаться "
   ]
  },
  {
   "cell_type": "code",
   "execution_count": 34,
   "metadata": {},
   "outputs": [],
   "source": [
    "# %%time\n",
    "\n",
    "# lgbm = LGBMRegressor()\n",
    "\n",
    "# n_estimators = [int(x) for x in np.linspace(start = 100, stop = 1000, num = 20)]\n",
    "# max_depth = [int(x) for x in np.linspace(5, 30, num = 10)]\n",
    "# num_leaves = [int(x) for x in np.linspace(50, 200, num=20)]\n",
    "\n",
    "\n",
    "# param_grid = {\n",
    "#     'n_estimators': n_estimators,\n",
    "#     'max_depth': max_depth,\n",
    "#     'num_leaves': num_leaves,\n",
    "# }\n",
    "\n",
    "# rf_random = RandomizedSearchCV(estimator = lgbm, \n",
    "#                                param_distributions = param_grid, \n",
    "#                                n_iter = 15,\n",
    "#                                cv = 5, \n",
    "#                                verbose=2, \n",
    "#                                random_state=42,\n",
    "#                                scoring=rmse,\n",
    "#                                n_jobs = -1)\n",
    "\n",
    "# rf_random.fit(X_train, y_train)\n",
    "# print(rf_random.best_score_)\n",
    "# print(rf_random.best_params_)"
   ]
  },
  {
   "cell_type": "markdown",
   "metadata": {},
   "source": [
    "Метрика улучшилась со следующими параметрами модели: {'num_leaves': 105, 'n_estimators': 810, 'max_depth': 27}\n",
    "\n",
    "Ради интереса можем поперебирать параметры для остальных моделей за исключением случайного леса (в силу своей длительности) и линейной регрессии (нечего перебирать)"
   ]
  },
  {
   "cell_type": "code",
   "execution_count": 35,
   "metadata": {
    "scrolled": true
   },
   "outputs": [],
   "source": [
    "# %%time\n",
    "\n",
    "# knr = KNeighborsRegressor()\n",
    "\n",
    "# n_neighbours = [int(x) for x in np.linspace(start = 5, stop = 15, num = 10)]\n",
    "\n",
    "# param_grid = {\n",
    "#     'n_neighbors': n_neighbours,\n",
    "#     'weights': ['uniform', 'distance'],\n",
    "#     'algorithm': ['auto', 'ball_tree']\n",
    "# }\n",
    "\n",
    "# rf_random = RandomizedSearchCV(estimator = knr, \n",
    "#                                param_distributions = param_grid, \n",
    "#                                n_iter = 15,\n",
    "#                                cv = 5, \n",
    "#                                verbose=2, \n",
    "#                                random_state=42,\n",
    "#                                scoring=rmse,\n",
    "#                                n_jobs = -1)\n",
    "\n",
    "# rf_random.fit(X_train, y_train)\n",
    "# print(rf_random.best_score_)\n",
    "# print(rf_random.best_params_)"
   ]
  },
  {
   "cell_type": "markdown",
   "metadata": {},
   "source": [
    "RMSE: 1823.3 при следующих параметрах: {'weights': 'distance', 'n_neighbors': 7, 'algorithm': 'ball_tree'}"
   ]
  },
  {
   "cell_type": "markdown",
   "metadata": {},
   "source": [
    "Выдал результат хуже, что немного странно"
   ]
  },
  {
   "cell_type": "code",
   "execution_count": 36,
   "metadata": {
    "scrolled": false
   },
   "outputs": [
    {
     "name": "stdout",
     "output_type": "stream",
     "text": [
      "Fitting 5 folds for each of 15 candidates, totalling 75 fits\n",
      "-1768.926087536413\n",
      "{'max_depth': 12}\n",
      "CPU times: total: 1.42 s\n",
      "Wall time: 9.17 s\n"
     ]
    }
   ],
   "source": [
    "%%time\n",
    "\n",
    "tree = DecisionTreeRegressor()\n",
    "\n",
    "max_depth = [int(x) for x in np.linspace(5, 60, num = 30)]\n",
    "\n",
    "\n",
    "param_grid = {\n",
    "    'max_depth': max_depth,\n",
    "}\n",
    "\n",
    "rf_random = RandomizedSearchCV(estimator = tree, \n",
    "                               param_distributions = param_grid, \n",
    "                               n_iter = 15,\n",
    "                               cv = 5, \n",
    "                               verbose=2, \n",
    "                               random_state=42,\n",
    "                               scoring=rmse,\n",
    "                               n_jobs = -1)\n",
    "\n",
    "rf_random.fit(X_train, y_train)\n",
    "print(rf_random.best_score_)\n",
    "print(rf_random.best_params_)"
   ]
  },
  {
   "cell_type": "markdown",
   "metadata": {},
   "source": [
    "RMSE: 1767.6 при параметре {'max_depth': 12}\n",
    "\n",
    "Остаемся на бустинге"
   ]
  },
  {
   "cell_type": "markdown",
   "metadata": {},
   "source": [
    "Еще хотел попробовать CatBoost. Ходят слухи, что он может сам работать с категориальными переменными, даже если в них есть пропуски \n",
    "\n",
    "Спойлер: пропусков в категориальных фичах быть не может"
   ]
  },
  {
   "cell_type": "code",
   "execution_count": 37,
   "metadata": {},
   "outputs": [],
   "source": [
    "X_train_cat, X_test_cat, y_train_cat, y_test_cat = train_test_split(\n",
    "df_cat.drop('Price', axis=1), df_cat['Price'], test_size=0.33, random_state=42)"
   ]
  },
  {
   "cell_type": "code",
   "execution_count": 38,
   "metadata": {
    "scrolled": false
   },
   "outputs": [
    {
     "name": "stdout",
     "output_type": "stream",
     "text": [
      "<class 'pandas.core.frame.DataFrame'>\n",
      "Int64Index: 172127 entries, 128186 to 168207\n",
      "Data columns (total 10 columns):\n",
      " #   Column             Non-Null Count   Dtype \n",
      "---  ------             --------------   ----- \n",
      " 0   VehicleType        172127 non-null  object\n",
      " 1   RegistrationYear   172127 non-null  int64 \n",
      " 2   Gearbox            172127 non-null  object\n",
      " 3   Power              172127 non-null  int64 \n",
      " 4   Model              172127 non-null  object\n",
      " 5   Kilometer          172127 non-null  int64 \n",
      " 6   RegistrationMonth  172127 non-null  int64 \n",
      " 7   FuelType           172127 non-null  object\n",
      " 8   Brand              172127 non-null  object\n",
      " 9   NotRepaired        172127 non-null  bool  \n",
      "dtypes: bool(1), int64(4), object(5)\n",
      "memory usage: 13.3+ MB\n"
     ]
    }
   ],
   "source": [
    "X_train_cat.info()"
   ]
  },
  {
   "cell_type": "markdown",
   "metadata": {},
   "source": [
    "Выделим категориальные признаки для атрибута cat_features"
   ]
  },
  {
   "cell_type": "code",
   "execution_count": 39,
   "metadata": {},
   "outputs": [],
   "source": [
    "cats = ['VehicleType', 'Gearbox', 'Model', 'FuelType', 'Brand']\n",
    "cat_1 = CatBoostRegressor(cat_features=cats)\n",
    "cat_2 = CatBoostRegressor()"
   ]
  },
  {
   "cell_type": "code",
   "execution_count": 40,
   "metadata": {
    "scrolled": false
   },
   "outputs": [
    {
     "name": "stdout",
     "output_type": "stream",
     "text": [
      "Время обучения CatBoost с категориальными признаками: 76.8781753\n"
     ]
    }
   ],
   "source": [
    "tic = time.perf_counter()\n",
    "cat_1.fit(X_train_cat, y_train_cat,verbose=False, cat_features=cats)\n",
    "toc = time.perf_counter()\n",
    "\n",
    "print(f'Время обучения CatBoost с категориальными признаками: {toc-tic}')"
   ]
  },
  {
   "cell_type": "code",
   "execution_count": 41,
   "metadata": {
    "scrolled": true
   },
   "outputs": [
    {
     "name": "stdout",
     "output_type": "stream",
     "text": [
      "Время обучения CatBoost с закодированными категориальными признаками: 10.471350299999983\n"
     ]
    }
   ],
   "source": [
    "tic = time.perf_counter()\n",
    "cat_2.fit(X_train, y_train,verbose=False)\n",
    "toc = time.perf_counter()\n",
    "\n",
    "print(f'Время обучения CatBoost с закодированными категориальными признаками: {toc-tic}')"
   ]
  },
  {
   "cell_type": "markdown",
   "metadata": {},
   "source": [
    "CatBoost выдал лучший результат за 35 секунд, что многовато. Попробуеум улучшить результат перебором параметров"
   ]
  },
  {
   "cell_type": "code",
   "execution_count": 42,
   "metadata": {
    "scrolled": true
   },
   "outputs": [],
   "source": [
    "# cat = CatBoostRegressor()\n",
    "# grid = {'depth'         : [4,5,6,7,8,9, 10],\n",
    "#        'learning_rate' : [0.01,0.02,0.03,0.04],\n",
    "#        'iterations'    : [10, 20,30,40,50,60,70,80,90, 100]\n",
    "#                 }\n",
    "\n",
    "# grid_search_result = cat.grid_search(grid, X=X_train, y=y_train, verbose=False, plot=True)"
   ]
  },
  {
   "cell_type": "markdown",
   "metadata": {},
   "source": [
    "Лучший результат перебора: 1666.5. При том, что CatBoost относительно долго обучается и результат далеко не лучший, от него откажемся"
   ]
  },
  {
   "cell_type": "markdown",
   "metadata": {},
   "source": [
    "Сделаем еще пару пайплайнов "
   ]
  },
  {
   "cell_type": "code",
   "execution_count": 43,
   "metadata": {
    "scrolled": false
   },
   "outputs": [
    {
     "name": "stdout",
     "output_type": "stream",
     "text": [
      "LGBM + scaler:  -1446.8758159603258\n",
      "Tree + scaler:  -1771.6342674017008\n"
     ]
    }
   ],
   "source": [
    "pipeline=ColumnTransformer([\n",
    "    ('num',StandardScaler(),num_cols),\n",
    "    ('cat',OrdinalEncoder(),obj_cols),\n",
    "])\n",
    "\n",
    "new_X = pipeline.fit_transform(X_train_cat)\n",
    "pipe1 = make_pipeline(LGBMRegressor(num_leaves=105, n_estimators=810, max_depth=27))\n",
    "\n",
    "pipe2 = make_pipeline(DecisionTreeRegressor(max_depth=12))\n",
    "\n",
    "print(\n",
    "    \"LGBM + scaler: \",\n",
    "    cross_val_score(pipe1, new_X, y_train_cat, scoring = rmse, cv=5).mean(),\n",
    ")\n",
    "print(\n",
    "    \"Tree + scaler: \", cross_val_score(pipe2, new_X, y_train, scoring = rmse, cv=5).mean()\n",
    ")"
   ]
  },
  {
   "cell_type": "markdown",
   "metadata": {},
   "source": [
    "Лучше не стало"
   ]
  },
  {
   "cell_type": "markdown",
   "metadata": {},
   "source": [
    "## Анализ моделей"
   ]
  },
  {
   "cell_type": "markdown",
   "metadata": {},
   "source": [
    "Сравним еще раз модели с новыми параметрами"
   ]
  },
  {
   "cell_type": "code",
   "execution_count": 46,
   "metadata": {
    "scrolled": true
   },
   "outputs": [
    {
     "name": "stdout",
     "output_type": "stream",
     "text": [
      "Learning rate set to 0.092351\n",
      "0:\tlearn: 4225.7664488\ttotal: 20.7ms\tremaining: 20.7s\n",
      "1:\tlearn: 3970.0188605\ttotal: 32.9ms\tremaining: 16.4s\n",
      "2:\tlearn: 3736.1197987\ttotal: 44.7ms\tremaining: 14.8s\n",
      "3:\tlearn: 3531.7892311\ttotal: 56.5ms\tremaining: 14.1s\n",
      "4:\tlearn: 3349.4873306\ttotal: 68.4ms\tremaining: 13.6s\n",
      "5:\tlearn: 3191.0746000\ttotal: 80.1ms\tremaining: 13.3s\n",
      "6:\tlearn: 3053.4387937\ttotal: 91.6ms\tremaining: 13s\n",
      "7:\tlearn: 2931.0223317\ttotal: 103ms\tremaining: 12.8s\n",
      "8:\tlearn: 2817.4715711\ttotal: 115ms\tremaining: 12.7s\n",
      "9:\tlearn: 2716.1568851\ttotal: 126ms\tremaining: 12.5s\n",
      "10:\tlearn: 2624.0481258\ttotal: 138ms\tremaining: 12.4s\n",
      "11:\tlearn: 2546.8910354\ttotal: 150ms\tremaining: 12.3s\n",
      "12:\tlearn: 2478.1047341\ttotal: 161ms\tremaining: 12.2s\n",
      "13:\tlearn: 2415.0049757\ttotal: 173ms\tremaining: 12.2s\n",
      "14:\tlearn: 2358.1948468\ttotal: 186ms\tremaining: 12.2s\n",
      "15:\tlearn: 2305.8330314\ttotal: 197ms\tremaining: 12.1s\n",
      "16:\tlearn: 2263.4818622\ttotal: 208ms\tremaining: 12s\n",
      "17:\tlearn: 2224.6717020\ttotal: 220ms\tremaining: 12s\n",
      "18:\tlearn: 2190.5741911\ttotal: 232ms\tremaining: 12s\n",
      "19:\tlearn: 2155.4557133\ttotal: 244ms\tremaining: 11.9s\n",
      "20:\tlearn: 2124.9458534\ttotal: 255ms\tremaining: 11.9s\n",
      "21:\tlearn: 2099.9695709\ttotal: 266ms\tremaining: 11.8s\n",
      "22:\tlearn: 2077.1220965\ttotal: 278ms\tremaining: 11.8s\n",
      "23:\tlearn: 2055.4025214\ttotal: 289ms\tremaining: 11.8s\n",
      "24:\tlearn: 2036.3914604\ttotal: 301ms\tremaining: 11.7s\n",
      "25:\tlearn: 2011.8648872\ttotal: 313ms\tremaining: 11.7s\n",
      "26:\tlearn: 1994.6706333\ttotal: 325ms\tremaining: 11.7s\n",
      "27:\tlearn: 1979.9156173\ttotal: 335ms\tremaining: 11.6s\n",
      "28:\tlearn: 1962.4766790\ttotal: 346ms\tremaining: 11.6s\n",
      "29:\tlearn: 1944.9858875\ttotal: 358ms\tremaining: 11.6s\n",
      "30:\tlearn: 1932.8036711\ttotal: 370ms\tremaining: 11.6s\n",
      "31:\tlearn: 1917.1435632\ttotal: 382ms\tremaining: 11.6s\n",
      "32:\tlearn: 1905.9123860\ttotal: 394ms\tremaining: 11.5s\n",
      "33:\tlearn: 1895.2064911\ttotal: 404ms\tremaining: 11.5s\n",
      "34:\tlearn: 1886.6634792\ttotal: 415ms\tremaining: 11.4s\n",
      "35:\tlearn: 1874.9996498\ttotal: 427ms\tremaining: 11.4s\n",
      "36:\tlearn: 1867.5034592\ttotal: 438ms\tremaining: 11.4s\n",
      "37:\tlearn: 1858.7915968\ttotal: 449ms\tremaining: 11.4s\n",
      "38:\tlearn: 1850.6809349\ttotal: 461ms\tremaining: 11.4s\n",
      "39:\tlearn: 1843.6625035\ttotal: 472ms\tremaining: 11.3s\n",
      "40:\tlearn: 1838.3018544\ttotal: 483ms\tremaining: 11.3s\n",
      "41:\tlearn: 1833.5858133\ttotal: 493ms\tremaining: 11.2s\n",
      "42:\tlearn: 1826.4054607\ttotal: 505ms\tremaining: 11.2s\n",
      "43:\tlearn: 1820.9742031\ttotal: 515ms\tremaining: 11.2s\n",
      "44:\tlearn: 1815.6818590\ttotal: 526ms\tremaining: 11.2s\n",
      "45:\tlearn: 1809.8059003\ttotal: 538ms\tremaining: 11.2s\n",
      "46:\tlearn: 1802.1038021\ttotal: 551ms\tremaining: 11.2s\n",
      "47:\tlearn: 1797.6633304\ttotal: 562ms\tremaining: 11.1s\n",
      "48:\tlearn: 1791.7217162\ttotal: 574ms\tremaining: 11.1s\n",
      "49:\tlearn: 1784.0043329\ttotal: 585ms\tremaining: 11.1s\n",
      "50:\tlearn: 1778.6046074\ttotal: 596ms\tremaining: 11.1s\n",
      "51:\tlearn: 1775.1848846\ttotal: 607ms\tremaining: 11.1s\n",
      "52:\tlearn: 1768.9510374\ttotal: 618ms\tremaining: 11s\n",
      "53:\tlearn: 1765.0577215\ttotal: 629ms\tremaining: 11s\n",
      "54:\tlearn: 1759.8512338\ttotal: 641ms\tremaining: 11s\n",
      "55:\tlearn: 1756.0326838\ttotal: 653ms\tremaining: 11s\n",
      "56:\tlearn: 1751.2135767\ttotal: 665ms\tremaining: 11s\n",
      "57:\tlearn: 1747.5899837\ttotal: 676ms\tremaining: 11s\n",
      "58:\tlearn: 1742.6767669\ttotal: 690ms\tremaining: 11s\n",
      "59:\tlearn: 1739.7007029\ttotal: 702ms\tremaining: 11s\n",
      "60:\tlearn: 1735.5717022\ttotal: 715ms\tremaining: 11s\n",
      "61:\tlearn: 1733.3787315\ttotal: 726ms\tremaining: 11s\n",
      "62:\tlearn: 1730.4550142\ttotal: 737ms\tremaining: 11s\n",
      "63:\tlearn: 1727.7807562\ttotal: 748ms\tremaining: 10.9s\n",
      "64:\tlearn: 1725.4586430\ttotal: 759ms\tremaining: 10.9s\n",
      "65:\tlearn: 1723.3788753\ttotal: 771ms\tremaining: 10.9s\n",
      "66:\tlearn: 1720.5016088\ttotal: 782ms\tremaining: 10.9s\n",
      "67:\tlearn: 1718.5325991\ttotal: 793ms\tremaining: 10.9s\n",
      "68:\tlearn: 1715.6698469\ttotal: 803ms\tremaining: 10.8s\n",
      "69:\tlearn: 1714.1311912\ttotal: 814ms\tremaining: 10.8s\n",
      "70:\tlearn: 1712.2505220\ttotal: 826ms\tremaining: 10.8s\n",
      "71:\tlearn: 1708.8751644\ttotal: 837ms\tremaining: 10.8s\n",
      "72:\tlearn: 1707.1291116\ttotal: 848ms\tremaining: 10.8s\n",
      "73:\tlearn: 1704.8036898\ttotal: 859ms\tremaining: 10.7s\n",
      "74:\tlearn: 1702.5665833\ttotal: 870ms\tremaining: 10.7s\n",
      "75:\tlearn: 1700.5871835\ttotal: 882ms\tremaining: 10.7s\n",
      "76:\tlearn: 1698.4796198\ttotal: 893ms\tremaining: 10.7s\n",
      "77:\tlearn: 1697.0978068\ttotal: 904ms\tremaining: 10.7s\n",
      "78:\tlearn: 1695.4825771\ttotal: 915ms\tremaining: 10.7s\n",
      "79:\tlearn: 1693.1931403\ttotal: 927ms\tremaining: 10.7s\n",
      "80:\tlearn: 1691.3280859\ttotal: 937ms\tremaining: 10.6s\n",
      "81:\tlearn: 1688.4029341\ttotal: 950ms\tremaining: 10.6s\n",
      "82:\tlearn: 1686.9249406\ttotal: 962ms\tremaining: 10.6s\n",
      "83:\tlearn: 1685.3231519\ttotal: 974ms\tremaining: 10.6s\n",
      "84:\tlearn: 1683.5478620\ttotal: 984ms\tremaining: 10.6s\n",
      "85:\tlearn: 1681.5409089\ttotal: 996ms\tremaining: 10.6s\n",
      "86:\tlearn: 1680.2904534\ttotal: 1.01s\tremaining: 10.6s\n",
      "87:\tlearn: 1678.8523927\ttotal: 1.02s\tremaining: 10.5s\n",
      "88:\tlearn: 1676.8084762\ttotal: 1.03s\tremaining: 10.5s\n",
      "89:\tlearn: 1675.4370318\ttotal: 1.04s\tremaining: 10.5s\n",
      "90:\tlearn: 1673.7505871\ttotal: 1.05s\tremaining: 10.5s\n",
      "91:\tlearn: 1672.5257311\ttotal: 1.06s\tremaining: 10.5s\n",
      "92:\tlearn: 1671.1657487\ttotal: 1.07s\tremaining: 10.5s\n",
      "93:\tlearn: 1669.6134494\ttotal: 1.08s\tremaining: 10.4s\n",
      "94:\tlearn: 1667.7553637\ttotal: 1.09s\tremaining: 10.4s\n",
      "95:\tlearn: 1666.2574505\ttotal: 1.11s\tremaining: 10.4s\n",
      "96:\tlearn: 1664.8768874\ttotal: 1.12s\tremaining: 10.4s\n",
      "97:\tlearn: 1664.1860415\ttotal: 1.13s\tremaining: 10.4s\n",
      "98:\tlearn: 1662.6988351\ttotal: 1.14s\tremaining: 10.4s\n",
      "99:\tlearn: 1661.4821358\ttotal: 1.15s\tremaining: 10.3s\n",
      "100:\tlearn: 1658.7005615\ttotal: 1.16s\tremaining: 10.3s\n",
      "101:\tlearn: 1656.8433778\ttotal: 1.17s\tremaining: 10.3s\n",
      "102:\tlearn: 1656.1789218\ttotal: 1.19s\tremaining: 10.3s\n",
      "103:\tlearn: 1654.6823535\ttotal: 1.2s\tremaining: 10.3s\n",
      "104:\tlearn: 1652.8077794\ttotal: 1.21s\tremaining: 10.3s\n",
      "105:\tlearn: 1651.6413792\ttotal: 1.22s\tremaining: 10.3s\n",
      "106:\tlearn: 1650.4485386\ttotal: 1.23s\tremaining: 10.3s\n",
      "107:\tlearn: 1649.2684016\ttotal: 1.24s\tremaining: 10.3s\n",
      "108:\tlearn: 1647.6588643\ttotal: 1.25s\tremaining: 10.3s\n",
      "109:\tlearn: 1646.7434997\ttotal: 1.26s\tremaining: 10.2s\n",
      "110:\tlearn: 1645.5382297\ttotal: 1.27s\tremaining: 10.2s\n",
      "111:\tlearn: 1644.2072903\ttotal: 1.29s\tremaining: 10.2s\n",
      "112:\tlearn: 1643.0279559\ttotal: 1.3s\tremaining: 10.2s\n",
      "113:\tlearn: 1641.7461066\ttotal: 1.31s\tremaining: 10.2s\n",
      "114:\tlearn: 1640.2492221\ttotal: 1.32s\tremaining: 10.2s\n",
      "115:\tlearn: 1639.0821623\ttotal: 1.33s\tremaining: 10.1s\n",
      "116:\tlearn: 1637.9358224\ttotal: 1.34s\tremaining: 10.1s\n",
      "117:\tlearn: 1636.7242887\ttotal: 1.35s\tremaining: 10.1s\n",
      "118:\tlearn: 1635.7298601\ttotal: 1.36s\tremaining: 10.1s\n",
      "119:\tlearn: 1634.9055450\ttotal: 1.37s\tremaining: 10.1s\n",
      "120:\tlearn: 1633.4557346\ttotal: 1.39s\tremaining: 10.1s\n",
      "121:\tlearn: 1632.7715285\ttotal: 1.4s\tremaining: 10s\n",
      "122:\tlearn: 1631.8893149\ttotal: 1.41s\tremaining: 10s\n",
      "123:\tlearn: 1630.9366243\ttotal: 1.42s\tremaining: 10s\n",
      "124:\tlearn: 1629.7456669\ttotal: 1.43s\tremaining: 10s\n",
      "125:\tlearn: 1628.8212677\ttotal: 1.44s\tremaining: 9.99s\n",
      "126:\tlearn: 1628.0209310\ttotal: 1.45s\tremaining: 9.98s\n",
      "127:\tlearn: 1626.6829872\ttotal: 1.46s\tremaining: 9.97s\n",
      "128:\tlearn: 1625.2111231\ttotal: 1.48s\tremaining: 9.96s\n",
      "129:\tlearn: 1624.1940844\ttotal: 1.49s\tremaining: 9.96s\n",
      "130:\tlearn: 1623.1823145\ttotal: 1.5s\tremaining: 9.95s\n",
      "131:\tlearn: 1622.0980332\ttotal: 1.51s\tremaining: 9.93s\n",
      "132:\tlearn: 1621.1422439\ttotal: 1.52s\tremaining: 9.92s\n",
      "133:\tlearn: 1620.1135703\ttotal: 1.53s\tremaining: 9.92s\n",
      "134:\tlearn: 1618.9665727\ttotal: 1.54s\tremaining: 9.9s\n",
      "135:\tlearn: 1618.2552410\ttotal: 1.56s\tremaining: 9.89s\n",
      "136:\tlearn: 1617.0558654\ttotal: 1.57s\tremaining: 9.88s\n",
      "137:\tlearn: 1616.2292912\ttotal: 1.58s\tremaining: 9.87s\n",
      "138:\tlearn: 1615.5577153\ttotal: 1.59s\tremaining: 9.87s\n",
      "139:\tlearn: 1614.4495185\ttotal: 1.6s\tremaining: 9.85s\n",
      "140:\tlearn: 1613.7975121\ttotal: 1.61s\tremaining: 9.84s\n",
      "141:\tlearn: 1613.2810809\ttotal: 1.63s\tremaining: 9.83s\n",
      "142:\tlearn: 1612.6498523\ttotal: 1.64s\tremaining: 9.82s\n",
      "143:\tlearn: 1611.7540048\ttotal: 1.65s\tremaining: 9.81s\n",
      "144:\tlearn: 1610.7359021\ttotal: 1.66s\tremaining: 9.8s\n",
      "145:\tlearn: 1609.4893798\ttotal: 1.67s\tremaining: 9.78s\n",
      "146:\tlearn: 1608.5203502\ttotal: 1.68s\tremaining: 9.77s\n",
      "147:\tlearn: 1607.4779467\ttotal: 1.7s\tremaining: 9.77s\n",
      "148:\tlearn: 1606.5958878\ttotal: 1.71s\tremaining: 9.75s\n",
      "149:\tlearn: 1605.9796291\ttotal: 1.72s\tremaining: 9.74s\n",
      "150:\tlearn: 1605.1807739\ttotal: 1.73s\tremaining: 9.74s\n",
      "151:\tlearn: 1604.2794148\ttotal: 1.74s\tremaining: 9.73s\n",
      "152:\tlearn: 1603.6321833\ttotal: 1.75s\tremaining: 9.72s\n",
      "153:\tlearn: 1602.9727444\ttotal: 1.77s\tremaining: 9.71s\n",
      "154:\tlearn: 1602.0014577\ttotal: 1.78s\tremaining: 9.7s\n",
      "155:\tlearn: 1600.8847540\ttotal: 1.79s\tremaining: 9.7s\n",
      "156:\tlearn: 1600.0985939\ttotal: 1.8s\tremaining: 9.68s\n",
      "157:\tlearn: 1599.5959342\ttotal: 1.81s\tremaining: 9.66s\n",
      "158:\tlearn: 1598.6000283\ttotal: 1.82s\tremaining: 9.65s\n",
      "159:\tlearn: 1598.0891294\ttotal: 1.84s\tremaining: 9.64s\n",
      "160:\tlearn: 1597.5223057\ttotal: 1.85s\tremaining: 9.63s\n",
      "161:\tlearn: 1596.4457052\ttotal: 1.86s\tremaining: 9.62s\n",
      "162:\tlearn: 1595.6345579\ttotal: 1.87s\tremaining: 9.6s\n",
      "163:\tlearn: 1594.8650813\ttotal: 1.88s\tremaining: 9.59s\n",
      "164:\tlearn: 1593.7158640\ttotal: 1.89s\tremaining: 9.57s\n",
      "165:\tlearn: 1593.1322440\ttotal: 1.9s\tremaining: 9.56s\n"
     ]
    },
    {
     "name": "stdout",
     "output_type": "stream",
     "text": [
      "166:\tlearn: 1592.5932765\ttotal: 1.92s\tremaining: 9.55s\n",
      "167:\tlearn: 1591.8360717\ttotal: 1.93s\tremaining: 9.55s\n",
      "168:\tlearn: 1591.1659202\ttotal: 1.94s\tremaining: 9.54s\n",
      "169:\tlearn: 1590.1595706\ttotal: 1.95s\tremaining: 9.52s\n",
      "170:\tlearn: 1589.5482347\ttotal: 1.96s\tremaining: 9.5s\n",
      "171:\tlearn: 1588.3362911\ttotal: 1.97s\tremaining: 9.5s\n",
      "172:\tlearn: 1587.5261131\ttotal: 1.98s\tremaining: 9.48s\n",
      "173:\tlearn: 1586.4749990\ttotal: 2s\tremaining: 9.47s\n",
      "174:\tlearn: 1586.0430001\ttotal: 2.01s\tremaining: 9.46s\n",
      "175:\tlearn: 1585.1735078\ttotal: 2.02s\tremaining: 9.44s\n",
      "176:\tlearn: 1584.5472136\ttotal: 2.03s\tremaining: 9.43s\n",
      "177:\tlearn: 1583.7427542\ttotal: 2.04s\tremaining: 9.42s\n",
      "178:\tlearn: 1582.9382600\ttotal: 2.05s\tremaining: 9.41s\n",
      "179:\tlearn: 1582.6481389\ttotal: 2.06s\tremaining: 9.4s\n",
      "180:\tlearn: 1582.0503380\ttotal: 2.07s\tremaining: 9.39s\n",
      "181:\tlearn: 1581.4556371\ttotal: 2.09s\tremaining: 9.38s\n",
      "182:\tlearn: 1580.6649284\ttotal: 2.1s\tremaining: 9.37s\n",
      "183:\tlearn: 1580.1271739\ttotal: 2.11s\tremaining: 9.35s\n",
      "184:\tlearn: 1579.7857385\ttotal: 2.12s\tremaining: 9.34s\n",
      "185:\tlearn: 1579.3104298\ttotal: 2.13s\tremaining: 9.33s\n",
      "186:\tlearn: 1578.6701127\ttotal: 2.14s\tremaining: 9.32s\n",
      "187:\tlearn: 1578.1061743\ttotal: 2.16s\tremaining: 9.31s\n",
      "188:\tlearn: 1577.7337809\ttotal: 2.17s\tremaining: 9.31s\n",
      "189:\tlearn: 1577.1555856\ttotal: 2.18s\tremaining: 9.29s\n",
      "190:\tlearn: 1576.6508495\ttotal: 2.19s\tremaining: 9.28s\n",
      "191:\tlearn: 1576.1916209\ttotal: 2.2s\tremaining: 9.27s\n",
      "192:\tlearn: 1575.2684838\ttotal: 2.21s\tremaining: 9.26s\n",
      "193:\tlearn: 1574.2888004\ttotal: 2.23s\tremaining: 9.25s\n",
      "194:\tlearn: 1573.7779571\ttotal: 2.24s\tremaining: 9.23s\n",
      "195:\tlearn: 1572.9128162\ttotal: 2.25s\tremaining: 9.22s\n",
      "196:\tlearn: 1572.4895807\ttotal: 2.26s\tremaining: 9.21s\n",
      "197:\tlearn: 1571.5340945\ttotal: 2.27s\tremaining: 9.2s\n",
      "198:\tlearn: 1570.7781201\ttotal: 2.28s\tremaining: 9.19s\n",
      "199:\tlearn: 1569.9810167\ttotal: 2.3s\tremaining: 9.19s\n",
      "200:\tlearn: 1569.3573039\ttotal: 2.31s\tremaining: 9.17s\n",
      "201:\tlearn: 1568.3993223\ttotal: 2.32s\tremaining: 9.16s\n",
      "202:\tlearn: 1567.7420621\ttotal: 2.33s\tremaining: 9.16s\n",
      "203:\tlearn: 1566.9695049\ttotal: 2.34s\tremaining: 9.15s\n",
      "204:\tlearn: 1566.4519398\ttotal: 2.36s\tremaining: 9.14s\n",
      "205:\tlearn: 1565.7553321\ttotal: 2.37s\tremaining: 9.13s\n",
      "206:\tlearn: 1564.9776647\ttotal: 2.38s\tremaining: 9.12s\n",
      "207:\tlearn: 1564.5069762\ttotal: 2.39s\tremaining: 9.11s\n",
      "208:\tlearn: 1563.7390752\ttotal: 2.4s\tremaining: 9.1s\n",
      "209:\tlearn: 1563.3453777\ttotal: 2.42s\tremaining: 9.09s\n",
      "210:\tlearn: 1562.8109425\ttotal: 2.43s\tremaining: 9.08s\n",
      "211:\tlearn: 1562.4288016\ttotal: 2.44s\tremaining: 9.07s\n",
      "212:\tlearn: 1561.9816696\ttotal: 2.45s\tremaining: 9.06s\n",
      "213:\tlearn: 1561.5896651\ttotal: 2.46s\tremaining: 9.05s\n",
      "214:\tlearn: 1561.1742502\ttotal: 2.48s\tremaining: 9.04s\n",
      "215:\tlearn: 1560.8438258\ttotal: 2.49s\tremaining: 9.03s\n",
      "216:\tlearn: 1560.2307671\ttotal: 2.5s\tremaining: 9.02s\n",
      "217:\tlearn: 1559.5753694\ttotal: 2.51s\tremaining: 9.01s\n",
      "218:\tlearn: 1559.1968343\ttotal: 2.52s\tremaining: 8.99s\n",
      "219:\tlearn: 1558.8787959\ttotal: 2.53s\tremaining: 8.97s\n",
      "220:\tlearn: 1558.3175711\ttotal: 2.54s\tremaining: 8.96s\n",
      "221:\tlearn: 1557.7150969\ttotal: 2.55s\tremaining: 8.95s\n",
      "222:\tlearn: 1557.1618086\ttotal: 2.56s\tremaining: 8.94s\n",
      "223:\tlearn: 1556.7384153\ttotal: 2.57s\tremaining: 8.92s\n",
      "224:\tlearn: 1556.0830592\ttotal: 2.58s\tremaining: 8.9s\n",
      "225:\tlearn: 1555.8588558\ttotal: 2.6s\tremaining: 8.89s\n",
      "226:\tlearn: 1555.1100753\ttotal: 2.61s\tremaining: 8.88s\n",
      "227:\tlearn: 1554.7634362\ttotal: 2.62s\tremaining: 8.86s\n",
      "228:\tlearn: 1554.1882477\ttotal: 2.63s\tremaining: 8.86s\n",
      "229:\tlearn: 1553.6388850\ttotal: 2.64s\tremaining: 8.84s\n",
      "230:\tlearn: 1553.1966811\ttotal: 2.65s\tremaining: 8.83s\n",
      "231:\tlearn: 1552.6589614\ttotal: 2.66s\tremaining: 8.82s\n",
      "232:\tlearn: 1551.7865445\ttotal: 2.68s\tremaining: 8.81s\n",
      "233:\tlearn: 1551.1106622\ttotal: 2.69s\tremaining: 8.8s\n",
      "234:\tlearn: 1550.5185387\ttotal: 2.7s\tremaining: 8.79s\n",
      "235:\tlearn: 1550.0743620\ttotal: 2.71s\tremaining: 8.78s\n",
      "236:\tlearn: 1549.8844988\ttotal: 2.72s\tremaining: 8.76s\n",
      "237:\tlearn: 1549.5568786\ttotal: 2.73s\tremaining: 8.75s\n",
      "238:\tlearn: 1549.0409541\ttotal: 2.74s\tremaining: 8.74s\n",
      "239:\tlearn: 1548.6637937\ttotal: 2.75s\tremaining: 8.73s\n",
      "240:\tlearn: 1548.1330387\ttotal: 2.77s\tremaining: 8.71s\n",
      "241:\tlearn: 1547.8416241\ttotal: 2.78s\tremaining: 8.7s\n",
      "242:\tlearn: 1547.3434222\ttotal: 2.79s\tremaining: 8.69s\n",
      "243:\tlearn: 1546.8923505\ttotal: 2.8s\tremaining: 8.68s\n",
      "244:\tlearn: 1546.4995675\ttotal: 2.81s\tremaining: 8.67s\n",
      "245:\tlearn: 1546.1770758\ttotal: 2.82s\tremaining: 8.65s\n",
      "246:\tlearn: 1545.8640357\ttotal: 2.83s\tremaining: 8.64s\n",
      "247:\tlearn: 1545.1885959\ttotal: 2.85s\tremaining: 8.63s\n",
      "248:\tlearn: 1544.4481695\ttotal: 2.86s\tremaining: 8.62s\n",
      "249:\tlearn: 1544.0407539\ttotal: 2.87s\tremaining: 8.61s\n",
      "250:\tlearn: 1543.7107718\ttotal: 2.88s\tremaining: 8.59s\n",
      "251:\tlearn: 1543.2128125\ttotal: 2.89s\tremaining: 8.58s\n",
      "252:\tlearn: 1542.6226776\ttotal: 2.9s\tremaining: 8.57s\n",
      "253:\tlearn: 1542.2930285\ttotal: 2.91s\tremaining: 8.56s\n",
      "254:\tlearn: 1541.9415442\ttotal: 2.92s\tremaining: 8.54s\n",
      "255:\tlearn: 1541.3355766\ttotal: 2.94s\tremaining: 8.53s\n",
      "256:\tlearn: 1540.7863101\ttotal: 2.95s\tremaining: 8.53s\n",
      "257:\tlearn: 1539.9475591\ttotal: 2.96s\tremaining: 8.52s\n",
      "258:\tlearn: 1539.6536003\ttotal: 2.97s\tremaining: 8.51s\n",
      "259:\tlearn: 1539.1926689\ttotal: 2.99s\tremaining: 8.5s\n",
      "260:\tlearn: 1538.7934032\ttotal: 3s\tremaining: 8.5s\n",
      "261:\tlearn: 1538.2387733\ttotal: 3.01s\tremaining: 8.49s\n",
      "262:\tlearn: 1537.9377992\ttotal: 3.02s\tremaining: 8.47s\n",
      "263:\tlearn: 1537.5489376\ttotal: 3.04s\tremaining: 8.46s\n",
      "264:\tlearn: 1537.1329125\ttotal: 3.05s\tremaining: 8.45s\n",
      "265:\tlearn: 1536.7341098\ttotal: 3.06s\tremaining: 8.44s\n",
      "266:\tlearn: 1536.4517938\ttotal: 3.07s\tremaining: 8.42s\n",
      "267:\tlearn: 1536.1721780\ttotal: 3.08s\tremaining: 8.41s\n",
      "268:\tlearn: 1535.5237561\ttotal: 3.09s\tremaining: 8.4s\n",
      "269:\tlearn: 1535.1438070\ttotal: 3.1s\tremaining: 8.39s\n",
      "270:\tlearn: 1534.6009423\ttotal: 3.11s\tremaining: 8.38s\n",
      "271:\tlearn: 1534.1043921\ttotal: 3.12s\tremaining: 8.36s\n",
      "272:\tlearn: 1533.6615510\ttotal: 3.14s\tremaining: 8.35s\n",
      "273:\tlearn: 1533.0017303\ttotal: 3.15s\tremaining: 8.34s\n",
      "274:\tlearn: 1532.7078308\ttotal: 3.16s\tremaining: 8.32s\n",
      "275:\tlearn: 1532.2607517\ttotal: 3.17s\tremaining: 8.31s\n",
      "276:\tlearn: 1532.0408859\ttotal: 3.18s\tremaining: 8.3s\n",
      "277:\tlearn: 1531.5797670\ttotal: 3.19s\tremaining: 8.29s\n",
      "278:\tlearn: 1531.3559658\ttotal: 3.2s\tremaining: 8.27s\n",
      "279:\tlearn: 1531.0401069\ttotal: 3.21s\tremaining: 8.26s\n",
      "280:\tlearn: 1530.6543191\ttotal: 3.22s\tremaining: 8.25s\n",
      "281:\tlearn: 1530.3875923\ttotal: 3.23s\tremaining: 8.23s\n",
      "282:\tlearn: 1529.9088786\ttotal: 3.25s\tremaining: 8.22s\n",
      "283:\tlearn: 1529.3633055\ttotal: 3.26s\tremaining: 8.21s\n",
      "284:\tlearn: 1529.0501039\ttotal: 3.27s\tremaining: 8.2s\n",
      "285:\tlearn: 1528.6691871\ttotal: 3.28s\tremaining: 8.19s\n",
      "286:\tlearn: 1528.1346442\ttotal: 3.29s\tremaining: 8.17s\n",
      "287:\tlearn: 1527.6177588\ttotal: 3.3s\tremaining: 8.16s\n",
      "288:\tlearn: 1527.1878000\ttotal: 3.31s\tremaining: 8.15s\n",
      "289:\tlearn: 1526.7912916\ttotal: 3.33s\tremaining: 8.14s\n",
      "290:\tlearn: 1526.3519880\ttotal: 3.34s\tremaining: 8.13s\n",
      "291:\tlearn: 1526.0673800\ttotal: 3.35s\tremaining: 8.12s\n",
      "292:\tlearn: 1525.7367234\ttotal: 3.36s\tremaining: 8.1s\n",
      "293:\tlearn: 1525.2530190\ttotal: 3.37s\tremaining: 8.09s\n",
      "294:\tlearn: 1524.7450614\ttotal: 3.38s\tremaining: 8.08s\n",
      "295:\tlearn: 1524.3942942\ttotal: 3.39s\tremaining: 8.07s\n",
      "296:\tlearn: 1523.9992322\ttotal: 3.4s\tremaining: 8.06s\n",
      "297:\tlearn: 1523.4166520\ttotal: 3.41s\tremaining: 8.04s\n",
      "298:\tlearn: 1523.0999043\ttotal: 3.42s\tremaining: 8.03s\n",
      "299:\tlearn: 1522.8084762\ttotal: 3.44s\tremaining: 8.02s\n",
      "300:\tlearn: 1522.4394795\ttotal: 3.45s\tremaining: 8.01s\n",
      "301:\tlearn: 1522.0171660\ttotal: 3.46s\tremaining: 7.99s\n",
      "302:\tlearn: 1521.7523985\ttotal: 3.47s\tremaining: 7.98s\n",
      "303:\tlearn: 1521.1991814\ttotal: 3.48s\tremaining: 7.96s\n",
      "304:\tlearn: 1520.8151531\ttotal: 3.49s\tremaining: 7.95s\n",
      "305:\tlearn: 1520.5781935\ttotal: 3.5s\tremaining: 7.94s\n",
      "306:\tlearn: 1520.2524931\ttotal: 3.51s\tremaining: 7.93s\n",
      "307:\tlearn: 1519.9169485\ttotal: 3.52s\tremaining: 7.92s\n",
      "308:\tlearn: 1519.4345252\ttotal: 3.53s\tremaining: 7.9s\n",
      "309:\tlearn: 1519.2136287\ttotal: 3.54s\tremaining: 7.89s\n",
      "310:\tlearn: 1518.7105780\ttotal: 3.56s\tremaining: 7.88s\n",
      "311:\tlearn: 1518.4534543\ttotal: 3.57s\tremaining: 7.86s\n",
      "312:\tlearn: 1518.0989819\ttotal: 3.58s\tremaining: 7.85s\n",
      "313:\tlearn: 1517.8046960\ttotal: 3.59s\tremaining: 7.84s\n",
      "314:\tlearn: 1517.2440498\ttotal: 3.6s\tremaining: 7.83s\n",
      "315:\tlearn: 1516.8625658\ttotal: 3.61s\tremaining: 7.82s\n",
      "316:\tlearn: 1516.5337233\ttotal: 3.62s\tremaining: 7.81s\n"
     ]
    },
    {
     "name": "stdout",
     "output_type": "stream",
     "text": [
      "317:\tlearn: 1516.2894550\ttotal: 3.63s\tremaining: 7.79s\n",
      "318:\tlearn: 1516.0344010\ttotal: 3.65s\tremaining: 7.78s\n",
      "319:\tlearn: 1515.5125159\ttotal: 3.66s\tremaining: 7.77s\n",
      "320:\tlearn: 1515.1106912\ttotal: 3.67s\tremaining: 7.76s\n",
      "321:\tlearn: 1514.7227982\ttotal: 3.68s\tremaining: 7.74s\n",
      "322:\tlearn: 1514.4132517\ttotal: 3.69s\tremaining: 7.73s\n",
      "323:\tlearn: 1513.8605320\ttotal: 3.7s\tremaining: 7.72s\n",
      "324:\tlearn: 1513.6587407\ttotal: 3.71s\tremaining: 7.71s\n",
      "325:\tlearn: 1513.2497917\ttotal: 3.72s\tremaining: 7.7s\n",
      "326:\tlearn: 1512.8866512\ttotal: 3.73s\tremaining: 7.68s\n",
      "327:\tlearn: 1512.5943307\ttotal: 3.74s\tremaining: 7.67s\n",
      "328:\tlearn: 1512.3719646\ttotal: 3.75s\tremaining: 7.66s\n",
      "329:\tlearn: 1512.0920445\ttotal: 3.77s\tremaining: 7.65s\n",
      "330:\tlearn: 1511.8817907\ttotal: 3.78s\tremaining: 7.63s\n",
      "331:\tlearn: 1511.7011046\ttotal: 3.79s\tremaining: 7.62s\n",
      "332:\tlearn: 1511.0625747\ttotal: 3.8s\tremaining: 7.61s\n",
      "333:\tlearn: 1510.7079320\ttotal: 3.81s\tremaining: 7.59s\n",
      "334:\tlearn: 1510.2469743\ttotal: 3.82s\tremaining: 7.58s\n",
      "335:\tlearn: 1510.0664969\ttotal: 3.83s\tremaining: 7.58s\n",
      "336:\tlearn: 1509.7160118\ttotal: 3.84s\tremaining: 7.56s\n",
      "337:\tlearn: 1509.5115828\ttotal: 3.86s\tremaining: 7.55s\n",
      "338:\tlearn: 1509.2923408\ttotal: 3.87s\tremaining: 7.54s\n",
      "339:\tlearn: 1508.8466774\ttotal: 3.88s\tremaining: 7.53s\n",
      "340:\tlearn: 1508.5331958\ttotal: 3.89s\tremaining: 7.52s\n",
      "341:\tlearn: 1508.2588304\ttotal: 3.9s\tremaining: 7.5s\n",
      "342:\tlearn: 1507.8007834\ttotal: 3.91s\tremaining: 7.49s\n",
      "343:\tlearn: 1507.4037880\ttotal: 3.92s\tremaining: 7.48s\n",
      "344:\tlearn: 1507.1625229\ttotal: 3.94s\tremaining: 7.47s\n",
      "345:\tlearn: 1506.9171707\ttotal: 3.95s\tremaining: 7.46s\n",
      "346:\tlearn: 1506.6935096\ttotal: 3.96s\tremaining: 7.45s\n",
      "347:\tlearn: 1506.3823544\ttotal: 3.97s\tremaining: 7.44s\n",
      "348:\tlearn: 1506.1601260\ttotal: 3.98s\tremaining: 7.43s\n",
      "349:\tlearn: 1505.7559643\ttotal: 3.99s\tremaining: 7.42s\n",
      "350:\tlearn: 1505.5483886\ttotal: 4s\tremaining: 7.4s\n",
      "351:\tlearn: 1505.1295242\ttotal: 4.01s\tremaining: 7.39s\n",
      "352:\tlearn: 1504.8244772\ttotal: 4.03s\tremaining: 7.38s\n",
      "353:\tlearn: 1504.5450907\ttotal: 4.04s\tremaining: 7.37s\n",
      "354:\tlearn: 1504.0687646\ttotal: 4.05s\tremaining: 7.35s\n",
      "355:\tlearn: 1503.6782892\ttotal: 4.06s\tremaining: 7.34s\n",
      "356:\tlearn: 1503.3882529\ttotal: 4.07s\tremaining: 7.33s\n",
      "357:\tlearn: 1503.1053490\ttotal: 4.08s\tremaining: 7.32s\n",
      "358:\tlearn: 1502.6894964\ttotal: 4.09s\tremaining: 7.3s\n",
      "359:\tlearn: 1502.3731007\ttotal: 4.1s\tremaining: 7.29s\n",
      "360:\tlearn: 1502.1714944\ttotal: 4.11s\tremaining: 7.28s\n",
      "361:\tlearn: 1501.9500403\ttotal: 4.12s\tremaining: 7.27s\n",
      "362:\tlearn: 1501.6567053\ttotal: 4.13s\tremaining: 7.25s\n",
      "363:\tlearn: 1501.4194436\ttotal: 4.15s\tremaining: 7.24s\n",
      "364:\tlearn: 1501.1514565\ttotal: 4.16s\tremaining: 7.23s\n",
      "365:\tlearn: 1500.7296934\ttotal: 4.17s\tremaining: 7.22s\n",
      "366:\tlearn: 1500.4773279\ttotal: 4.18s\tremaining: 7.21s\n",
      "367:\tlearn: 1500.3077522\ttotal: 4.19s\tremaining: 7.2s\n",
      "368:\tlearn: 1500.0315618\ttotal: 4.2s\tremaining: 7.18s\n",
      "369:\tlearn: 1499.8639849\ttotal: 4.21s\tremaining: 7.17s\n",
      "370:\tlearn: 1499.6853716\ttotal: 4.22s\tremaining: 7.16s\n",
      "371:\tlearn: 1499.4735850\ttotal: 4.23s\tremaining: 7.15s\n",
      "372:\tlearn: 1499.1692059\ttotal: 4.25s\tremaining: 7.14s\n",
      "373:\tlearn: 1498.9742994\ttotal: 4.26s\tremaining: 7.13s\n",
      "374:\tlearn: 1498.7707410\ttotal: 4.27s\tremaining: 7.11s\n",
      "375:\tlearn: 1498.3731447\ttotal: 4.28s\tremaining: 7.1s\n",
      "376:\tlearn: 1498.2038472\ttotal: 4.29s\tremaining: 7.09s\n",
      "377:\tlearn: 1497.8049936\ttotal: 4.3s\tremaining: 7.08s\n",
      "378:\tlearn: 1497.5355945\ttotal: 4.31s\tremaining: 7.07s\n",
      "379:\tlearn: 1497.2095074\ttotal: 4.33s\tremaining: 7.06s\n",
      "380:\tlearn: 1496.9062363\ttotal: 4.34s\tremaining: 7.05s\n",
      "381:\tlearn: 1496.4911477\ttotal: 4.35s\tremaining: 7.03s\n",
      "382:\tlearn: 1496.2036053\ttotal: 4.36s\tremaining: 7.02s\n",
      "383:\tlearn: 1495.9595263\ttotal: 4.37s\tremaining: 7.01s\n",
      "384:\tlearn: 1495.7254852\ttotal: 4.38s\tremaining: 7s\n",
      "385:\tlearn: 1495.4663277\ttotal: 4.39s\tremaining: 6.99s\n",
      "386:\tlearn: 1495.2521702\ttotal: 4.4s\tremaining: 6.98s\n",
      "387:\tlearn: 1494.8886550\ttotal: 4.41s\tremaining: 6.96s\n",
      "388:\tlearn: 1494.6202073\ttotal: 4.43s\tremaining: 6.95s\n",
      "389:\tlearn: 1494.4574958\ttotal: 4.44s\tremaining: 6.94s\n",
      "390:\tlearn: 1494.1549462\ttotal: 4.45s\tremaining: 6.93s\n",
      "391:\tlearn: 1493.6644211\ttotal: 4.46s\tremaining: 6.91s\n",
      "392:\tlearn: 1493.4728178\ttotal: 4.47s\tremaining: 6.9s\n",
      "393:\tlearn: 1493.3130615\ttotal: 4.48s\tremaining: 6.89s\n",
      "394:\tlearn: 1492.9340882\ttotal: 4.49s\tremaining: 6.88s\n",
      "395:\tlearn: 1492.6018277\ttotal: 4.5s\tremaining: 6.86s\n",
      "396:\tlearn: 1492.4538818\ttotal: 4.51s\tremaining: 6.85s\n",
      "397:\tlearn: 1492.2333376\ttotal: 4.52s\tremaining: 6.84s\n",
      "398:\tlearn: 1492.0310881\ttotal: 4.53s\tremaining: 6.83s\n",
      "399:\tlearn: 1491.8217854\ttotal: 4.54s\tremaining: 6.82s\n",
      "400:\tlearn: 1491.5209160\ttotal: 4.55s\tremaining: 6.8s\n",
      "401:\tlearn: 1491.2297413\ttotal: 4.57s\tremaining: 6.79s\n",
      "402:\tlearn: 1490.9821183\ttotal: 4.58s\tremaining: 6.78s\n",
      "403:\tlearn: 1490.6694929\ttotal: 4.59s\tremaining: 6.77s\n",
      "404:\tlearn: 1490.4577114\ttotal: 4.6s\tremaining: 6.76s\n",
      "405:\tlearn: 1490.0453352\ttotal: 4.61s\tremaining: 6.75s\n",
      "406:\tlearn: 1489.8770363\ttotal: 4.62s\tremaining: 6.74s\n",
      "407:\tlearn: 1489.6951501\ttotal: 4.63s\tremaining: 6.72s\n",
      "408:\tlearn: 1489.4721253\ttotal: 4.64s\tremaining: 6.71s\n",
      "409:\tlearn: 1489.1908184\ttotal: 4.66s\tremaining: 6.7s\n",
      "410:\tlearn: 1489.0196350\ttotal: 4.67s\tremaining: 6.69s\n",
      "411:\tlearn: 1488.7506934\ttotal: 4.68s\tremaining: 6.67s\n",
      "412:\tlearn: 1488.5166536\ttotal: 4.69s\tremaining: 6.66s\n",
      "413:\tlearn: 1488.2100561\ttotal: 4.7s\tremaining: 6.65s\n",
      "414:\tlearn: 1487.9905678\ttotal: 4.71s\tremaining: 6.64s\n",
      "415:\tlearn: 1487.8469748\ttotal: 4.72s\tremaining: 6.63s\n",
      "416:\tlearn: 1487.5312824\ttotal: 4.73s\tremaining: 6.62s\n",
      "417:\tlearn: 1487.3036305\ttotal: 4.74s\tremaining: 6.6s\n",
      "418:\tlearn: 1486.9609337\ttotal: 4.75s\tremaining: 6.59s\n",
      "419:\tlearn: 1486.7105677\ttotal: 4.76s\tremaining: 6.58s\n",
      "420:\tlearn: 1486.4308729\ttotal: 4.78s\tremaining: 6.57s\n",
      "421:\tlearn: 1486.0692493\ttotal: 4.79s\tremaining: 6.56s\n",
      "422:\tlearn: 1485.9245658\ttotal: 4.8s\tremaining: 6.55s\n",
      "423:\tlearn: 1485.6749946\ttotal: 4.81s\tremaining: 6.53s\n",
      "424:\tlearn: 1485.4295915\ttotal: 4.82s\tremaining: 6.52s\n",
      "425:\tlearn: 1485.1475598\ttotal: 4.83s\tremaining: 6.51s\n",
      "426:\tlearn: 1484.9227698\ttotal: 4.84s\tremaining: 6.5s\n",
      "427:\tlearn: 1484.6010984\ttotal: 4.86s\tremaining: 6.49s\n",
      "428:\tlearn: 1484.3631692\ttotal: 4.87s\tremaining: 6.48s\n",
      "429:\tlearn: 1483.9747077\ttotal: 4.88s\tremaining: 6.47s\n",
      "430:\tlearn: 1483.7678366\ttotal: 4.9s\tremaining: 6.46s\n",
      "431:\tlearn: 1483.2962340\ttotal: 4.91s\tremaining: 6.46s\n",
      "432:\tlearn: 1483.0154674\ttotal: 4.92s\tremaining: 6.45s\n",
      "433:\tlearn: 1482.7612387\ttotal: 4.94s\tremaining: 6.44s\n",
      "434:\tlearn: 1482.5067664\ttotal: 4.95s\tremaining: 6.43s\n",
      "435:\tlearn: 1482.1099172\ttotal: 4.96s\tremaining: 6.42s\n",
      "436:\tlearn: 1481.7983149\ttotal: 4.97s\tremaining: 6.41s\n",
      "437:\tlearn: 1481.6099756\ttotal: 4.99s\tremaining: 6.4s\n",
      "438:\tlearn: 1481.4166131\ttotal: 5s\tremaining: 6.39s\n",
      "439:\tlearn: 1481.2078348\ttotal: 5.01s\tremaining: 6.38s\n",
      "440:\tlearn: 1481.0491828\ttotal: 5.03s\tremaining: 6.37s\n",
      "441:\tlearn: 1480.7912124\ttotal: 5.04s\tremaining: 6.36s\n",
      "442:\tlearn: 1480.4234306\ttotal: 5.05s\tremaining: 6.35s\n",
      "443:\tlearn: 1480.2865065\ttotal: 5.06s\tremaining: 6.34s\n",
      "444:\tlearn: 1479.9791056\ttotal: 5.07s\tremaining: 6.33s\n",
      "445:\tlearn: 1479.7313566\ttotal: 5.09s\tremaining: 6.32s\n",
      "446:\tlearn: 1479.5138780\ttotal: 5.1s\tremaining: 6.31s\n",
      "447:\tlearn: 1479.3051816\ttotal: 5.11s\tremaining: 6.29s\n",
      "448:\tlearn: 1479.0847368\ttotal: 5.12s\tremaining: 6.28s\n",
      "449:\tlearn: 1478.8399863\ttotal: 5.13s\tremaining: 6.27s\n",
      "450:\tlearn: 1478.6039509\ttotal: 5.14s\tremaining: 6.26s\n",
      "451:\tlearn: 1478.2961814\ttotal: 5.15s\tremaining: 6.25s\n",
      "452:\tlearn: 1478.1166649\ttotal: 5.16s\tremaining: 6.24s\n",
      "453:\tlearn: 1477.9477738\ttotal: 5.18s\tremaining: 6.22s\n",
      "454:\tlearn: 1477.7536060\ttotal: 5.19s\tremaining: 6.21s\n",
      "455:\tlearn: 1477.5031190\ttotal: 5.2s\tremaining: 6.2s\n",
      "456:\tlearn: 1477.3215343\ttotal: 5.21s\tremaining: 6.19s\n",
      "457:\tlearn: 1477.1505877\ttotal: 5.22s\tremaining: 6.18s\n",
      "458:\tlearn: 1476.9809750\ttotal: 5.23s\tremaining: 6.17s\n",
      "459:\tlearn: 1476.7675956\ttotal: 5.24s\tremaining: 6.15s\n",
      "460:\tlearn: 1476.5641056\ttotal: 5.25s\tremaining: 6.14s\n",
      "461:\tlearn: 1476.3940470\ttotal: 5.26s\tremaining: 6.13s\n",
      "462:\tlearn: 1476.2562656\ttotal: 5.27s\tremaining: 6.12s\n",
      "463:\tlearn: 1475.9251751\ttotal: 5.29s\tremaining: 6.11s\n",
      "464:\tlearn: 1475.7661964\ttotal: 5.3s\tremaining: 6.09s\n",
      "465:\tlearn: 1475.5575588\ttotal: 5.31s\tremaining: 6.09s\n",
      "466:\tlearn: 1475.4822324\ttotal: 5.32s\tremaining: 6.08s\n",
      "467:\tlearn: 1475.3704120\ttotal: 5.33s\tremaining: 6.07s\n",
      "468:\tlearn: 1475.1705690\ttotal: 5.35s\tremaining: 6.05s\n",
      "469:\tlearn: 1474.9662777\ttotal: 5.36s\tremaining: 6.04s\n",
      "470:\tlearn: 1474.7274559\ttotal: 5.37s\tremaining: 6.03s\n",
      "471:\tlearn: 1474.4694742\ttotal: 5.38s\tremaining: 6.02s\n"
     ]
    },
    {
     "name": "stdout",
     "output_type": "stream",
     "text": [
      "472:\tlearn: 1474.2554114\ttotal: 5.4s\tremaining: 6.01s\n",
      "473:\tlearn: 1474.0842045\ttotal: 5.41s\tremaining: 6.01s\n",
      "474:\tlearn: 1473.8121685\ttotal: 5.43s\tremaining: 6s\n",
      "475:\tlearn: 1473.5855201\ttotal: 5.44s\tremaining: 5.99s\n",
      "476:\tlearn: 1473.3532131\ttotal: 5.46s\tremaining: 5.98s\n",
      "477:\tlearn: 1473.0053819\ttotal: 5.47s\tremaining: 5.97s\n",
      "478:\tlearn: 1472.8046784\ttotal: 5.48s\tremaining: 5.96s\n",
      "479:\tlearn: 1472.6974760\ttotal: 5.49s\tremaining: 5.95s\n",
      "480:\tlearn: 1472.4359895\ttotal: 5.5s\tremaining: 5.94s\n",
      "481:\tlearn: 1472.1260422\ttotal: 5.52s\tremaining: 5.93s\n",
      "482:\tlearn: 1471.9832509\ttotal: 5.53s\tremaining: 5.92s\n",
      "483:\tlearn: 1471.8473309\ttotal: 5.54s\tremaining: 5.91s\n",
      "484:\tlearn: 1471.6017684\ttotal: 5.55s\tremaining: 5.9s\n",
      "485:\tlearn: 1471.4318395\ttotal: 5.57s\tremaining: 5.89s\n",
      "486:\tlearn: 1471.3059241\ttotal: 5.58s\tremaining: 5.88s\n",
      "487:\tlearn: 1471.1138896\ttotal: 5.59s\tremaining: 5.87s\n",
      "488:\tlearn: 1470.9334404\ttotal: 5.6s\tremaining: 5.86s\n",
      "489:\tlearn: 1470.7406785\ttotal: 5.62s\tremaining: 5.84s\n",
      "490:\tlearn: 1470.5038897\ttotal: 5.63s\tremaining: 5.83s\n",
      "491:\tlearn: 1470.3483487\ttotal: 5.64s\tremaining: 5.82s\n",
      "492:\tlearn: 1470.1547960\ttotal: 5.65s\tremaining: 5.81s\n",
      "493:\tlearn: 1469.8472017\ttotal: 5.66s\tremaining: 5.8s\n",
      "494:\tlearn: 1469.5380526\ttotal: 5.67s\tremaining: 5.79s\n",
      "495:\tlearn: 1469.4117901\ttotal: 5.69s\tremaining: 5.78s\n",
      "496:\tlearn: 1469.2429919\ttotal: 5.7s\tremaining: 5.77s\n",
      "497:\tlearn: 1469.0858868\ttotal: 5.71s\tremaining: 5.76s\n",
      "498:\tlearn: 1468.8259024\ttotal: 5.72s\tremaining: 5.75s\n",
      "499:\tlearn: 1468.6771886\ttotal: 5.74s\tremaining: 5.74s\n",
      "500:\tlearn: 1468.5288640\ttotal: 5.75s\tremaining: 5.73s\n",
      "501:\tlearn: 1468.2998579\ttotal: 5.76s\tremaining: 5.72s\n",
      "502:\tlearn: 1467.9284822\ttotal: 5.77s\tremaining: 5.71s\n",
      "503:\tlearn: 1467.5465731\ttotal: 5.79s\tremaining: 5.7s\n",
      "504:\tlearn: 1467.3518057\ttotal: 5.8s\tremaining: 5.69s\n",
      "505:\tlearn: 1467.1304276\ttotal: 5.82s\tremaining: 5.68s\n",
      "506:\tlearn: 1466.9649428\ttotal: 5.83s\tremaining: 5.67s\n",
      "507:\tlearn: 1466.8296646\ttotal: 5.84s\tremaining: 5.66s\n",
      "508:\tlearn: 1466.5457877\ttotal: 5.85s\tremaining: 5.65s\n",
      "509:\tlearn: 1466.2351922\ttotal: 5.87s\tremaining: 5.63s\n",
      "510:\tlearn: 1466.0026953\ttotal: 5.88s\tremaining: 5.62s\n",
      "511:\tlearn: 1465.7919133\ttotal: 5.89s\tremaining: 5.61s\n",
      "512:\tlearn: 1465.5321935\ttotal: 5.9s\tremaining: 5.6s\n",
      "513:\tlearn: 1465.3235112\ttotal: 5.91s\tremaining: 5.59s\n",
      "514:\tlearn: 1465.0943842\ttotal: 5.92s\tremaining: 5.58s\n",
      "515:\tlearn: 1464.8600799\ttotal: 5.93s\tremaining: 5.56s\n",
      "516:\tlearn: 1464.7128758\ttotal: 5.94s\tremaining: 5.55s\n",
      "517:\tlearn: 1464.5237149\ttotal: 5.95s\tremaining: 5.54s\n",
      "518:\tlearn: 1464.4143443\ttotal: 5.96s\tremaining: 5.53s\n",
      "519:\tlearn: 1464.2852303\ttotal: 5.98s\tremaining: 5.52s\n",
      "520:\tlearn: 1464.1177242\ttotal: 5.99s\tremaining: 5.51s\n",
      "521:\tlearn: 1463.8861425\ttotal: 6s\tremaining: 5.5s\n",
      "522:\tlearn: 1463.7252304\ttotal: 6.01s\tremaining: 5.48s\n",
      "523:\tlearn: 1463.5037988\ttotal: 6.03s\tremaining: 5.47s\n",
      "524:\tlearn: 1463.3145221\ttotal: 6.04s\tremaining: 5.46s\n",
      "525:\tlearn: 1463.0715554\ttotal: 6.05s\tremaining: 5.45s\n",
      "526:\tlearn: 1462.9479730\ttotal: 6.06s\tremaining: 5.44s\n",
      "527:\tlearn: 1462.7223731\ttotal: 6.07s\tremaining: 5.43s\n",
      "528:\tlearn: 1462.5576672\ttotal: 6.08s\tremaining: 5.42s\n",
      "529:\tlearn: 1462.3890051\ttotal: 6.1s\tremaining: 5.41s\n",
      "530:\tlearn: 1462.1469235\ttotal: 6.11s\tremaining: 5.39s\n",
      "531:\tlearn: 1462.0206685\ttotal: 6.12s\tremaining: 5.38s\n",
      "532:\tlearn: 1461.6706962\ttotal: 6.13s\tremaining: 5.37s\n",
      "533:\tlearn: 1461.3934459\ttotal: 6.15s\tremaining: 5.36s\n",
      "534:\tlearn: 1461.0421236\ttotal: 6.16s\tremaining: 5.35s\n",
      "535:\tlearn: 1460.7376761\ttotal: 6.17s\tremaining: 5.34s\n",
      "536:\tlearn: 1460.5235677\ttotal: 6.19s\tremaining: 5.33s\n",
      "537:\tlearn: 1460.1655537\ttotal: 6.2s\tremaining: 5.32s\n",
      "538:\tlearn: 1460.0262097\ttotal: 6.21s\tremaining: 5.31s\n",
      "539:\tlearn: 1459.8341017\ttotal: 6.22s\tremaining: 5.3s\n",
      "540:\tlearn: 1459.6401622\ttotal: 6.24s\tremaining: 5.29s\n",
      "541:\tlearn: 1459.5465477\ttotal: 6.25s\tremaining: 5.28s\n",
      "542:\tlearn: 1459.4276346\ttotal: 6.26s\tremaining: 5.27s\n",
      "543:\tlearn: 1459.2639158\ttotal: 6.27s\tremaining: 5.26s\n",
      "544:\tlearn: 1459.0854101\ttotal: 6.28s\tremaining: 5.25s\n",
      "545:\tlearn: 1458.8504382\ttotal: 6.3s\tremaining: 5.24s\n",
      "546:\tlearn: 1458.7205247\ttotal: 6.31s\tremaining: 5.22s\n",
      "547:\tlearn: 1458.5516534\ttotal: 6.32s\tremaining: 5.21s\n",
      "548:\tlearn: 1458.3782606\ttotal: 6.33s\tremaining: 5.2s\n",
      "549:\tlearn: 1458.1205587\ttotal: 6.34s\tremaining: 5.19s\n",
      "550:\tlearn: 1457.8755302\ttotal: 6.36s\tremaining: 5.18s\n",
      "551:\tlearn: 1457.7317858\ttotal: 6.37s\tremaining: 5.17s\n",
      "552:\tlearn: 1457.5400540\ttotal: 6.38s\tremaining: 5.16s\n",
      "553:\tlearn: 1457.3414059\ttotal: 6.39s\tremaining: 5.14s\n",
      "554:\tlearn: 1457.1640419\ttotal: 6.4s\tremaining: 5.13s\n",
      "555:\tlearn: 1457.0514376\ttotal: 6.41s\tremaining: 5.12s\n",
      "556:\tlearn: 1456.8894718\ttotal: 6.42s\tremaining: 5.11s\n",
      "557:\tlearn: 1456.7756887\ttotal: 6.43s\tremaining: 5.09s\n",
      "558:\tlearn: 1456.6326911\ttotal: 6.44s\tremaining: 5.08s\n",
      "559:\tlearn: 1456.4540988\ttotal: 6.45s\tremaining: 5.07s\n",
      "560:\tlearn: 1456.2759720\ttotal: 6.46s\tremaining: 5.05s\n",
      "561:\tlearn: 1456.1852337\ttotal: 6.47s\tremaining: 5.04s\n",
      "562:\tlearn: 1456.0136246\ttotal: 6.48s\tremaining: 5.03s\n",
      "563:\tlearn: 1455.7053214\ttotal: 6.49s\tremaining: 5.02s\n",
      "564:\tlearn: 1455.4435711\ttotal: 6.5s\tremaining: 5.01s\n",
      "565:\tlearn: 1455.2531340\ttotal: 6.51s\tremaining: 4.99s\n",
      "566:\tlearn: 1455.0972994\ttotal: 6.53s\tremaining: 4.98s\n",
      "567:\tlearn: 1454.9861774\ttotal: 6.53s\tremaining: 4.97s\n",
      "568:\tlearn: 1454.8548156\ttotal: 6.54s\tremaining: 4.96s\n",
      "569:\tlearn: 1454.6612737\ttotal: 6.56s\tremaining: 4.95s\n",
      "570:\tlearn: 1454.4094000\ttotal: 6.57s\tremaining: 4.93s\n",
      "571:\tlearn: 1454.2210782\ttotal: 6.58s\tremaining: 4.92s\n",
      "572:\tlearn: 1453.9718690\ttotal: 6.59s\tremaining: 4.91s\n",
      "573:\tlearn: 1453.6961331\ttotal: 6.6s\tremaining: 4.9s\n",
      "574:\tlearn: 1453.4984225\ttotal: 6.61s\tremaining: 4.89s\n",
      "575:\tlearn: 1453.3377765\ttotal: 6.62s\tremaining: 4.87s\n",
      "576:\tlearn: 1453.1365521\ttotal: 6.63s\tremaining: 4.86s\n",
      "577:\tlearn: 1453.0274819\ttotal: 6.64s\tremaining: 4.85s\n",
      "578:\tlearn: 1452.8530075\ttotal: 6.65s\tremaining: 4.84s\n",
      "579:\tlearn: 1452.7008330\ttotal: 6.66s\tremaining: 4.83s\n",
      "580:\tlearn: 1452.5986234\ttotal: 6.67s\tremaining: 4.81s\n",
      "581:\tlearn: 1452.4028966\ttotal: 6.69s\tremaining: 4.8s\n",
      "582:\tlearn: 1452.1844067\ttotal: 6.7s\tremaining: 4.79s\n",
      "583:\tlearn: 1452.0463611\ttotal: 6.71s\tremaining: 4.78s\n",
      "584:\tlearn: 1451.9120043\ttotal: 6.72s\tremaining: 4.77s\n",
      "585:\tlearn: 1451.7946578\ttotal: 6.73s\tremaining: 4.75s\n",
      "586:\tlearn: 1451.6642330\ttotal: 6.74s\tremaining: 4.74s\n",
      "587:\tlearn: 1451.5424042\ttotal: 6.75s\tremaining: 4.73s\n",
      "588:\tlearn: 1451.4180549\ttotal: 6.76s\tremaining: 4.72s\n",
      "589:\tlearn: 1451.2433663\ttotal: 6.78s\tremaining: 4.71s\n",
      "590:\tlearn: 1451.1103449\ttotal: 6.79s\tremaining: 4.7s\n",
      "591:\tlearn: 1450.9397143\ttotal: 6.8s\tremaining: 4.69s\n",
      "592:\tlearn: 1450.7573710\ttotal: 6.81s\tremaining: 4.67s\n",
      "593:\tlearn: 1450.4410446\ttotal: 6.82s\tremaining: 4.66s\n",
      "594:\tlearn: 1450.3285846\ttotal: 6.83s\tremaining: 4.65s\n",
      "595:\tlearn: 1450.1189759\ttotal: 6.84s\tremaining: 4.64s\n",
      "596:\tlearn: 1450.0127131\ttotal: 6.86s\tremaining: 4.63s\n",
      "597:\tlearn: 1449.7637826\ttotal: 6.87s\tremaining: 4.62s\n",
      "598:\tlearn: 1449.6275541\ttotal: 6.88s\tremaining: 4.61s\n",
      "599:\tlearn: 1449.4128638\ttotal: 6.89s\tremaining: 4.59s\n",
      "600:\tlearn: 1449.1642959\ttotal: 6.9s\tremaining: 4.58s\n",
      "601:\tlearn: 1448.9469827\ttotal: 6.91s\tremaining: 4.57s\n",
      "602:\tlearn: 1448.8264882\ttotal: 6.92s\tremaining: 4.56s\n",
      "603:\tlearn: 1448.6986917\ttotal: 6.93s\tremaining: 4.54s\n",
      "604:\tlearn: 1448.5508828\ttotal: 6.94s\tremaining: 4.53s\n",
      "605:\tlearn: 1448.1902964\ttotal: 6.95s\tremaining: 4.52s\n",
      "606:\tlearn: 1448.0546926\ttotal: 6.96s\tremaining: 4.51s\n",
      "607:\tlearn: 1447.8876195\ttotal: 6.97s\tremaining: 4.5s\n",
      "608:\tlearn: 1447.7346999\ttotal: 6.99s\tremaining: 4.49s\n",
      "609:\tlearn: 1447.5880972\ttotal: 7s\tremaining: 4.47s\n",
      "610:\tlearn: 1447.4055689\ttotal: 7.01s\tremaining: 4.46s\n",
      "611:\tlearn: 1447.2480494\ttotal: 7.02s\tremaining: 4.45s\n",
      "612:\tlearn: 1447.0715139\ttotal: 7.03s\tremaining: 4.44s\n",
      "613:\tlearn: 1446.8721314\ttotal: 7.04s\tremaining: 4.43s\n",
      "614:\tlearn: 1446.7665021\ttotal: 7.05s\tremaining: 4.42s\n",
      "615:\tlearn: 1446.6878064\ttotal: 7.06s\tremaining: 4.4s\n",
      "616:\tlearn: 1446.4869038\ttotal: 7.07s\tremaining: 4.39s\n",
      "617:\tlearn: 1446.3348466\ttotal: 7.08s\tremaining: 4.38s\n",
      "618:\tlearn: 1446.2221093\ttotal: 7.1s\tremaining: 4.37s\n",
      "619:\tlearn: 1445.9475032\ttotal: 7.11s\tremaining: 4.36s\n",
      "620:\tlearn: 1445.7180327\ttotal: 7.12s\tremaining: 4.34s\n",
      "621:\tlearn: 1445.5221552\ttotal: 7.13s\tremaining: 4.33s\n",
      "622:\tlearn: 1445.3939860\ttotal: 7.14s\tremaining: 4.32s\n",
      "623:\tlearn: 1445.1198673\ttotal: 7.15s\tremaining: 4.31s\n"
     ]
    },
    {
     "name": "stdout",
     "output_type": "stream",
     "text": [
      "624:\tlearn: 1444.8757701\ttotal: 7.16s\tremaining: 4.3s\n",
      "625:\tlearn: 1444.7510129\ttotal: 7.17s\tremaining: 4.28s\n",
      "626:\tlearn: 1444.6087907\ttotal: 7.18s\tremaining: 4.27s\n",
      "627:\tlearn: 1444.5212259\ttotal: 7.19s\tremaining: 4.26s\n",
      "628:\tlearn: 1444.4196473\ttotal: 7.2s\tremaining: 4.25s\n",
      "629:\tlearn: 1444.2683346\ttotal: 7.21s\tremaining: 4.23s\n",
      "630:\tlearn: 1444.0308594\ttotal: 7.22s\tremaining: 4.22s\n",
      "631:\tlearn: 1443.8787742\ttotal: 7.23s\tremaining: 4.21s\n",
      "632:\tlearn: 1443.7043434\ttotal: 7.24s\tremaining: 4.2s\n",
      "633:\tlearn: 1443.4969054\ttotal: 7.25s\tremaining: 4.19s\n",
      "634:\tlearn: 1443.4056759\ttotal: 7.26s\tremaining: 4.17s\n",
      "635:\tlearn: 1443.1325884\ttotal: 7.27s\tremaining: 4.16s\n",
      "636:\tlearn: 1442.9948999\ttotal: 7.28s\tremaining: 4.15s\n",
      "637:\tlearn: 1442.8996543\ttotal: 7.29s\tremaining: 4.14s\n",
      "638:\tlearn: 1442.7603463\ttotal: 7.3s\tremaining: 4.13s\n",
      "639:\tlearn: 1442.6749069\ttotal: 7.32s\tremaining: 4.11s\n",
      "640:\tlearn: 1442.4902147\ttotal: 7.33s\tremaining: 4.1s\n",
      "641:\tlearn: 1442.3409068\ttotal: 7.34s\tremaining: 4.09s\n",
      "642:\tlearn: 1442.2396906\ttotal: 7.35s\tremaining: 4.08s\n",
      "643:\tlearn: 1442.1442833\ttotal: 7.36s\tremaining: 4.07s\n",
      "644:\tlearn: 1441.9683290\ttotal: 7.37s\tremaining: 4.06s\n",
      "645:\tlearn: 1441.6565057\ttotal: 7.38s\tremaining: 4.04s\n",
      "646:\tlearn: 1441.4788625\ttotal: 7.39s\tremaining: 4.03s\n",
      "647:\tlearn: 1441.3840000\ttotal: 7.4s\tremaining: 4.02s\n",
      "648:\tlearn: 1441.2511180\ttotal: 7.41s\tremaining: 4.01s\n",
      "649:\tlearn: 1441.0925953\ttotal: 7.42s\tremaining: 4s\n",
      "650:\tlearn: 1440.9662732\ttotal: 7.43s\tremaining: 3.98s\n",
      "651:\tlearn: 1440.8835370\ttotal: 7.44s\tremaining: 3.97s\n",
      "652:\tlearn: 1440.7198191\ttotal: 7.45s\tremaining: 3.96s\n",
      "653:\tlearn: 1440.5353990\ttotal: 7.46s\tremaining: 3.95s\n",
      "654:\tlearn: 1440.3597646\ttotal: 7.47s\tremaining: 3.94s\n",
      "655:\tlearn: 1440.2766087\ttotal: 7.49s\tremaining: 3.92s\n",
      "656:\tlearn: 1440.1174139\ttotal: 7.5s\tremaining: 3.91s\n",
      "657:\tlearn: 1439.9989148\ttotal: 7.51s\tremaining: 3.9s\n",
      "658:\tlearn: 1439.7844254\ttotal: 7.52s\tremaining: 3.89s\n",
      "659:\tlearn: 1439.5851287\ttotal: 7.53s\tremaining: 3.88s\n",
      "660:\tlearn: 1439.4395557\ttotal: 7.54s\tremaining: 3.87s\n",
      "661:\tlearn: 1439.2953439\ttotal: 7.55s\tremaining: 3.85s\n",
      "662:\tlearn: 1439.1839849\ttotal: 7.56s\tremaining: 3.84s\n",
      "663:\tlearn: 1439.0420533\ttotal: 7.57s\tremaining: 3.83s\n",
      "664:\tlearn: 1438.8730433\ttotal: 7.58s\tremaining: 3.82s\n",
      "665:\tlearn: 1438.7329981\ttotal: 7.59s\tremaining: 3.81s\n",
      "666:\tlearn: 1438.4702930\ttotal: 7.6s\tremaining: 3.79s\n",
      "667:\tlearn: 1438.3935058\ttotal: 7.61s\tremaining: 3.78s\n",
      "668:\tlearn: 1438.2626999\ttotal: 7.62s\tremaining: 3.77s\n",
      "669:\tlearn: 1438.1279969\ttotal: 7.63s\tremaining: 3.76s\n",
      "670:\tlearn: 1438.0315627\ttotal: 7.64s\tremaining: 3.75s\n",
      "671:\tlearn: 1437.8371463\ttotal: 7.65s\tremaining: 3.73s\n",
      "672:\tlearn: 1437.7165861\ttotal: 7.66s\tremaining: 3.72s\n",
      "673:\tlearn: 1437.5769334\ttotal: 7.67s\tremaining: 3.71s\n",
      "674:\tlearn: 1437.4638280\ttotal: 7.68s\tremaining: 3.7s\n",
      "675:\tlearn: 1437.2745373\ttotal: 7.7s\tremaining: 3.69s\n",
      "676:\tlearn: 1437.1922968\ttotal: 7.71s\tremaining: 3.68s\n",
      "677:\tlearn: 1437.0390096\ttotal: 7.72s\tremaining: 3.66s\n",
      "678:\tlearn: 1436.8281641\ttotal: 7.73s\tremaining: 3.65s\n",
      "679:\tlearn: 1436.5778005\ttotal: 7.74s\tremaining: 3.64s\n",
      "680:\tlearn: 1436.4392454\ttotal: 7.75s\tremaining: 3.63s\n",
      "681:\tlearn: 1436.3733359\ttotal: 7.76s\tremaining: 3.62s\n",
      "682:\tlearn: 1436.2210529\ttotal: 7.77s\tremaining: 3.61s\n",
      "683:\tlearn: 1436.0667871\ttotal: 7.78s\tremaining: 3.59s\n",
      "684:\tlearn: 1435.8993259\ttotal: 7.79s\tremaining: 3.58s\n",
      "685:\tlearn: 1435.6729281\ttotal: 7.8s\tremaining: 3.57s\n",
      "686:\tlearn: 1435.5303990\ttotal: 7.81s\tremaining: 3.56s\n",
      "687:\tlearn: 1435.2469908\ttotal: 7.82s\tremaining: 3.55s\n",
      "688:\tlearn: 1435.0986148\ttotal: 7.83s\tremaining: 3.54s\n",
      "689:\tlearn: 1434.9937390\ttotal: 7.84s\tremaining: 3.52s\n",
      "690:\tlearn: 1434.6901599\ttotal: 7.86s\tremaining: 3.51s\n",
      "691:\tlearn: 1434.5466126\ttotal: 7.87s\tremaining: 3.5s\n",
      "692:\tlearn: 1434.3750080\ttotal: 7.88s\tremaining: 3.49s\n",
      "693:\tlearn: 1434.2377542\ttotal: 7.89s\tremaining: 3.48s\n",
      "694:\tlearn: 1434.1594099\ttotal: 7.9s\tremaining: 3.47s\n",
      "695:\tlearn: 1434.0243157\ttotal: 7.91s\tremaining: 3.46s\n",
      "696:\tlearn: 1433.9298015\ttotal: 7.92s\tremaining: 3.44s\n",
      "697:\tlearn: 1433.8428063\ttotal: 7.93s\tremaining: 3.43s\n",
      "698:\tlearn: 1433.6759003\ttotal: 7.94s\tremaining: 3.42s\n",
      "699:\tlearn: 1433.5778389\ttotal: 7.95s\tremaining: 3.41s\n",
      "700:\tlearn: 1433.4848206\ttotal: 7.96s\tremaining: 3.4s\n",
      "701:\tlearn: 1433.3638779\ttotal: 7.97s\tremaining: 3.38s\n",
      "702:\tlearn: 1433.0491524\ttotal: 7.98s\tremaining: 3.37s\n",
      "703:\tlearn: 1432.9243521\ttotal: 8s\tremaining: 3.36s\n",
      "704:\tlearn: 1432.8229506\ttotal: 8.01s\tremaining: 3.35s\n",
      "705:\tlearn: 1432.7281386\ttotal: 8.02s\tremaining: 3.34s\n",
      "706:\tlearn: 1432.5733807\ttotal: 8.03s\tremaining: 3.33s\n",
      "707:\tlearn: 1432.4392621\ttotal: 8.04s\tremaining: 3.31s\n",
      "708:\tlearn: 1432.3162121\ttotal: 8.05s\tremaining: 3.3s\n",
      "709:\tlearn: 1432.1220136\ttotal: 8.06s\tremaining: 3.29s\n",
      "710:\tlearn: 1432.0032216\ttotal: 8.07s\tremaining: 3.28s\n",
      "711:\tlearn: 1431.8637177\ttotal: 8.08s\tremaining: 3.27s\n",
      "712:\tlearn: 1431.7638766\ttotal: 8.09s\tremaining: 3.26s\n",
      "713:\tlearn: 1431.6227829\ttotal: 8.11s\tremaining: 3.25s\n",
      "714:\tlearn: 1431.4143050\ttotal: 8.12s\tremaining: 3.24s\n",
      "715:\tlearn: 1431.2921270\ttotal: 8.13s\tremaining: 3.23s\n",
      "716:\tlearn: 1431.2293980\ttotal: 8.14s\tremaining: 3.21s\n",
      "717:\tlearn: 1431.0640400\ttotal: 8.16s\tremaining: 3.2s\n",
      "718:\tlearn: 1430.9460641\ttotal: 8.17s\tremaining: 3.19s\n",
      "719:\tlearn: 1430.8274292\ttotal: 8.18s\tremaining: 3.18s\n",
      "720:\tlearn: 1430.6699314\ttotal: 8.19s\tremaining: 3.17s\n",
      "721:\tlearn: 1430.5763835\ttotal: 8.21s\tremaining: 3.16s\n",
      "722:\tlearn: 1430.4533826\ttotal: 8.22s\tremaining: 3.15s\n",
      "723:\tlearn: 1430.3487216\ttotal: 8.23s\tremaining: 3.14s\n",
      "724:\tlearn: 1430.1909191\ttotal: 8.24s\tremaining: 3.13s\n",
      "725:\tlearn: 1429.9018870\ttotal: 8.25s\tremaining: 3.12s\n",
      "726:\tlearn: 1429.7953083\ttotal: 8.27s\tremaining: 3.1s\n",
      "727:\tlearn: 1429.7155998\ttotal: 8.28s\tremaining: 3.09s\n",
      "728:\tlearn: 1429.5085049\ttotal: 8.29s\tremaining: 3.08s\n",
      "729:\tlearn: 1429.4668209\ttotal: 8.3s\tremaining: 3.07s\n",
      "730:\tlearn: 1429.3680879\ttotal: 8.31s\tremaining: 3.06s\n",
      "731:\tlearn: 1429.3148853\ttotal: 8.32s\tremaining: 3.05s\n",
      "732:\tlearn: 1429.1557541\ttotal: 8.33s\tremaining: 3.04s\n",
      "733:\tlearn: 1429.1349063\ttotal: 8.34s\tremaining: 3.02s\n",
      "734:\tlearn: 1428.9949085\ttotal: 8.36s\tremaining: 3.01s\n",
      "735:\tlearn: 1428.8067448\ttotal: 8.37s\tremaining: 3s\n",
      "736:\tlearn: 1428.4804937\ttotal: 8.38s\tremaining: 2.99s\n",
      "737:\tlearn: 1428.3583161\ttotal: 8.39s\tremaining: 2.98s\n",
      "738:\tlearn: 1428.1243638\ttotal: 8.4s\tremaining: 2.97s\n",
      "739:\tlearn: 1428.0206715\ttotal: 8.41s\tremaining: 2.95s\n",
      "740:\tlearn: 1427.8444503\ttotal: 8.42s\tremaining: 2.94s\n",
      "741:\tlearn: 1427.7345682\ttotal: 8.43s\tremaining: 2.93s\n",
      "742:\tlearn: 1427.5958565\ttotal: 8.44s\tremaining: 2.92s\n",
      "743:\tlearn: 1427.4305291\ttotal: 8.45s\tremaining: 2.91s\n",
      "744:\tlearn: 1427.2568258\ttotal: 8.46s\tremaining: 2.9s\n",
      "745:\tlearn: 1427.0735342\ttotal: 8.48s\tremaining: 2.89s\n",
      "746:\tlearn: 1426.9829689\ttotal: 8.49s\tremaining: 2.88s\n",
      "747:\tlearn: 1426.9242018\ttotal: 8.5s\tremaining: 2.86s\n",
      "748:\tlearn: 1426.7525340\ttotal: 8.51s\tremaining: 2.85s\n",
      "749:\tlearn: 1426.6443367\ttotal: 8.52s\tremaining: 2.84s\n",
      "750:\tlearn: 1426.5360339\ttotal: 8.54s\tremaining: 2.83s\n",
      "751:\tlearn: 1426.4620960\ttotal: 8.55s\tremaining: 2.82s\n",
      "752:\tlearn: 1426.3239815\ttotal: 8.56s\tremaining: 2.81s\n",
      "753:\tlearn: 1426.1471497\ttotal: 8.57s\tremaining: 2.8s\n",
      "754:\tlearn: 1426.0290072\ttotal: 8.58s\tremaining: 2.78s\n",
      "755:\tlearn: 1425.9775441\ttotal: 8.59s\tremaining: 2.77s\n",
      "756:\tlearn: 1425.8574606\ttotal: 8.6s\tremaining: 2.76s\n",
      "757:\tlearn: 1425.7676569\ttotal: 8.62s\tremaining: 2.75s\n",
      "758:\tlearn: 1425.6289877\ttotal: 8.63s\tremaining: 2.74s\n",
      "759:\tlearn: 1425.5617740\ttotal: 8.64s\tremaining: 2.73s\n",
      "760:\tlearn: 1425.3985530\ttotal: 8.65s\tremaining: 2.72s\n",
      "761:\tlearn: 1425.3583232\ttotal: 8.66s\tremaining: 2.71s\n",
      "762:\tlearn: 1425.2060781\ttotal: 8.67s\tremaining: 2.69s\n",
      "763:\tlearn: 1425.0998945\ttotal: 8.69s\tremaining: 2.68s\n",
      "764:\tlearn: 1424.8312637\ttotal: 8.7s\tremaining: 2.67s\n",
      "765:\tlearn: 1424.6745284\ttotal: 8.71s\tremaining: 2.66s\n",
      "766:\tlearn: 1424.5135789\ttotal: 8.72s\tremaining: 2.65s\n",
      "767:\tlearn: 1424.4378568\ttotal: 8.73s\tremaining: 2.64s\n",
      "768:\tlearn: 1424.3254289\ttotal: 8.74s\tremaining: 2.62s\n",
      "769:\tlearn: 1424.1857271\ttotal: 8.75s\tremaining: 2.61s\n",
      "770:\tlearn: 1424.0647642\ttotal: 8.76s\tremaining: 2.6s\n",
      "771:\tlearn: 1423.9571581\ttotal: 8.77s\tremaining: 2.59s\n",
      "772:\tlearn: 1423.8709488\ttotal: 8.78s\tremaining: 2.58s\n",
      "773:\tlearn: 1423.7807084\ttotal: 8.79s\tremaining: 2.57s\n",
      "774:\tlearn: 1423.6576778\ttotal: 8.8s\tremaining: 2.56s\n",
      "775:\tlearn: 1423.5188775\ttotal: 8.81s\tremaining: 2.54s\n",
      "776:\tlearn: 1423.2927375\ttotal: 8.82s\tremaining: 2.53s\n",
      "777:\tlearn: 1423.2423724\ttotal: 8.84s\tremaining: 2.52s\n",
      "778:\tlearn: 1423.1355286\ttotal: 8.85s\tremaining: 2.51s\n"
     ]
    },
    {
     "name": "stdout",
     "output_type": "stream",
     "text": [
      "779:\tlearn: 1423.0677361\ttotal: 8.86s\tremaining: 2.5s\n",
      "780:\tlearn: 1422.9386833\ttotal: 8.87s\tremaining: 2.49s\n",
      "781:\tlearn: 1422.8792998\ttotal: 8.88s\tremaining: 2.48s\n",
      "782:\tlearn: 1422.7588773\ttotal: 8.89s\tremaining: 2.46s\n",
      "783:\tlearn: 1422.5976371\ttotal: 8.9s\tremaining: 2.45s\n",
      "784:\tlearn: 1422.5154987\ttotal: 8.91s\tremaining: 2.44s\n",
      "785:\tlearn: 1422.3617767\ttotal: 8.93s\tremaining: 2.43s\n",
      "786:\tlearn: 1422.1203590\ttotal: 8.94s\tremaining: 2.42s\n",
      "787:\tlearn: 1421.9795426\ttotal: 8.95s\tremaining: 2.41s\n",
      "788:\tlearn: 1421.8508760\ttotal: 8.96s\tremaining: 2.4s\n",
      "789:\tlearn: 1421.7053639\ttotal: 8.97s\tremaining: 2.38s\n",
      "790:\tlearn: 1421.6211745\ttotal: 8.98s\tremaining: 2.37s\n",
      "791:\tlearn: 1421.5488308\ttotal: 8.99s\tremaining: 2.36s\n",
      "792:\tlearn: 1421.4384527\ttotal: 9.01s\tremaining: 2.35s\n",
      "793:\tlearn: 1421.3353300\ttotal: 9.02s\tremaining: 2.34s\n",
      "794:\tlearn: 1421.2534975\ttotal: 9.03s\tremaining: 2.33s\n",
      "795:\tlearn: 1421.1324888\ttotal: 9.04s\tremaining: 2.32s\n",
      "796:\tlearn: 1420.9826070\ttotal: 9.05s\tremaining: 2.3s\n",
      "797:\tlearn: 1420.8554180\ttotal: 9.06s\tremaining: 2.29s\n",
      "798:\tlearn: 1420.7740244\ttotal: 9.07s\tremaining: 2.28s\n",
      "799:\tlearn: 1420.6354371\ttotal: 9.08s\tremaining: 2.27s\n",
      "800:\tlearn: 1420.5283582\ttotal: 9.09s\tremaining: 2.26s\n",
      "801:\tlearn: 1420.3604627\ttotal: 9.1s\tremaining: 2.25s\n",
      "802:\tlearn: 1420.2614046\ttotal: 9.12s\tremaining: 2.24s\n",
      "803:\tlearn: 1420.1484627\ttotal: 9.13s\tremaining: 2.23s\n",
      "804:\tlearn: 1420.0079238\ttotal: 9.14s\tremaining: 2.21s\n",
      "805:\tlearn: 1419.8981439\ttotal: 9.15s\tremaining: 2.2s\n",
      "806:\tlearn: 1419.7714212\ttotal: 9.16s\tremaining: 2.19s\n",
      "807:\tlearn: 1419.6402585\ttotal: 9.18s\tremaining: 2.18s\n",
      "808:\tlearn: 1419.5426011\ttotal: 9.19s\tremaining: 2.17s\n",
      "809:\tlearn: 1419.4721615\ttotal: 9.2s\tremaining: 2.16s\n",
      "810:\tlearn: 1419.3676199\ttotal: 9.21s\tremaining: 2.15s\n",
      "811:\tlearn: 1419.2515898\ttotal: 9.22s\tremaining: 2.13s\n",
      "812:\tlearn: 1419.1438198\ttotal: 9.23s\tremaining: 2.12s\n",
      "813:\tlearn: 1419.0393931\ttotal: 9.24s\tremaining: 2.11s\n",
      "814:\tlearn: 1418.9894062\ttotal: 9.25s\tremaining: 2.1s\n",
      "815:\tlearn: 1418.9008950\ttotal: 9.28s\tremaining: 2.09s\n",
      "816:\tlearn: 1418.8243357\ttotal: 9.29s\tremaining: 2.08s\n",
      "817:\tlearn: 1418.6557416\ttotal: 9.3s\tremaining: 2.07s\n",
      "818:\tlearn: 1418.5864303\ttotal: 9.31s\tremaining: 2.06s\n",
      "819:\tlearn: 1418.5070931\ttotal: 9.33s\tremaining: 2.05s\n",
      "820:\tlearn: 1418.4129201\ttotal: 9.34s\tremaining: 2.04s\n",
      "821:\tlearn: 1418.2928657\ttotal: 9.35s\tremaining: 2.02s\n",
      "822:\tlearn: 1418.1876143\ttotal: 9.37s\tremaining: 2.01s\n",
      "823:\tlearn: 1418.0963297\ttotal: 9.38s\tremaining: 2s\n",
      "824:\tlearn: 1417.9237726\ttotal: 9.39s\tremaining: 1.99s\n",
      "825:\tlearn: 1417.7673836\ttotal: 9.4s\tremaining: 1.98s\n",
      "826:\tlearn: 1417.6707029\ttotal: 9.41s\tremaining: 1.97s\n",
      "827:\tlearn: 1417.6062833\ttotal: 9.43s\tremaining: 1.96s\n",
      "828:\tlearn: 1417.4103772\ttotal: 9.44s\tremaining: 1.95s\n",
      "829:\tlearn: 1417.2886637\ttotal: 9.45s\tremaining: 1.94s\n",
      "830:\tlearn: 1417.2213092\ttotal: 9.46s\tremaining: 1.92s\n",
      "831:\tlearn: 1417.1282214\ttotal: 9.47s\tremaining: 1.91s\n",
      "832:\tlearn: 1416.9750014\ttotal: 9.48s\tremaining: 1.9s\n",
      "833:\tlearn: 1416.8794718\ttotal: 9.49s\tremaining: 1.89s\n",
      "834:\tlearn: 1416.6596002\ttotal: 9.5s\tremaining: 1.88s\n",
      "835:\tlearn: 1416.5922405\ttotal: 9.52s\tremaining: 1.87s\n",
      "836:\tlearn: 1416.5040140\ttotal: 9.53s\tremaining: 1.85s\n",
      "837:\tlearn: 1416.3733139\ttotal: 9.54s\tremaining: 1.84s\n",
      "838:\tlearn: 1416.2753015\ttotal: 9.55s\tremaining: 1.83s\n",
      "839:\tlearn: 1416.0310651\ttotal: 9.56s\tremaining: 1.82s\n",
      "840:\tlearn: 1415.8732549\ttotal: 9.57s\tremaining: 1.81s\n",
      "841:\tlearn: 1415.7002346\ttotal: 9.58s\tremaining: 1.8s\n",
      "842:\tlearn: 1415.5697312\ttotal: 9.59s\tremaining: 1.79s\n",
      "843:\tlearn: 1415.4288838\ttotal: 9.6s\tremaining: 1.77s\n",
      "844:\tlearn: 1415.3389647\ttotal: 9.61s\tremaining: 1.76s\n",
      "845:\tlearn: 1415.2450800\ttotal: 9.62s\tremaining: 1.75s\n",
      "846:\tlearn: 1415.0967853\ttotal: 9.63s\tremaining: 1.74s\n",
      "847:\tlearn: 1414.9940858\ttotal: 9.64s\tremaining: 1.73s\n",
      "848:\tlearn: 1414.8842733\ttotal: 9.66s\tremaining: 1.72s\n",
      "849:\tlearn: 1414.7284189\ttotal: 9.67s\tremaining: 1.71s\n",
      "850:\tlearn: 1414.6149198\ttotal: 9.68s\tremaining: 1.69s\n",
      "851:\tlearn: 1414.4906911\ttotal: 9.69s\tremaining: 1.68s\n",
      "852:\tlearn: 1414.3197452\ttotal: 9.7s\tremaining: 1.67s\n",
      "853:\tlearn: 1414.1236250\ttotal: 9.71s\tremaining: 1.66s\n",
      "854:\tlearn: 1413.8171974\ttotal: 9.72s\tremaining: 1.65s\n",
      "855:\tlearn: 1413.7209928\ttotal: 9.73s\tremaining: 1.64s\n",
      "856:\tlearn: 1413.6555673\ttotal: 9.75s\tremaining: 1.63s\n",
      "857:\tlearn: 1413.4582638\ttotal: 9.76s\tremaining: 1.61s\n",
      "858:\tlearn: 1413.4151743\ttotal: 9.77s\tremaining: 1.6s\n",
      "859:\tlearn: 1413.3143437\ttotal: 9.78s\tremaining: 1.59s\n",
      "860:\tlearn: 1413.2588455\ttotal: 9.79s\tremaining: 1.58s\n",
      "861:\tlearn: 1413.1387320\ttotal: 9.8s\tremaining: 1.57s\n",
      "862:\tlearn: 1413.0217520\ttotal: 9.82s\tremaining: 1.56s\n",
      "863:\tlearn: 1412.8955863\ttotal: 9.83s\tremaining: 1.55s\n",
      "864:\tlearn: 1412.8148784\ttotal: 9.84s\tremaining: 1.53s\n",
      "865:\tlearn: 1412.7082696\ttotal: 9.85s\tremaining: 1.52s\n",
      "866:\tlearn: 1412.6190052\ttotal: 9.87s\tremaining: 1.51s\n",
      "867:\tlearn: 1412.4911034\ttotal: 9.88s\tremaining: 1.5s\n",
      "868:\tlearn: 1412.3574915\ttotal: 9.89s\tremaining: 1.49s\n",
      "869:\tlearn: 1412.2585255\ttotal: 9.9s\tremaining: 1.48s\n",
      "870:\tlearn: 1412.1325877\ttotal: 9.91s\tremaining: 1.47s\n",
      "871:\tlearn: 1412.0532691\ttotal: 9.92s\tremaining: 1.46s\n",
      "872:\tlearn: 1411.7827726\ttotal: 9.93s\tremaining: 1.44s\n",
      "873:\tlearn: 1411.6818743\ttotal: 9.94s\tremaining: 1.43s\n",
      "874:\tlearn: 1411.5531647\ttotal: 9.95s\tremaining: 1.42s\n",
      "875:\tlearn: 1411.4003344\ttotal: 9.96s\tremaining: 1.41s\n",
      "876:\tlearn: 1411.3206064\ttotal: 9.98s\tremaining: 1.4s\n",
      "877:\tlearn: 1411.2086372\ttotal: 9.99s\tremaining: 1.39s\n",
      "878:\tlearn: 1411.0617946\ttotal: 10s\tremaining: 1.38s\n",
      "879:\tlearn: 1410.7137188\ttotal: 10s\tremaining: 1.36s\n",
      "880:\tlearn: 1410.5971951\ttotal: 10s\tremaining: 1.35s\n",
      "881:\tlearn: 1410.4194060\ttotal: 10s\tremaining: 1.34s\n",
      "882:\tlearn: 1410.3123535\ttotal: 10s\tremaining: 1.33s\n",
      "883:\tlearn: 1410.1877307\ttotal: 10.1s\tremaining: 1.32s\n",
      "884:\tlearn: 1410.0799396\ttotal: 10.1s\tremaining: 1.31s\n",
      "885:\tlearn: 1409.9225494\ttotal: 10.1s\tremaining: 1.3s\n",
      "886:\tlearn: 1409.7913288\ttotal: 10.1s\tremaining: 1.28s\n",
      "887:\tlearn: 1409.6627152\ttotal: 10.1s\tremaining: 1.27s\n",
      "888:\tlearn: 1409.5821001\ttotal: 10.1s\tremaining: 1.26s\n",
      "889:\tlearn: 1409.4748310\ttotal: 10.1s\tremaining: 1.25s\n",
      "890:\tlearn: 1409.3403377\ttotal: 10.1s\tremaining: 1.24s\n",
      "891:\tlearn: 1409.2491855\ttotal: 10.1s\tremaining: 1.23s\n",
      "892:\tlearn: 1409.1767446\ttotal: 10.2s\tremaining: 1.22s\n",
      "893:\tlearn: 1409.0267032\ttotal: 10.2s\tremaining: 1.21s\n",
      "894:\tlearn: 1408.7257053\ttotal: 10.2s\tremaining: 1.19s\n",
      "895:\tlearn: 1408.6231884\ttotal: 10.2s\tremaining: 1.18s\n",
      "896:\tlearn: 1408.4451240\ttotal: 10.2s\tremaining: 1.17s\n",
      "897:\tlearn: 1408.3615638\ttotal: 10.2s\tremaining: 1.16s\n",
      "898:\tlearn: 1408.1540868\ttotal: 10.2s\tremaining: 1.15s\n",
      "899:\tlearn: 1408.0243530\ttotal: 10.2s\tremaining: 1.14s\n",
      "900:\tlearn: 1407.9394525\ttotal: 10.3s\tremaining: 1.13s\n",
      "901:\tlearn: 1407.7903330\ttotal: 10.3s\tremaining: 1.11s\n",
      "902:\tlearn: 1407.6273290\ttotal: 10.3s\tremaining: 1.1s\n",
      "903:\tlearn: 1407.4698603\ttotal: 10.3s\tremaining: 1.09s\n",
      "904:\tlearn: 1407.3570316\ttotal: 10.3s\tremaining: 1.08s\n",
      "905:\tlearn: 1407.2426665\ttotal: 10.3s\tremaining: 1.07s\n",
      "906:\tlearn: 1407.1253873\ttotal: 10.3s\tremaining: 1.06s\n",
      "907:\tlearn: 1407.0779128\ttotal: 10.3s\tremaining: 1.05s\n",
      "908:\tlearn: 1407.0455251\ttotal: 10.3s\tremaining: 1.03s\n",
      "909:\tlearn: 1406.9488901\ttotal: 10.3s\tremaining: 1.02s\n",
      "910:\tlearn: 1406.8020850\ttotal: 10.4s\tremaining: 1.01s\n",
      "911:\tlearn: 1406.7386966\ttotal: 10.4s\tremaining: 1s\n",
      "912:\tlearn: 1406.6743598\ttotal: 10.4s\tremaining: 989ms\n",
      "913:\tlearn: 1406.5953683\ttotal: 10.4s\tremaining: 977ms\n",
      "914:\tlearn: 1406.4639297\ttotal: 10.4s\tremaining: 966ms\n",
      "915:\tlearn: 1406.3189533\ttotal: 10.4s\tremaining: 955ms\n",
      "916:\tlearn: 1406.2068218\ttotal: 10.4s\tremaining: 943ms\n",
      "917:\tlearn: 1406.1449037\ttotal: 10.4s\tremaining: 932ms\n",
      "918:\tlearn: 1406.0255408\ttotal: 10.4s\tremaining: 920ms\n",
      "919:\tlearn: 1405.8572636\ttotal: 10.5s\tremaining: 909ms\n",
      "920:\tlearn: 1405.7498816\ttotal: 10.5s\tremaining: 897ms\n",
      "921:\tlearn: 1405.5868538\ttotal: 10.5s\tremaining: 886ms\n",
      "922:\tlearn: 1405.4711738\ttotal: 10.5s\tremaining: 874ms\n",
      "923:\tlearn: 1405.3691503\ttotal: 10.5s\tremaining: 863ms\n",
      "924:\tlearn: 1405.2382268\ttotal: 10.5s\tremaining: 852ms\n",
      "925:\tlearn: 1405.1329056\ttotal: 10.5s\tremaining: 840ms\n",
      "926:\tlearn: 1405.0748840\ttotal: 10.5s\tremaining: 829ms\n",
      "927:\tlearn: 1404.9937811\ttotal: 10.5s\tremaining: 817ms\n",
      "928:\tlearn: 1404.9163284\ttotal: 10.5s\tremaining: 806ms\n",
      "929:\tlearn: 1404.7290528\ttotal: 10.6s\tremaining: 794ms\n",
      "930:\tlearn: 1404.6272630\ttotal: 10.6s\tremaining: 783ms\n",
      "931:\tlearn: 1404.5486130\ttotal: 10.6s\tremaining: 772ms\n",
      "932:\tlearn: 1404.4325427\ttotal: 10.6s\tremaining: 760ms\n",
      "933:\tlearn: 1404.3761828\ttotal: 10.6s\tremaining: 749ms\n"
     ]
    },
    {
     "name": "stdout",
     "output_type": "stream",
     "text": [
      "934:\tlearn: 1404.2713870\ttotal: 10.6s\tremaining: 737ms\n",
      "935:\tlearn: 1404.2068874\ttotal: 10.6s\tremaining: 726ms\n",
      "936:\tlearn: 1404.0875202\ttotal: 10.6s\tremaining: 715ms\n",
      "937:\tlearn: 1403.9600100\ttotal: 10.6s\tremaining: 703ms\n",
      "938:\tlearn: 1403.8834611\ttotal: 10.6s\tremaining: 692ms\n",
      "939:\tlearn: 1403.7781317\ttotal: 10.7s\tremaining: 680ms\n",
      "940:\tlearn: 1403.7362963\ttotal: 10.7s\tremaining: 669ms\n",
      "941:\tlearn: 1403.5907194\ttotal: 10.7s\tremaining: 658ms\n",
      "942:\tlearn: 1403.4541746\ttotal: 10.7s\tremaining: 646ms\n",
      "943:\tlearn: 1403.3670608\ttotal: 10.7s\tremaining: 635ms\n",
      "944:\tlearn: 1403.2535794\ttotal: 10.7s\tremaining: 623ms\n",
      "945:\tlearn: 1403.0866605\ttotal: 10.7s\tremaining: 612ms\n",
      "946:\tlearn: 1402.9896690\ttotal: 10.7s\tremaining: 601ms\n",
      "947:\tlearn: 1402.8971226\ttotal: 10.7s\tremaining: 589ms\n",
      "948:\tlearn: 1402.8442844\ttotal: 10.8s\tremaining: 578ms\n",
      "949:\tlearn: 1402.7628156\ttotal: 10.8s\tremaining: 566ms\n",
      "950:\tlearn: 1402.6878395\ttotal: 10.8s\tremaining: 555ms\n",
      "951:\tlearn: 1402.5892824\ttotal: 10.8s\tremaining: 544ms\n",
      "952:\tlearn: 1402.5089284\ttotal: 10.8s\tremaining: 532ms\n",
      "953:\tlearn: 1402.3543068\ttotal: 10.8s\tremaining: 521ms\n",
      "954:\tlearn: 1402.2579715\ttotal: 10.8s\tremaining: 510ms\n",
      "955:\tlearn: 1402.1699620\ttotal: 10.8s\tremaining: 498ms\n",
      "956:\tlearn: 1402.1098295\ttotal: 10.8s\tremaining: 487ms\n",
      "957:\tlearn: 1402.0535976\ttotal: 10.8s\tremaining: 476ms\n",
      "958:\tlearn: 1401.9910577\ttotal: 10.9s\tremaining: 464ms\n",
      "959:\tlearn: 1401.8841118\ttotal: 10.9s\tremaining: 453ms\n",
      "960:\tlearn: 1401.7827967\ttotal: 10.9s\tremaining: 442ms\n",
      "961:\tlearn: 1401.6937940\ttotal: 10.9s\tremaining: 430ms\n",
      "962:\tlearn: 1401.6280110\ttotal: 10.9s\tremaining: 419ms\n",
      "963:\tlearn: 1401.5541067\ttotal: 10.9s\tremaining: 407ms\n",
      "964:\tlearn: 1401.4834858\ttotal: 10.9s\tremaining: 396ms\n",
      "965:\tlearn: 1401.3548787\ttotal: 10.9s\tremaining: 385ms\n",
      "966:\tlearn: 1401.2633047\ttotal: 10.9s\tremaining: 373ms\n",
      "967:\tlearn: 1401.1568398\ttotal: 11s\tremaining: 362ms\n",
      "968:\tlearn: 1401.1214186\ttotal: 11s\tremaining: 351ms\n",
      "969:\tlearn: 1401.0247105\ttotal: 11s\tremaining: 339ms\n",
      "970:\tlearn: 1400.9395979\ttotal: 11s\tremaining: 328ms\n",
      "971:\tlearn: 1400.8171254\ttotal: 11s\tremaining: 317ms\n",
      "972:\tlearn: 1400.7090474\ttotal: 11s\tremaining: 305ms\n",
      "973:\tlearn: 1400.5961559\ttotal: 11s\tremaining: 294ms\n",
      "974:\tlearn: 1400.4285238\ttotal: 11s\tremaining: 283ms\n",
      "975:\tlearn: 1400.3232257\ttotal: 11s\tremaining: 271ms\n",
      "976:\tlearn: 1400.1728494\ttotal: 11s\tremaining: 260ms\n",
      "977:\tlearn: 1400.0779794\ttotal: 11.1s\tremaining: 249ms\n",
      "978:\tlearn: 1400.0207298\ttotal: 11.1s\tremaining: 237ms\n",
      "979:\tlearn: 1399.8949443\ttotal: 11.1s\tremaining: 226ms\n",
      "980:\tlearn: 1399.8015651\ttotal: 11.1s\tremaining: 215ms\n",
      "981:\tlearn: 1399.7443946\ttotal: 11.1s\tremaining: 203ms\n",
      "982:\tlearn: 1399.6735075\ttotal: 11.1s\tremaining: 192ms\n",
      "983:\tlearn: 1399.5224538\ttotal: 11.1s\tremaining: 181ms\n",
      "984:\tlearn: 1399.4112864\ttotal: 11.1s\tremaining: 170ms\n",
      "985:\tlearn: 1399.2575174\ttotal: 11.1s\tremaining: 158ms\n",
      "986:\tlearn: 1399.1513457\ttotal: 11.2s\tremaining: 147ms\n",
      "987:\tlearn: 1399.0483690\ttotal: 11.2s\tremaining: 136ms\n",
      "988:\tlearn: 1398.9904400\ttotal: 11.2s\tremaining: 124ms\n",
      "989:\tlearn: 1398.9072732\ttotal: 11.2s\tremaining: 113ms\n",
      "990:\tlearn: 1398.8269015\ttotal: 11.2s\tremaining: 102ms\n",
      "991:\tlearn: 1398.7768912\ttotal: 11.2s\tremaining: 90.4ms\n",
      "992:\tlearn: 1398.6874670\ttotal: 11.2s\tremaining: 79.1ms\n",
      "993:\tlearn: 1398.6522257\ttotal: 11.2s\tremaining: 67.8ms\n",
      "994:\tlearn: 1398.5407718\ttotal: 11.2s\tremaining: 56.5ms\n",
      "995:\tlearn: 1398.4718970\ttotal: 11.2s\tremaining: 45.2ms\n",
      "996:\tlearn: 1398.3900919\ttotal: 11.3s\tremaining: 33.9ms\n",
      "997:\tlearn: 1398.3257260\ttotal: 11.3s\tremaining: 22.6ms\n",
      "998:\tlearn: 1398.2204521\ttotal: 11.3s\tremaining: 11.3ms\n",
      "999:\tlearn: 1398.1058077\ttotal: 11.3s\tremaining: 0us\n",
      "CPU times: total: 3min 36s\n",
      "Wall time: 1min 33s\n"
     ]
    },
    {
     "data": {
      "text/html": [
       "<div>\n",
       "<style scoped>\n",
       "    .dataframe tbody tr th:only-of-type {\n",
       "        vertical-align: middle;\n",
       "    }\n",
       "\n",
       "    .dataframe tbody tr th {\n",
       "        vertical-align: top;\n",
       "    }\n",
       "\n",
       "    .dataframe thead th {\n",
       "        text-align: right;\n",
       "    }\n",
       "</style>\n",
       "<table border=\"1\" class=\"dataframe\">\n",
       "  <thead>\n",
       "    <tr style=\"text-align: right;\">\n",
       "      <th></th>\n",
       "      <th>Model</th>\n",
       "      <th>RMSE</th>\n",
       "      <th>Fit_time</th>\n",
       "      <th>Predict_time</th>\n",
       "    </tr>\n",
       "  </thead>\n",
       "  <tbody>\n",
       "    <tr>\n",
       "      <th>3</th>\n",
       "      <td>LGBMRegressor</td>\n",
       "      <td>1395.939766</td>\n",
       "      <td>3.024513</td>\n",
       "      <td>0.678244</td>\n",
       "    </tr>\n",
       "    <tr>\n",
       "      <th>5</th>\n",
       "      <td>CatBoostRegressor</td>\n",
       "      <td>1469.976164</td>\n",
       "      <td>11.6354</td>\n",
       "      <td>0.04103</td>\n",
       "    </tr>\n",
       "    <tr>\n",
       "      <th>2</th>\n",
       "      <td>RandomForestRegressor</td>\n",
       "      <td>1483.083428</td>\n",
       "      <td>41.925058</td>\n",
       "      <td>3.297563</td>\n",
       "    </tr>\n",
       "    <tr>\n",
       "      <th>1</th>\n",
       "      <td>DecisionTreeRegressor</td>\n",
       "      <td>1755.262088</td>\n",
       "      <td>0.450178</td>\n",
       "      <td>0.055202</td>\n",
       "    </tr>\n",
       "    <tr>\n",
       "      <th>4</th>\n",
       "      <td>KNeighborsRegressor</td>\n",
       "      <td>2211.940781</td>\n",
       "      <td>0.430152</td>\n",
       "      <td>32.232692</td>\n",
       "    </tr>\n",
       "    <tr>\n",
       "      <th>0</th>\n",
       "      <td>LinearRegression</td>\n",
       "      <td>2663.608457</td>\n",
       "      <td>0.123605</td>\n",
       "      <td>0.047593</td>\n",
       "    </tr>\n",
       "  </tbody>\n",
       "</table>\n",
       "</div>"
      ],
      "text/plain": [
       "                   Model         RMSE   Fit_time Predict_time\n",
       "3          LGBMRegressor  1395.939766   3.024513     0.678244\n",
       "5      CatBoostRegressor  1469.976164    11.6354      0.04103\n",
       "2  RandomForestRegressor  1483.083428  41.925058     3.297563\n",
       "1  DecisionTreeRegressor  1755.262088   0.450178     0.055202\n",
       "4    KNeighborsRegressor  2211.940781   0.430152    32.232692\n",
       "0       LinearRegression  2663.608457   0.123605     0.047593"
      ]
     },
     "execution_count": 46,
     "metadata": {},
     "output_type": "execute_result"
    }
   ],
   "source": [
    "%%time\n",
    "\n",
    "\n",
    "MLA = [\n",
    "    LinearRegression(),\n",
    "    DecisionTreeRegressor(max_depth=12),\n",
    "    RandomForestRegressor(),\n",
    "    LGBMRegressor(num_leaves=105, n_estimators=810, max_depth=27),\n",
    "    KNeighborsRegressor(weights='distance', n_neighbors=289, algorithm='ball_tree'),\n",
    "    CatBoostRegressor()\n",
    "]\n",
    "\n",
    "row_index = 0\n",
    "\n",
    "# Создаем таблицу для сравнения моделей\n",
    "MLA_cols = ['Model', 'RMSE', 'Fit_time', 'Predict_time']\n",
    "MLA_compare = pd.DataFrame(columns = MLA_cols)\n",
    "\n",
    "# Добавляем метрики и время в таблицу\n",
    "for model in MLA:\n",
    "    MLA_compare.loc[row_index, 'Model'] = model.__class__.__name__      \n",
    "    tic = time.perf_counter()\n",
    "    fit_models = model.fit(X_train, y_train)\n",
    "    toc = time.perf_counter()\n",
    "    MLA_compare.loc[row_index, 'Fit_time'] = toc - tic\n",
    "    tic = time.perf_counter()\n",
    "    predictions = model.predict(X_test)\n",
    "    toc = time.perf_counter()\n",
    "    MLA_compare.loc[row_index, 'Predict_time'] = toc - tic\n",
    "    MLA_compare.loc[row_index, 'RMSE'] = mean_squared_error(y_test, predictions, squared=False)\n",
    "    \n",
    "    row_index+=1\n",
    "\n",
    "# Результаты\n",
    "MLA_compare.sort_values(by=['RMSE'], ascending=True, inplace=True)\n",
    "MLA_compare"
   ]
  },
  {
   "cell_type": "markdown",
   "metadata": {},
   "source": [
    "Было исследовано 6 разных моделей для решения задачи регрессии: LinearRegression, DecisionTreeRegressor, RandomForestRegressor, LGBMRegressor, KNeighborsRegressor, CatBoostRegressor. Сравнение представлено  в таблице ниже"
   ]
  },
  {
   "cell_type": "code",
   "execution_count": 47,
   "metadata": {},
   "outputs": [
    {
     "data": {
      "text/html": [
       "<div>\n",
       "<style scoped>\n",
       "    .dataframe tbody tr th:only-of-type {\n",
       "        vertical-align: middle;\n",
       "    }\n",
       "\n",
       "    .dataframe tbody tr th {\n",
       "        vertical-align: top;\n",
       "    }\n",
       "\n",
       "    .dataframe thead th {\n",
       "        text-align: right;\n",
       "    }\n",
       "</style>\n",
       "<table border=\"1\" class=\"dataframe\">\n",
       "  <thead>\n",
       "    <tr style=\"text-align: right;\">\n",
       "      <th></th>\n",
       "      <th>Model</th>\n",
       "      <th>RMSE</th>\n",
       "      <th>Fit_time</th>\n",
       "      <th>Predict_time</th>\n",
       "    </tr>\n",
       "  </thead>\n",
       "  <tbody>\n",
       "    <tr>\n",
       "      <th>3</th>\n",
       "      <td>LGBMRegressor</td>\n",
       "      <td>1395.939766</td>\n",
       "      <td>3.024513</td>\n",
       "      <td>0.678244</td>\n",
       "    </tr>\n",
       "    <tr>\n",
       "      <th>5</th>\n",
       "      <td>CatBoostRegressor</td>\n",
       "      <td>1469.976164</td>\n",
       "      <td>11.6354</td>\n",
       "      <td>0.04103</td>\n",
       "    </tr>\n",
       "    <tr>\n",
       "      <th>2</th>\n",
       "      <td>RandomForestRegressor</td>\n",
       "      <td>1483.083428</td>\n",
       "      <td>41.925058</td>\n",
       "      <td>3.297563</td>\n",
       "    </tr>\n",
       "    <tr>\n",
       "      <th>1</th>\n",
       "      <td>DecisionTreeRegressor</td>\n",
       "      <td>1755.262088</td>\n",
       "      <td>0.450178</td>\n",
       "      <td>0.055202</td>\n",
       "    </tr>\n",
       "    <tr>\n",
       "      <th>4</th>\n",
       "      <td>KNeighborsRegressor</td>\n",
       "      <td>2211.940781</td>\n",
       "      <td>0.430152</td>\n",
       "      <td>32.232692</td>\n",
       "    </tr>\n",
       "    <tr>\n",
       "      <th>0</th>\n",
       "      <td>LinearRegression</td>\n",
       "      <td>2663.608457</td>\n",
       "      <td>0.123605</td>\n",
       "      <td>0.047593</td>\n",
       "    </tr>\n",
       "  </tbody>\n",
       "</table>\n",
       "</div>"
      ],
      "text/plain": [
       "                   Model         RMSE   Fit_time Predict_time\n",
       "3          LGBMRegressor  1395.939766   3.024513     0.678244\n",
       "5      CatBoostRegressor  1469.976164    11.6354      0.04103\n",
       "2  RandomForestRegressor  1483.083428  41.925058     3.297563\n",
       "1  DecisionTreeRegressor  1755.262088   0.450178     0.055202\n",
       "4    KNeighborsRegressor  2211.940781   0.430152    32.232692\n",
       "0       LinearRegression  2663.608457   0.123605     0.047593"
      ]
     },
     "execution_count": 47,
     "metadata": {},
     "output_type": "execute_result"
    }
   ],
   "source": [
    "MLA_compare"
   ]
  },
  {
   "cell_type": "markdown",
   "metadata": {},
   "source": [
    "LGBMRegressor показал себя лучше других моделей при соотношении время обучения/время предсказания/метрика RMSE. Хоть обучается и предсказывает она относильно долго (4-й результат их всех), ближайшая модель с лучшим временем - дерево решений, которая показывает RMSE на 350 пунктов хуже. \n",
    "\n",
    "Поэтому рекомендация модели - LGBMRegressor с параметрами: {num_leaves=105, n_estimators=810, max_depth=27}"
   ]
  },
  {
   "cell_type": "markdown",
   "metadata": {},
   "source": [
    "## Чек-лист проверки"
   ]
  },
  {
   "cell_type": "markdown",
   "metadata": {},
   "source": [
    "Поставьте 'x' в выполненных пунктах. Далее нажмите Shift+Enter."
   ]
  },
  {
   "cell_type": "markdown",
   "metadata": {},
   "source": [
    "- [x]  Jupyter Notebook открыт\n",
    "- [x]  Весь код выполняется без ошибок\n",
    "- [x]  Ячейки с кодом расположены в порядке исполнения\n",
    "- [x]  Выполнена загрузка и подготовка данных\n",
    "- [x]  Выполнено обучение моделей\n",
    "- [x]  Есть анализ скорости работы и качества моделей"
   ]
  }
 ],
 "metadata": {
  "ExecuteTimeLog": [
   {
    "duration": 396,
    "start_time": "2022-05-12T21:37:21.893Z"
   },
   {
    "duration": 827,
    "start_time": "2022-05-12T21:37:39.172Z"
   },
   {
    "duration": 20,
    "start_time": "2022-05-12T21:37:47.140Z"
   },
   {
    "duration": 128,
    "start_time": "2022-05-12T21:38:25.821Z"
   },
   {
    "duration": 70,
    "start_time": "2022-05-12T21:47:10.797Z"
   },
   {
    "duration": 91,
    "start_time": "2022-05-12T21:47:17.240Z"
   },
   {
    "duration": 7,
    "start_time": "2022-05-12T21:53:50.399Z"
   },
   {
    "duration": 900,
    "start_time": "2022-05-12T21:53:56.029Z"
   },
   {
    "duration": 504,
    "start_time": "2022-05-12T22:00:00.415Z"
   },
   {
    "duration": 470,
    "start_time": "2022-05-12T22:00:39.308Z"
   },
   {
    "duration": 507,
    "start_time": "2022-05-12T22:01:59.774Z"
   },
   {
    "duration": 408,
    "start_time": "2022-05-12T22:02:07.455Z"
   },
   {
    "duration": 842,
    "start_time": "2022-05-12T22:02:07.865Z"
   },
   {
    "duration": 21,
    "start_time": "2022-05-12T22:02:08.709Z"
   },
   {
    "duration": 150,
    "start_time": "2022-05-12T22:02:08.743Z"
   },
   {
    "duration": 523,
    "start_time": "2022-05-12T22:02:08.896Z"
   },
   {
    "duration": 570,
    "start_time": "2022-05-12T22:02:09.421Z"
   },
   {
    "duration": 105,
    "start_time": "2022-05-12T22:02:09.993Z"
   },
   {
    "duration": 915,
    "start_time": "2022-05-12T22:02:10.100Z"
   },
   {
    "duration": 487,
    "start_time": "2022-05-12T22:04:26.020Z"
   },
   {
    "duration": 80,
    "start_time": "2022-05-12T22:10:53.714Z"
   },
   {
    "duration": 159,
    "start_time": "2022-05-12T22:11:03.118Z"
   },
   {
    "duration": 537,
    "start_time": "2022-05-12T22:24:49.333Z"
   },
   {
    "duration": 731,
    "start_time": "2022-05-12T22:25:19.021Z"
   },
   {
    "duration": 16,
    "start_time": "2022-05-12T22:27:05.678Z"
   },
   {
    "duration": 26,
    "start_time": "2022-05-12T22:28:07.198Z"
   },
   {
    "duration": 15,
    "start_time": "2022-05-12T22:28:19.424Z"
   },
   {
    "duration": 57,
    "start_time": "2022-05-12T22:29:29.216Z"
   },
   {
    "duration": 187,
    "start_time": "2022-05-12T22:29:43.504Z"
   },
   {
    "duration": 265,
    "start_time": "2022-05-12T22:29:52.194Z"
   },
   {
    "duration": 616,
    "start_time": "2022-05-12T22:31:02.993Z"
   },
   {
    "duration": 490,
    "start_time": "2022-05-12T22:31:10.361Z"
   },
   {
    "duration": 639,
    "start_time": "2022-05-12T22:31:13.128Z"
   },
   {
    "duration": 55894,
    "start_time": "2022-05-12T22:32:49.160Z"
   },
   {
    "duration": 10810,
    "start_time": "2022-05-12T22:33:57.203Z"
   },
   {
    "duration": 2391,
    "start_time": "2022-05-12T22:34:17.165Z"
   },
   {
    "duration": 249,
    "start_time": "2022-05-12T22:34:25.196Z"
   },
   {
    "duration": 233,
    "start_time": "2022-05-12T22:34:49.364Z"
   },
   {
    "duration": 2442,
    "start_time": "2022-05-12T22:36:01.813Z"
   },
   {
    "duration": 2255,
    "start_time": "2022-05-12T22:36:22.902Z"
   },
   {
    "duration": 13,
    "start_time": "2022-05-12T22:36:34.798Z"
   },
   {
    "duration": 12,
    "start_time": "2022-05-12T22:37:02.463Z"
   },
   {
    "duration": 48,
    "start_time": "2022-05-12T22:37:57.062Z"
   },
   {
    "duration": 231,
    "start_time": "2022-05-12T22:38:02.975Z"
   },
   {
    "duration": 1204,
    "start_time": "2022-05-12T22:38:18.047Z"
   },
   {
    "duration": 815,
    "start_time": "2022-05-12T22:38:19.253Z"
   },
   {
    "duration": 17,
    "start_time": "2022-05-12T22:38:20.070Z"
   },
   {
    "duration": 137,
    "start_time": "2022-05-12T22:38:20.089Z"
   },
   {
    "duration": 498,
    "start_time": "2022-05-12T22:38:20.227Z"
   },
   {
    "duration": 541,
    "start_time": "2022-05-12T22:38:20.727Z"
   },
   {
    "duration": 96,
    "start_time": "2022-05-12T22:38:21.270Z"
   },
   {
    "duration": 879,
    "start_time": "2022-05-12T22:38:21.367Z"
   },
   {
    "duration": 54,
    "start_time": "2022-05-12T22:38:22.248Z"
   },
   {
    "duration": 15,
    "start_time": "2022-05-12T22:38:22.304Z"
   },
   {
    "duration": 73,
    "start_time": "2022-05-12T22:38:22.321Z"
   },
   {
    "duration": 625,
    "start_time": "2022-05-12T22:38:22.396Z"
   },
   {
    "duration": 243,
    "start_time": "2022-05-12T22:38:23.023Z"
   },
   {
    "duration": 51,
    "start_time": "2022-05-12T22:38:23.268Z"
   },
   {
    "duration": 243,
    "start_time": "2022-05-12T22:38:23.321Z"
   },
   {
    "duration": 13571,
    "start_time": "2022-05-12T22:40:14.417Z"
   },
   {
    "duration": 273,
    "start_time": "2022-05-12T22:40:35.926Z"
   },
   {
    "duration": 1399,
    "start_time": "2022-05-13T07:38:20.686Z"
   },
   {
    "duration": 797,
    "start_time": "2022-05-13T07:38:22.087Z"
   },
   {
    "duration": 21,
    "start_time": "2022-05-13T07:38:22.886Z"
   },
   {
    "duration": 145,
    "start_time": "2022-05-13T07:38:22.908Z"
   },
   {
    "duration": 450,
    "start_time": "2022-05-13T07:38:23.055Z"
   },
   {
    "duration": 466,
    "start_time": "2022-05-13T07:38:23.507Z"
   },
   {
    "duration": 95,
    "start_time": "2022-05-13T07:38:23.974Z"
   },
   {
    "duration": 765,
    "start_time": "2022-05-13T07:38:24.071Z"
   },
   {
    "duration": 42,
    "start_time": "2022-05-13T07:38:24.837Z"
   },
   {
    "duration": 23,
    "start_time": "2022-05-13T07:38:24.881Z"
   },
   {
    "duration": 47,
    "start_time": "2022-05-13T07:38:24.906Z"
   },
   {
    "duration": 652,
    "start_time": "2022-05-13T07:38:24.954Z"
   },
   {
    "duration": 234,
    "start_time": "2022-05-13T07:38:25.607Z"
   },
   {
    "duration": 42,
    "start_time": "2022-05-13T07:38:25.843Z"
   },
   {
    "duration": 232,
    "start_time": "2022-05-13T07:38:25.887Z"
   },
   {
    "duration": 38,
    "start_time": "2022-05-13T07:38:26.120Z"
   },
   {
    "duration": 838,
    "start_time": "2022-05-13T07:38:45.079Z"
   },
   {
    "duration": 725,
    "start_time": "2022-05-13T07:39:08.316Z"
   },
   {
    "duration": 1138,
    "start_time": "2022-05-13T07:39:32.928Z"
   },
   {
    "duration": 739,
    "start_time": "2022-05-13T07:39:34.068Z"
   },
   {
    "duration": 15,
    "start_time": "2022-05-13T07:39:34.809Z"
   },
   {
    "duration": 136,
    "start_time": "2022-05-13T07:39:34.826Z"
   },
   {
    "duration": 424,
    "start_time": "2022-05-13T07:39:34.964Z"
   },
   {
    "duration": 457,
    "start_time": "2022-05-13T07:39:35.389Z"
   },
   {
    "duration": 87,
    "start_time": "2022-05-13T07:39:35.848Z"
   },
   {
    "duration": 781,
    "start_time": "2022-05-13T07:39:35.937Z"
   },
   {
    "duration": 43,
    "start_time": "2022-05-13T07:39:36.720Z"
   },
   {
    "duration": 12,
    "start_time": "2022-05-13T07:39:36.765Z"
   },
   {
    "duration": 68,
    "start_time": "2022-05-13T07:39:36.779Z"
   },
   {
    "duration": 641,
    "start_time": "2022-05-13T07:39:36.849Z"
   },
   {
    "duration": 1267,
    "start_time": "2022-05-13T07:40:17.813Z"
   },
   {
    "duration": 776,
    "start_time": "2022-05-13T07:40:19.082Z"
   },
   {
    "duration": 16,
    "start_time": "2022-05-13T07:40:19.860Z"
   },
   {
    "duration": 142,
    "start_time": "2022-05-13T07:40:19.878Z"
   },
   {
    "duration": 447,
    "start_time": "2022-05-13T07:40:20.022Z"
   },
   {
    "duration": 457,
    "start_time": "2022-05-13T07:40:20.471Z"
   },
   {
    "duration": 93,
    "start_time": "2022-05-13T07:40:20.930Z"
   },
   {
    "duration": 823,
    "start_time": "2022-05-13T07:40:21.025Z"
   },
   {
    "duration": 58,
    "start_time": "2022-05-13T07:40:21.849Z"
   },
   {
    "duration": 13,
    "start_time": "2022-05-13T07:40:21.909Z"
   },
   {
    "duration": 62,
    "start_time": "2022-05-13T07:40:21.924Z"
   },
   {
    "duration": 690,
    "start_time": "2022-05-13T07:40:21.988Z"
   },
   {
    "duration": 508,
    "start_time": "2022-05-13T07:40:22.680Z"
   },
   {
    "duration": 63,
    "start_time": "2022-05-13T07:40:23.192Z"
   },
   {
    "duration": 415,
    "start_time": "2022-05-13T07:40:23.257Z"
   },
   {
    "duration": 49,
    "start_time": "2022-05-13T07:40:23.674Z"
   },
   {
    "duration": 230,
    "start_time": "2022-05-13T07:41:13.233Z"
   },
   {
    "duration": 299,
    "start_time": "2022-05-13T07:41:18.978Z"
   },
   {
    "duration": 60,
    "start_time": "2022-05-13T07:47:41.637Z"
   },
   {
    "duration": 22135,
    "start_time": "2022-05-13T07:47:47.606Z"
   },
   {
    "duration": 972,
    "start_time": "2022-05-13T07:49:05.585Z"
   },
   {
    "duration": 95,
    "start_time": "2022-05-13T07:51:58.795Z"
   },
   {
    "duration": 140,
    "start_time": "2022-05-13T07:52:07.421Z"
   },
   {
    "duration": 3442,
    "start_time": "2022-05-13T07:52:37.891Z"
   },
   {
    "duration": 881,
    "start_time": "2022-05-13T07:52:42.476Z"
   },
   {
    "duration": 3210,
    "start_time": "2022-05-13T07:53:16.957Z"
   },
   {
    "duration": 109,
    "start_time": "2022-05-13T07:53:23.684Z"
   },
   {
    "duration": 9,
    "start_time": "2022-05-13T07:53:36.908Z"
   },
   {
    "duration": 234,
    "start_time": "2022-05-13T07:53:42.589Z"
   },
   {
    "duration": 252,
    "start_time": "2022-05-13T07:53:47.878Z"
   },
   {
    "duration": 349,
    "start_time": "2022-05-13T07:54:04.453Z"
   },
   {
    "duration": 504,
    "start_time": "2022-05-13T07:54:06.597Z"
   },
   {
    "duration": 15,
    "start_time": "2022-05-13T07:54:39.141Z"
   },
   {
    "duration": 14,
    "start_time": "2022-05-13T07:59:32.545Z"
   },
   {
    "duration": 14,
    "start_time": "2022-05-13T07:59:52.626Z"
   },
   {
    "duration": 406,
    "start_time": "2022-05-13T08:00:06.785Z"
   },
   {
    "duration": 571,
    "start_time": "2022-05-13T08:00:25.495Z"
   },
   {
    "duration": 598,
    "start_time": "2022-05-13T08:00:40.945Z"
   },
   {
    "duration": 1238,
    "start_time": "2022-05-13T08:03:05.675Z"
   },
   {
    "duration": 1246,
    "start_time": "2022-05-13T08:03:16.358Z"
   },
   {
    "duration": 806,
    "start_time": "2022-05-13T08:03:17.606Z"
   },
   {
    "duration": 17,
    "start_time": "2022-05-13T08:03:18.414Z"
   },
   {
    "duration": 144,
    "start_time": "2022-05-13T08:03:18.434Z"
   },
   {
    "duration": 618,
    "start_time": "2022-05-13T08:03:18.583Z"
   },
   {
    "duration": 653,
    "start_time": "2022-05-13T08:03:19.203Z"
   },
   {
    "duration": 114,
    "start_time": "2022-05-13T08:03:19.858Z"
   },
   {
    "duration": 875,
    "start_time": "2022-05-13T08:03:19.974Z"
   },
   {
    "duration": 54,
    "start_time": "2022-05-13T08:03:20.850Z"
   },
   {
    "duration": 13,
    "start_time": "2022-05-13T08:03:20.905Z"
   },
   {
    "duration": 50,
    "start_time": "2022-05-13T08:03:20.920Z"
   },
   {
    "duration": 617,
    "start_time": "2022-05-13T08:03:20.973Z"
   },
   {
    "duration": 236,
    "start_time": "2022-05-13T08:03:21.591Z"
   },
   {
    "duration": 13735,
    "start_time": "2022-05-13T08:03:21.828Z"
   },
   {
    "duration": 169,
    "start_time": "2022-05-13T08:03:35.565Z"
   },
   {
    "duration": 4062,
    "start_time": "2022-05-13T08:03:35.736Z"
   },
   {
    "duration": 51,
    "start_time": "2022-05-13T08:03:39.800Z"
   },
   {
    "duration": 241,
    "start_time": "2022-05-13T08:03:39.853Z"
   },
   {
    "duration": 36,
    "start_time": "2022-05-13T08:03:40.100Z"
   },
   {
    "duration": 233,
    "start_time": "2022-05-13T08:03:40.138Z"
   },
   {
    "duration": 184,
    "start_time": "2022-05-13T08:04:22.373Z"
   },
   {
    "duration": 386,
    "start_time": "2022-05-13T08:04:33.430Z"
   },
   {
    "duration": 401,
    "start_time": "2022-05-13T08:04:37.370Z"
   },
   {
    "duration": 573,
    "start_time": "2022-05-13T08:04:52.692Z"
   },
   {
    "duration": 363,
    "start_time": "2022-05-13T08:05:43.261Z"
   },
   {
    "duration": 637,
    "start_time": "2022-05-13T08:05:47.532Z"
   },
   {
    "duration": 622,
    "start_time": "2022-05-13T08:06:05.341Z"
   },
   {
    "duration": 574,
    "start_time": "2022-05-13T08:06:19.509Z"
   },
   {
    "duration": 15,
    "start_time": "2022-05-13T08:08:46.434Z"
   },
   {
    "duration": 568,
    "start_time": "2022-05-13T08:08:51.406Z"
   },
   {
    "duration": 1120,
    "start_time": "2022-05-13T08:10:37.946Z"
   },
   {
    "duration": 770,
    "start_time": "2022-05-13T08:10:39.068Z"
   },
   {
    "duration": 16,
    "start_time": "2022-05-13T08:10:39.841Z"
   },
   {
    "duration": 143,
    "start_time": "2022-05-13T08:10:39.859Z"
   },
   {
    "duration": 443,
    "start_time": "2022-05-13T08:10:40.004Z"
   },
   {
    "duration": 499,
    "start_time": "2022-05-13T08:10:40.449Z"
   },
   {
    "duration": 81,
    "start_time": "2022-05-13T08:10:40.950Z"
   },
   {
    "duration": 791,
    "start_time": "2022-05-13T08:10:41.033Z"
   },
   {
    "duration": 48,
    "start_time": "2022-05-13T08:10:41.825Z"
   },
   {
    "duration": 26,
    "start_time": "2022-05-13T08:10:41.875Z"
   },
   {
    "duration": 53,
    "start_time": "2022-05-13T08:10:41.902Z"
   },
   {
    "duration": 627,
    "start_time": "2022-05-13T08:10:41.956Z"
   },
   {
    "duration": 229,
    "start_time": "2022-05-13T08:10:42.586Z"
   },
   {
    "duration": 13397,
    "start_time": "2022-05-13T08:10:42.817Z"
   },
   {
    "duration": 172,
    "start_time": "2022-05-13T08:10:56.216Z"
   },
   {
    "duration": 618,
    "start_time": "2022-05-13T08:10:56.389Z"
   },
   {
    "duration": 666,
    "start_time": "2022-05-13T08:11:24.509Z"
   },
   {
    "duration": 218,
    "start_time": "2022-05-13T08:11:27.707Z"
   },
   {
    "duration": 1149,
    "start_time": "2022-05-13T08:11:36.415Z"
   },
   {
    "duration": 773,
    "start_time": "2022-05-13T08:11:37.566Z"
   },
   {
    "duration": 16,
    "start_time": "2022-05-13T08:11:38.340Z"
   },
   {
    "duration": 142,
    "start_time": "2022-05-13T08:11:38.358Z"
   },
   {
    "duration": 448,
    "start_time": "2022-05-13T08:11:38.502Z"
   },
   {
    "duration": 479,
    "start_time": "2022-05-13T08:11:38.951Z"
   },
   {
    "duration": 91,
    "start_time": "2022-05-13T08:11:39.432Z"
   },
   {
    "duration": 825,
    "start_time": "2022-05-13T08:11:39.525Z"
   },
   {
    "duration": 57,
    "start_time": "2022-05-13T08:11:40.351Z"
   },
   {
    "duration": 14,
    "start_time": "2022-05-13T08:11:40.410Z"
   },
   {
    "duration": 51,
    "start_time": "2022-05-13T08:11:40.426Z"
   },
   {
    "duration": 588,
    "start_time": "2022-05-13T08:11:40.479Z"
   },
   {
    "duration": 225,
    "start_time": "2022-05-13T08:11:41.068Z"
   },
   {
    "duration": 230,
    "start_time": "2022-05-13T08:11:41.300Z"
   },
   {
    "duration": 168,
    "start_time": "2022-05-13T08:11:41.532Z"
   },
   {
    "duration": 676,
    "start_time": "2022-05-13T08:11:41.702Z"
   },
   {
    "duration": 195,
    "start_time": "2022-05-13T08:14:26.572Z"
   },
   {
    "duration": 219,
    "start_time": "2022-05-13T08:14:32.443Z"
   },
   {
    "duration": 1215,
    "start_time": "2022-05-13T08:14:41.570Z"
   },
   {
    "duration": 760,
    "start_time": "2022-05-13T08:14:42.787Z"
   },
   {
    "duration": 16,
    "start_time": "2022-05-13T08:14:43.548Z"
   },
   {
    "duration": 136,
    "start_time": "2022-05-13T08:14:43.565Z"
   },
   {
    "duration": 445,
    "start_time": "2022-05-13T08:14:43.702Z"
   },
   {
    "duration": 488,
    "start_time": "2022-05-13T08:14:44.148Z"
   },
   {
    "duration": 89,
    "start_time": "2022-05-13T08:14:44.638Z"
   },
   {
    "duration": 802,
    "start_time": "2022-05-13T08:14:44.730Z"
   },
   {
    "duration": 44,
    "start_time": "2022-05-13T08:14:45.533Z"
   },
   {
    "duration": 24,
    "start_time": "2022-05-13T08:14:45.579Z"
   },
   {
    "duration": 51,
    "start_time": "2022-05-13T08:14:45.605Z"
   },
   {
    "duration": 601,
    "start_time": "2022-05-13T08:14:45.657Z"
   },
   {
    "duration": 231,
    "start_time": "2022-05-13T08:14:46.259Z"
   },
   {
    "duration": 239,
    "start_time": "2022-05-13T08:14:46.491Z"
   },
   {
    "duration": 181,
    "start_time": "2022-05-13T08:14:46.732Z"
   },
   {
    "duration": 644,
    "start_time": "2022-05-13T08:14:46.915Z"
   },
   {
    "duration": 52,
    "start_time": "2022-05-13T08:16:06.695Z"
   },
   {
    "duration": 1134,
    "start_time": "2022-05-13T08:16:13.139Z"
   },
   {
    "duration": 782,
    "start_time": "2022-05-13T08:16:14.275Z"
   },
   {
    "duration": 16,
    "start_time": "2022-05-13T08:16:15.059Z"
   },
   {
    "duration": 140,
    "start_time": "2022-05-13T08:16:15.077Z"
   },
   {
    "duration": 443,
    "start_time": "2022-05-13T08:16:15.219Z"
   },
   {
    "duration": 495,
    "start_time": "2022-05-13T08:16:15.664Z"
   },
   {
    "duration": 93,
    "start_time": "2022-05-13T08:16:16.161Z"
   },
   {
    "duration": 777,
    "start_time": "2022-05-13T08:16:16.255Z"
   },
   {
    "duration": 46,
    "start_time": "2022-05-13T08:16:17.034Z"
   },
   {
    "duration": 26,
    "start_time": "2022-05-13T08:16:17.082Z"
   },
   {
    "duration": 52,
    "start_time": "2022-05-13T08:16:17.110Z"
   },
   {
    "duration": 618,
    "start_time": "2022-05-13T08:16:17.163Z"
   },
   {
    "duration": 256,
    "start_time": "2022-05-13T08:16:17.782Z"
   },
   {
    "duration": 265,
    "start_time": "2022-05-13T08:16:18.040Z"
   },
   {
    "duration": 186,
    "start_time": "2022-05-13T08:16:18.306Z"
   },
   {
    "duration": 779,
    "start_time": "2022-05-13T08:16:18.494Z"
   },
   {
    "duration": 96,
    "start_time": "2022-05-13T08:17:43.688Z"
   },
   {
    "duration": 1180,
    "start_time": "2022-05-13T08:17:50.284Z"
   },
   {
    "duration": 760,
    "start_time": "2022-05-13T08:17:51.465Z"
   },
   {
    "duration": 18,
    "start_time": "2022-05-13T08:17:52.226Z"
   },
   {
    "duration": 149,
    "start_time": "2022-05-13T08:17:52.246Z"
   },
   {
    "duration": 441,
    "start_time": "2022-05-13T08:17:52.396Z"
   },
   {
    "duration": 532,
    "start_time": "2022-05-13T08:17:52.838Z"
   },
   {
    "duration": 92,
    "start_time": "2022-05-13T08:17:53.372Z"
   },
   {
    "duration": 765,
    "start_time": "2022-05-13T08:17:53.465Z"
   },
   {
    "duration": 47,
    "start_time": "2022-05-13T08:17:54.231Z"
   },
   {
    "duration": 30,
    "start_time": "2022-05-13T08:17:54.279Z"
   },
   {
    "duration": 51,
    "start_time": "2022-05-13T08:17:54.310Z"
   },
   {
    "duration": 586,
    "start_time": "2022-05-13T08:17:54.363Z"
   },
   {
    "duration": 228,
    "start_time": "2022-05-13T08:17:54.952Z"
   },
   {
    "duration": 239,
    "start_time": "2022-05-13T08:17:55.182Z"
   },
   {
    "duration": 172,
    "start_time": "2022-05-13T08:17:55.423Z"
   },
   {
    "duration": 650,
    "start_time": "2022-05-13T08:17:55.600Z"
   },
   {
    "duration": 246,
    "start_time": "2022-05-13T08:18:54.785Z"
   },
   {
    "duration": 250,
    "start_time": "2022-05-13T08:18:58.352Z"
   },
   {
    "duration": 115,
    "start_time": "2022-05-13T08:19:06.219Z"
   },
   {
    "duration": 130,
    "start_time": "2022-05-13T08:19:09.641Z"
   },
   {
    "duration": 115,
    "start_time": "2022-05-13T08:19:13.832Z"
   },
   {
    "duration": 143,
    "start_time": "2022-05-13T08:19:17.993Z"
   },
   {
    "duration": 6,
    "start_time": "2022-05-13T08:19:48.282Z"
   },
   {
    "duration": 5,
    "start_time": "2022-05-13T08:19:55.882Z"
   },
   {
    "duration": 5,
    "start_time": "2022-05-13T08:20:01.625Z"
   },
   {
    "duration": 5,
    "start_time": "2022-05-13T08:20:03.786Z"
   },
   {
    "duration": 96,
    "start_time": "2022-05-13T08:20:10.877Z"
   },
   {
    "duration": 8,
    "start_time": "2022-05-13T08:20:18.042Z"
   },
   {
    "duration": 5,
    "start_time": "2022-05-13T08:20:26.538Z"
   },
   {
    "duration": 4,
    "start_time": "2022-05-13T08:20:28.865Z"
   },
   {
    "duration": 5,
    "start_time": "2022-05-13T08:20:34.729Z"
   },
   {
    "duration": 4,
    "start_time": "2022-05-13T08:20:39.033Z"
   },
   {
    "duration": 6,
    "start_time": "2022-05-13T08:20:41.786Z"
   },
   {
    "duration": 10,
    "start_time": "2022-05-13T08:21:27.378Z"
   },
   {
    "duration": 5,
    "start_time": "2022-05-13T08:21:34.450Z"
   },
   {
    "duration": 143,
    "start_time": "2022-05-13T08:32:08.913Z"
   },
   {
    "duration": 152,
    "start_time": "2022-05-13T08:32:21.409Z"
   },
   {
    "duration": 251,
    "start_time": "2022-05-13T08:32:26.369Z"
   },
   {
    "duration": 161,
    "start_time": "2022-05-13T08:32:29.321Z"
   },
   {
    "duration": 152,
    "start_time": "2022-05-13T08:32:36.266Z"
   },
   {
    "duration": 134,
    "start_time": "2022-05-13T08:33:05.594Z"
   },
   {
    "duration": 237,
    "start_time": "2022-05-13T08:33:09.857Z"
   },
   {
    "duration": 44,
    "start_time": "2022-05-13T08:35:57.795Z"
   },
   {
    "duration": 106,
    "start_time": "2022-05-13T08:36:04.724Z"
   },
   {
    "duration": 11,
    "start_time": "2022-05-13T08:36:55.523Z"
   },
   {
    "duration": 13,
    "start_time": "2022-05-13T08:36:59.644Z"
   },
   {
    "duration": 100,
    "start_time": "2022-05-13T08:37:41.653Z"
   },
   {
    "duration": 188,
    "start_time": "2022-05-13T08:37:49.755Z"
   },
   {
    "duration": 157,
    "start_time": "2022-05-13T08:37:53.331Z"
   },
   {
    "duration": 1184,
    "start_time": "2022-05-13T08:37:57.498Z"
   },
   {
    "duration": 778,
    "start_time": "2022-05-13T08:37:58.684Z"
   },
   {
    "duration": 16,
    "start_time": "2022-05-13T08:37:59.464Z"
   },
   {
    "duration": 141,
    "start_time": "2022-05-13T08:37:59.482Z"
   },
   {
    "duration": 453,
    "start_time": "2022-05-13T08:37:59.625Z"
   },
   {
    "duration": 495,
    "start_time": "2022-05-13T08:38:00.079Z"
   },
   {
    "duration": 94,
    "start_time": "2022-05-13T08:38:00.575Z"
   },
   {
    "duration": 825,
    "start_time": "2022-05-13T08:38:00.670Z"
   },
   {
    "duration": 45,
    "start_time": "2022-05-13T08:38:01.500Z"
   },
   {
    "duration": 13,
    "start_time": "2022-05-13T08:38:01.546Z"
   },
   {
    "duration": 68,
    "start_time": "2022-05-13T08:38:01.561Z"
   },
   {
    "duration": 580,
    "start_time": "2022-05-13T08:38:01.631Z"
   },
   {
    "duration": 239,
    "start_time": "2022-05-13T08:38:02.214Z"
   },
   {
    "duration": 239,
    "start_time": "2022-05-13T08:38:02.455Z"
   },
   {
    "duration": 167,
    "start_time": "2022-05-13T08:38:02.699Z"
   },
   {
    "duration": 700,
    "start_time": "2022-05-13T08:38:02.868Z"
   },
   {
    "duration": 236,
    "start_time": "2022-05-13T08:38:03.569Z"
   },
   {
    "duration": 45,
    "start_time": "2022-05-13T08:38:03.807Z"
   },
   {
    "duration": 14,
    "start_time": "2022-05-13T08:38:03.853Z"
   },
   {
    "duration": 108,
    "start_time": "2022-05-13T08:38:34.547Z"
   },
   {
    "duration": 3408,
    "start_time": "2022-05-13T08:40:36.037Z"
   },
   {
    "duration": 1269,
    "start_time": "2022-05-13T08:40:47.910Z"
   },
   {
    "duration": 786,
    "start_time": "2022-05-13T08:40:49.181Z"
   },
   {
    "duration": 16,
    "start_time": "2022-05-13T08:40:49.969Z"
   },
   {
    "duration": 151,
    "start_time": "2022-05-13T08:40:49.988Z"
   },
   {
    "duration": 448,
    "start_time": "2022-05-13T08:40:50.141Z"
   },
   {
    "duration": 524,
    "start_time": "2022-05-13T08:40:50.591Z"
   },
   {
    "duration": 100,
    "start_time": "2022-05-13T08:40:51.117Z"
   },
   {
    "duration": 877,
    "start_time": "2022-05-13T08:40:51.219Z"
   },
   {
    "duration": 46,
    "start_time": "2022-05-13T08:40:52.101Z"
   },
   {
    "duration": 14,
    "start_time": "2022-05-13T08:40:52.149Z"
   },
   {
    "duration": 74,
    "start_time": "2022-05-13T08:40:52.165Z"
   },
   {
    "duration": 631,
    "start_time": "2022-05-13T08:40:52.241Z"
   },
   {
    "duration": 231,
    "start_time": "2022-05-13T08:40:52.874Z"
   },
   {
    "duration": 253,
    "start_time": "2022-05-13T08:40:53.106Z"
   },
   {
    "duration": 2972,
    "start_time": "2022-05-13T08:40:53.361Z"
   },
   {
    "duration": 0,
    "start_time": "2022-05-13T08:40:56.335Z"
   },
   {
    "duration": 0,
    "start_time": "2022-05-13T08:40:56.336Z"
   },
   {
    "duration": 0,
    "start_time": "2022-05-13T08:40:56.337Z"
   },
   {
    "duration": 0,
    "start_time": "2022-05-13T08:40:56.338Z"
   },
   {
    "duration": 2596,
    "start_time": "2022-05-13T08:41:22.983Z"
   },
   {
    "duration": 2395,
    "start_time": "2022-05-13T08:42:12.303Z"
   },
   {
    "duration": 1130,
    "start_time": "2022-05-13T08:42:23.248Z"
   },
   {
    "duration": 745,
    "start_time": "2022-05-13T08:42:24.380Z"
   },
   {
    "duration": 16,
    "start_time": "2022-05-13T08:42:25.126Z"
   },
   {
    "duration": 131,
    "start_time": "2022-05-13T08:42:25.144Z"
   },
   {
    "duration": 450,
    "start_time": "2022-05-13T08:42:25.277Z"
   },
   {
    "duration": 470,
    "start_time": "2022-05-13T08:42:25.729Z"
   },
   {
    "duration": 82,
    "start_time": "2022-05-13T08:42:26.200Z"
   },
   {
    "duration": 775,
    "start_time": "2022-05-13T08:42:26.284Z"
   },
   {
    "duration": 53,
    "start_time": "2022-05-13T08:42:27.060Z"
   },
   {
    "duration": 13,
    "start_time": "2022-05-13T08:42:27.114Z"
   },
   {
    "duration": 50,
    "start_time": "2022-05-13T08:42:27.129Z"
   },
   {
    "duration": 595,
    "start_time": "2022-05-13T08:42:27.180Z"
   },
   {
    "duration": 235,
    "start_time": "2022-05-13T08:42:27.777Z"
   },
   {
    "duration": 232,
    "start_time": "2022-05-13T08:42:28.014Z"
   },
   {
    "duration": 181,
    "start_time": "2022-05-13T08:42:28.248Z"
   },
   {
    "duration": 658,
    "start_time": "2022-05-13T08:42:28.431Z"
   },
   {
    "duration": 228,
    "start_time": "2022-05-13T08:42:29.091Z"
   },
   {
    "duration": 43,
    "start_time": "2022-05-13T08:42:29.321Z"
   },
   {
    "duration": 125,
    "start_time": "2022-05-13T08:42:29.366Z"
   },
   {
    "duration": 136,
    "start_time": "2022-05-13T08:42:55.439Z"
   },
   {
    "duration": 1194,
    "start_time": "2022-05-13T08:43:04.396Z"
   },
   {
    "duration": 797,
    "start_time": "2022-05-13T08:43:05.592Z"
   },
   {
    "duration": 24,
    "start_time": "2022-05-13T08:43:06.390Z"
   },
   {
    "duration": 139,
    "start_time": "2022-05-13T08:43:06.416Z"
   },
   {
    "duration": 464,
    "start_time": "2022-05-13T08:43:06.557Z"
   },
   {
    "duration": 516,
    "start_time": "2022-05-13T08:43:07.023Z"
   },
   {
    "duration": 97,
    "start_time": "2022-05-13T08:43:07.541Z"
   },
   {
    "duration": 824,
    "start_time": "2022-05-13T08:43:07.639Z"
   },
   {
    "duration": 54,
    "start_time": "2022-05-13T08:43:08.464Z"
   },
   {
    "duration": 13,
    "start_time": "2022-05-13T08:43:08.519Z"
   },
   {
    "duration": 51,
    "start_time": "2022-05-13T08:43:08.534Z"
   },
   {
    "duration": 579,
    "start_time": "2022-05-13T08:43:08.600Z"
   },
   {
    "duration": 235,
    "start_time": "2022-05-13T08:43:09.181Z"
   },
   {
    "duration": 245,
    "start_time": "2022-05-13T08:43:09.419Z"
   },
   {
    "duration": 141,
    "start_time": "2022-05-13T08:43:09.666Z"
   },
   {
    "duration": 677,
    "start_time": "2022-05-13T08:43:09.810Z"
   },
   {
    "duration": 242,
    "start_time": "2022-05-13T08:43:10.489Z"
   },
   {
    "duration": 37,
    "start_time": "2022-05-13T08:43:10.733Z"
   },
   {
    "duration": 111,
    "start_time": "2022-05-13T08:43:10.772Z"
   },
   {
    "duration": 117,
    "start_time": "2022-05-13T08:45:37.120Z"
   },
   {
    "duration": 21,
    "start_time": "2022-05-13T08:48:52.237Z"
   },
   {
    "duration": 14,
    "start_time": "2022-05-13T08:51:12.468Z"
   },
   {
    "duration": 67,
    "start_time": "2022-05-13T08:53:34.088Z"
   },
   {
    "duration": 6,
    "start_time": "2022-05-13T08:53:49.642Z"
   },
   {
    "duration": 6,
    "start_time": "2022-05-13T08:54:01.535Z"
   },
   {
    "duration": 55,
    "start_time": "2022-05-13T08:54:07.318Z"
   },
   {
    "duration": 1191,
    "start_time": "2022-05-13T08:54:31.944Z"
   },
   {
    "duration": 764,
    "start_time": "2022-05-13T08:54:33.137Z"
   },
   {
    "duration": 18,
    "start_time": "2022-05-13T08:54:33.902Z"
   },
   {
    "duration": 138,
    "start_time": "2022-05-13T08:54:33.922Z"
   },
   {
    "duration": 669,
    "start_time": "2022-05-13T08:54:34.062Z"
   },
   {
    "duration": 477,
    "start_time": "2022-05-13T08:54:34.732Z"
   },
   {
    "duration": 90,
    "start_time": "2022-05-13T08:54:35.211Z"
   },
   {
    "duration": 847,
    "start_time": "2022-05-13T08:54:35.303Z"
   },
   {
    "duration": 56,
    "start_time": "2022-05-13T08:54:36.152Z"
   },
   {
    "duration": 13,
    "start_time": "2022-05-13T08:54:36.209Z"
   },
   {
    "duration": 49,
    "start_time": "2022-05-13T08:54:36.224Z"
   },
   {
    "duration": 621,
    "start_time": "2022-05-13T08:54:36.275Z"
   },
   {
    "duration": 378,
    "start_time": "2022-05-13T08:54:36.899Z"
   },
   {
    "duration": 398,
    "start_time": "2022-05-13T08:54:37.280Z"
   },
   {
    "duration": 173,
    "start_time": "2022-05-13T08:54:37.680Z"
   },
   {
    "duration": 745,
    "start_time": "2022-05-13T08:54:37.855Z"
   },
   {
    "duration": 422,
    "start_time": "2022-05-13T08:54:38.602Z"
   },
   {
    "duration": 45,
    "start_time": "2022-05-13T08:54:39.026Z"
   },
   {
    "duration": 189,
    "start_time": "2022-05-13T08:54:39.073Z"
   },
   {
    "duration": 47,
    "start_time": "2022-05-13T08:54:39.265Z"
   },
   {
    "duration": 244,
    "start_time": "2022-05-13T08:54:39.314Z"
   },
   {
    "duration": 1477,
    "start_time": "2022-05-13T08:54:59.479Z"
   },
   {
    "duration": 931,
    "start_time": "2022-05-13T08:55:00.958Z"
   },
   {
    "duration": 22,
    "start_time": "2022-05-13T08:55:01.891Z"
   },
   {
    "duration": 154,
    "start_time": "2022-05-13T08:55:01.915Z"
   },
   {
    "duration": 471,
    "start_time": "2022-05-13T08:55:02.070Z"
   },
   {
    "duration": 562,
    "start_time": "2022-05-13T08:55:02.543Z"
   },
   {
    "duration": 106,
    "start_time": "2022-05-13T08:55:03.107Z"
   },
   {
    "duration": 864,
    "start_time": "2022-05-13T08:55:03.215Z"
   },
   {
    "duration": 56,
    "start_time": "2022-05-13T08:55:04.081Z"
   },
   {
    "duration": 18,
    "start_time": "2022-05-13T08:55:04.140Z"
   },
   {
    "duration": 85,
    "start_time": "2022-05-13T08:55:04.160Z"
   },
   {
    "duration": 887,
    "start_time": "2022-05-13T08:55:04.247Z"
   },
   {
    "duration": 381,
    "start_time": "2022-05-13T08:55:05.135Z"
   },
   {
    "duration": 267,
    "start_time": "2022-05-13T08:55:05.518Z"
   },
   {
    "duration": 137,
    "start_time": "2022-05-13T08:55:05.786Z"
   },
   {
    "duration": 706,
    "start_time": "2022-05-13T08:55:05.925Z"
   },
   {
    "duration": 248,
    "start_time": "2022-05-13T08:55:06.633Z"
   },
   {
    "duration": 43,
    "start_time": "2022-05-13T08:55:06.883Z"
   },
   {
    "duration": 176,
    "start_time": "2022-05-13T08:55:06.928Z"
   },
   {
    "duration": 28,
    "start_time": "2022-05-13T08:55:07.106Z"
   },
   {
    "duration": 243,
    "start_time": "2022-05-13T08:55:07.136Z"
   },
   {
    "duration": 188,
    "start_time": "2022-05-13T08:56:24.672Z"
   },
   {
    "duration": 1166,
    "start_time": "2022-05-13T08:56:43.516Z"
   },
   {
    "duration": 1512,
    "start_time": "2022-05-13T08:56:44.683Z"
   },
   {
    "duration": 15,
    "start_time": "2022-05-13T08:56:46.197Z"
   },
   {
    "duration": 139,
    "start_time": "2022-05-13T08:56:46.215Z"
   },
   {
    "duration": 462,
    "start_time": "2022-05-13T08:56:46.356Z"
   },
   {
    "duration": 507,
    "start_time": "2022-05-13T08:56:46.820Z"
   },
   {
    "duration": 99,
    "start_time": "2022-05-13T08:56:47.329Z"
   },
   {
    "duration": 853,
    "start_time": "2022-05-13T08:56:47.430Z"
   },
   {
    "duration": 49,
    "start_time": "2022-05-13T08:56:48.285Z"
   },
   {
    "duration": 13,
    "start_time": "2022-05-13T08:56:48.336Z"
   },
   {
    "duration": 66,
    "start_time": "2022-05-13T08:56:48.351Z"
   },
   {
    "duration": 578,
    "start_time": "2022-05-13T08:56:48.418Z"
   },
   {
    "duration": 239,
    "start_time": "2022-05-13T08:56:49.000Z"
   },
   {
    "duration": 243,
    "start_time": "2022-05-13T08:56:49.240Z"
   },
   {
    "duration": 139,
    "start_time": "2022-05-13T08:56:49.484Z"
   },
   {
    "duration": 671,
    "start_time": "2022-05-13T08:56:49.624Z"
   },
   {
    "duration": 371,
    "start_time": "2022-05-13T08:56:50.296Z"
   },
   {
    "duration": 56,
    "start_time": "2022-05-13T08:56:50.669Z"
   },
   {
    "duration": 173,
    "start_time": "2022-05-13T08:56:50.728Z"
   },
   {
    "duration": 26,
    "start_time": "2022-05-13T08:56:50.903Z"
   },
   {
    "duration": 229,
    "start_time": "2022-05-13T08:56:50.931Z"
   },
   {
    "duration": 328,
    "start_time": "2022-05-13T08:59:32.873Z"
   },
   {
    "duration": 120,
    "start_time": "2022-05-13T09:00:56.155Z"
   },
   {
    "duration": 57,
    "start_time": "2022-05-13T09:24:23.035Z"
   },
   {
    "duration": 54,
    "start_time": "2022-05-13T09:30:04.591Z"
   },
   {
    "duration": 35,
    "start_time": "2022-05-13T09:36:05.621Z"
   },
   {
    "duration": 57,
    "start_time": "2022-05-13T09:36:09.755Z"
   },
   {
    "duration": 50,
    "start_time": "2022-05-13T09:36:18.697Z"
   },
   {
    "duration": 16,
    "start_time": "2022-05-13T09:40:25.447Z"
   },
   {
    "duration": 85,
    "start_time": "2022-05-13T09:40:58.592Z"
   },
   {
    "duration": 62,
    "start_time": "2022-05-13T09:41:01.863Z"
   },
   {
    "duration": 1486,
    "start_time": "2022-05-13T09:41:18.440Z"
   },
   {
    "duration": 915,
    "start_time": "2022-05-13T09:41:19.927Z"
   },
   {
    "duration": 16,
    "start_time": "2022-05-13T09:41:20.844Z"
   },
   {
    "duration": 138,
    "start_time": "2022-05-13T09:41:20.862Z"
   },
   {
    "duration": 455,
    "start_time": "2022-05-13T09:41:21.002Z"
   },
   {
    "duration": 532,
    "start_time": "2022-05-13T09:41:21.458Z"
   },
   {
    "duration": 90,
    "start_time": "2022-05-13T09:41:21.992Z"
   },
   {
    "duration": 817,
    "start_time": "2022-05-13T09:41:22.083Z"
   },
   {
    "duration": 50,
    "start_time": "2022-05-13T09:41:22.902Z"
   },
   {
    "duration": 24,
    "start_time": "2022-05-13T09:41:22.954Z"
   },
   {
    "duration": 72,
    "start_time": "2022-05-13T09:41:22.979Z"
   },
   {
    "duration": 628,
    "start_time": "2022-05-13T09:41:23.053Z"
   },
   {
    "duration": 233,
    "start_time": "2022-05-13T09:41:23.684Z"
   },
   {
    "duration": 315,
    "start_time": "2022-05-13T09:41:23.918Z"
   },
   {
    "duration": 138,
    "start_time": "2022-05-13T09:41:24.234Z"
   },
   {
    "duration": 609,
    "start_time": "2022-05-13T09:41:24.374Z"
   },
   {
    "duration": 241,
    "start_time": "2022-05-13T09:41:24.985Z"
   },
   {
    "duration": 36,
    "start_time": "2022-05-13T09:41:25.227Z"
   },
   {
    "duration": 102,
    "start_time": "2022-05-13T09:41:25.265Z"
   },
   {
    "duration": 34,
    "start_time": "2022-05-13T09:41:25.369Z"
   },
   {
    "duration": 131,
    "start_time": "2022-05-13T09:41:25.404Z"
   },
   {
    "duration": 51,
    "start_time": "2022-05-13T09:41:25.536Z"
   },
   {
    "duration": 40,
    "start_time": "2022-05-13T09:41:25.588Z"
   },
   {
    "duration": 50,
    "start_time": "2022-05-13T09:41:25.629Z"
   },
   {
    "duration": 105,
    "start_time": "2022-05-13T09:41:25.681Z"
   },
   {
    "duration": 62,
    "start_time": "2022-05-13T09:41:25.787Z"
   },
   {
    "duration": 126,
    "start_time": "2022-05-13T09:41:25.851Z"
   },
   {
    "duration": 251,
    "start_time": "2022-05-13T09:43:34.697Z"
   },
   {
    "duration": 57,
    "start_time": "2022-05-13T09:43:35.765Z"
   },
   {
    "duration": 84,
    "start_time": "2022-05-13T09:43:55.612Z"
   },
   {
    "duration": 61,
    "start_time": "2022-05-13T09:43:56.013Z"
   },
   {
    "duration": 4,
    "start_time": "2022-05-13T09:44:02.548Z"
   },
   {
    "duration": 1475,
    "start_time": "2022-05-13T09:44:30.821Z"
   },
   {
    "duration": 769,
    "start_time": "2022-05-13T09:44:32.298Z"
   },
   {
    "duration": 16,
    "start_time": "2022-05-13T09:44:33.068Z"
   },
   {
    "duration": 142,
    "start_time": "2022-05-13T09:44:33.086Z"
   },
   {
    "duration": 454,
    "start_time": "2022-05-13T09:44:33.229Z"
   },
   {
    "duration": 516,
    "start_time": "2022-05-13T09:44:33.684Z"
   },
   {
    "duration": 82,
    "start_time": "2022-05-13T09:44:34.202Z"
   },
   {
    "duration": 864,
    "start_time": "2022-05-13T09:44:34.286Z"
   },
   {
    "duration": 53,
    "start_time": "2022-05-13T09:44:35.152Z"
   },
   {
    "duration": 12,
    "start_time": "2022-05-13T09:44:35.208Z"
   },
   {
    "duration": 50,
    "start_time": "2022-05-13T09:44:35.221Z"
   },
   {
    "duration": 583,
    "start_time": "2022-05-13T09:44:35.273Z"
   },
   {
    "duration": 228,
    "start_time": "2022-05-13T09:44:35.857Z"
   },
   {
    "duration": 299,
    "start_time": "2022-05-13T09:44:36.087Z"
   },
   {
    "duration": 143,
    "start_time": "2022-05-13T09:44:36.387Z"
   },
   {
    "duration": 616,
    "start_time": "2022-05-13T09:44:36.531Z"
   },
   {
    "duration": 238,
    "start_time": "2022-05-13T09:44:37.149Z"
   },
   {
    "duration": 43,
    "start_time": "2022-05-13T09:44:37.389Z"
   },
   {
    "duration": 97,
    "start_time": "2022-05-13T09:44:37.433Z"
   },
   {
    "duration": 22,
    "start_time": "2022-05-13T09:44:37.531Z"
   },
   {
    "duration": 148,
    "start_time": "2022-05-13T09:44:37.555Z"
   },
   {
    "duration": 54,
    "start_time": "2022-05-13T09:44:37.705Z"
   },
   {
    "duration": 54,
    "start_time": "2022-05-13T09:44:37.760Z"
   },
   {
    "duration": 50,
    "start_time": "2022-05-13T09:44:37.816Z"
   },
   {
    "duration": 102,
    "start_time": "2022-05-13T09:44:37.868Z"
   },
   {
    "duration": 52,
    "start_time": "2022-05-13T09:44:37.972Z"
   },
   {
    "duration": 3,
    "start_time": "2022-05-13T09:44:38.026Z"
   },
   {
    "duration": 122,
    "start_time": "2022-05-13T10:01:17.618Z"
   },
   {
    "duration": 63,
    "start_time": "2022-05-13T10:01:18.260Z"
   },
   {
    "duration": 4342,
    "start_time": "2022-05-13T10:01:58.434Z"
   },
   {
    "duration": 21,
    "start_time": "2022-05-13T10:02:13.381Z"
   },
   {
    "duration": 78,
    "start_time": "2022-05-13T10:02:14.789Z"
   },
   {
    "duration": 98,
    "start_time": "2022-05-13T10:11:41.260Z"
   },
   {
    "duration": 104,
    "start_time": "2022-05-13T10:11:42.708Z"
   },
   {
    "duration": 149,
    "start_time": "2022-05-13T10:11:58.513Z"
   },
   {
    "duration": 55,
    "start_time": "2022-05-13T10:12:00.923Z"
   },
   {
    "duration": 83,
    "start_time": "2022-05-13T10:12:23.701Z"
   },
   {
    "duration": 81,
    "start_time": "2022-05-13T10:12:25.066Z"
   },
   {
    "duration": 1534,
    "start_time": "2022-05-13T10:12:42.616Z"
   },
   {
    "duration": 820,
    "start_time": "2022-05-13T10:12:44.152Z"
   },
   {
    "duration": 17,
    "start_time": "2022-05-13T10:12:44.974Z"
   },
   {
    "duration": 152,
    "start_time": "2022-05-13T10:12:44.992Z"
   },
   {
    "duration": 454,
    "start_time": "2022-05-13T10:12:45.146Z"
   },
   {
    "duration": 490,
    "start_time": "2022-05-13T10:12:45.602Z"
   },
   {
    "duration": 95,
    "start_time": "2022-05-13T10:12:46.094Z"
   },
   {
    "duration": 851,
    "start_time": "2022-05-13T10:12:46.190Z"
   },
   {
    "duration": 45,
    "start_time": "2022-05-13T10:12:47.043Z"
   },
   {
    "duration": 23,
    "start_time": "2022-05-13T10:12:47.089Z"
   },
   {
    "duration": 58,
    "start_time": "2022-05-13T10:12:47.114Z"
   },
   {
    "duration": 653,
    "start_time": "2022-05-13T10:12:47.173Z"
   },
   {
    "duration": 280,
    "start_time": "2022-05-13T10:12:47.828Z"
   },
   {
    "duration": 334,
    "start_time": "2022-05-13T10:12:48.112Z"
   },
   {
    "duration": 138,
    "start_time": "2022-05-13T10:12:48.447Z"
   },
   {
    "duration": 618,
    "start_time": "2022-05-13T10:12:48.587Z"
   },
   {
    "duration": 336,
    "start_time": "2022-05-13T10:12:49.207Z"
   },
   {
    "duration": 35,
    "start_time": "2022-05-13T10:12:49.544Z"
   },
   {
    "duration": 122,
    "start_time": "2022-05-13T10:12:49.580Z"
   },
   {
    "duration": 22,
    "start_time": "2022-05-13T10:12:49.705Z"
   },
   {
    "duration": 143,
    "start_time": "2022-05-13T10:12:49.729Z"
   },
   {
    "duration": 64,
    "start_time": "2022-05-13T10:12:49.874Z"
   },
   {
    "duration": 32,
    "start_time": "2022-05-13T10:12:49.939Z"
   },
   {
    "duration": 80,
    "start_time": "2022-05-13T10:12:49.973Z"
   },
   {
    "duration": 91,
    "start_time": "2022-05-13T10:12:50.055Z"
   },
   {
    "duration": 60,
    "start_time": "2022-05-13T10:12:50.148Z"
   },
   {
    "duration": 727,
    "start_time": "2022-05-13T10:12:50.210Z"
   },
   {
    "duration": 18,
    "start_time": "2022-05-13T10:13:10.448Z"
   },
   {
    "duration": 163,
    "start_time": "2022-05-13T10:13:22.445Z"
   },
   {
    "duration": 22,
    "start_time": "2022-05-13T10:13:27.096Z"
   },
   {
    "duration": 15,
    "start_time": "2022-05-13T10:13:49.840Z"
   },
   {
    "duration": 18,
    "start_time": "2022-05-13T10:32:21.660Z"
   },
   {
    "duration": 44,
    "start_time": "2022-05-13T10:33:20.636Z"
   },
   {
    "duration": 52,
    "start_time": "2022-05-13T10:33:34.085Z"
   },
   {
    "duration": 5,
    "start_time": "2022-05-13T11:03:10.880Z"
   },
   {
    "duration": 3,
    "start_time": "2022-05-13T11:03:15.127Z"
   },
   {
    "duration": 31,
    "start_time": "2022-05-13T11:06:39.587Z"
   },
   {
    "duration": 11,
    "start_time": "2022-05-13T11:07:21.266Z"
   },
   {
    "duration": 2,
    "start_time": "2022-05-13T11:07:30.627Z"
   },
   {
    "duration": 9,
    "start_time": "2022-05-13T11:13:26.782Z"
   },
   {
    "duration": 5,
    "start_time": "2022-05-13T11:13:52.279Z"
   },
   {
    "duration": 9,
    "start_time": "2022-05-13T11:13:56.880Z"
   },
   {
    "duration": 17161,
    "start_time": "2022-05-13T11:14:04.150Z"
   },
   {
    "duration": 5,
    "start_time": "2022-05-13T11:15:10.520Z"
   },
   {
    "duration": 5,
    "start_time": "2022-05-13T11:26:41.600Z"
   },
   {
    "duration": 211,
    "start_time": "2022-05-13T11:26:45.233Z"
   },
   {
    "duration": 8,
    "start_time": "2022-05-13T11:27:03.241Z"
   },
   {
    "duration": 228,
    "start_time": "2022-05-13T11:27:06.944Z"
   },
   {
    "duration": 187,
    "start_time": "2022-05-13T11:27:14.343Z"
   },
   {
    "duration": 349020,
    "start_time": "2022-05-13T11:27:18.712Z"
   },
   {
    "duration": 1723903,
    "start_time": "2022-05-13T11:36:06.808Z"
   },
   {
    "duration": 4,
    "start_time": "2022-05-13T12:07:22.124Z"
   },
   {
    "duration": 1340886,
    "start_time": "2022-05-13T12:11:39.943Z"
   },
   {
    "duration": 6,
    "start_time": "2022-05-13T12:37:25.449Z"
   },
   {
    "duration": 468,
    "start_time": "2022-05-13T12:37:34.121Z"
   },
   {
    "duration": 3,
    "start_time": "2022-05-13T12:42:44.478Z"
   },
   {
    "duration": 4,
    "start_time": "2022-05-13T12:43:26.526Z"
   },
   {
    "duration": 288,
    "start_time": "2022-05-13T12:43:30.702Z"
   },
   {
    "duration": 1993,
    "start_time": "2022-05-13T12:45:32.155Z"
   },
   {
    "duration": 10069,
    "start_time": "2022-05-13T12:45:34.150Z"
   },
   {
    "duration": 22,
    "start_time": "2022-05-13T12:45:44.220Z"
   },
   {
    "duration": 176,
    "start_time": "2022-05-13T12:45:44.244Z"
   },
   {
    "duration": 483,
    "start_time": "2022-05-13T12:45:44.422Z"
   },
   {
    "duration": 526,
    "start_time": "2022-05-13T12:45:44.906Z"
   },
   {
    "duration": 133,
    "start_time": "2022-05-13T12:45:45.433Z"
   },
   {
    "duration": 1491,
    "start_time": "2022-05-13T12:45:45.568Z"
   },
   {
    "duration": 58,
    "start_time": "2022-05-13T12:45:47.061Z"
   },
   {
    "duration": 35,
    "start_time": "2022-05-13T12:45:47.122Z"
   },
   {
    "duration": 81,
    "start_time": "2022-05-13T12:45:47.159Z"
   },
   {
    "duration": 809,
    "start_time": "2022-05-13T12:45:47.243Z"
   },
   {
    "duration": 252,
    "start_time": "2022-05-13T12:45:48.054Z"
   },
   {
    "duration": 353,
    "start_time": "2022-05-13T12:45:48.308Z"
   },
   {
    "duration": 140,
    "start_time": "2022-05-13T12:45:48.663Z"
   },
   {
    "duration": 681,
    "start_time": "2022-05-13T12:45:48.805Z"
   },
   {
    "duration": 255,
    "start_time": "2022-05-13T12:45:49.488Z"
   },
   {
    "duration": 36,
    "start_time": "2022-05-13T12:45:49.745Z"
   },
   {
    "duration": 104,
    "start_time": "2022-05-13T12:45:49.783Z"
   },
   {
    "duration": 26,
    "start_time": "2022-05-13T12:45:49.899Z"
   },
   {
    "duration": 156,
    "start_time": "2022-05-13T12:45:49.929Z"
   },
   {
    "duration": 67,
    "start_time": "2022-05-13T12:45:50.088Z"
   },
   {
    "duration": 45,
    "start_time": "2022-05-13T12:45:50.157Z"
   },
   {
    "duration": 51,
    "start_time": "2022-05-13T12:45:50.204Z"
   },
   {
    "duration": 102,
    "start_time": "2022-05-13T12:45:50.257Z"
   },
   {
    "duration": 63,
    "start_time": "2022-05-13T12:45:50.360Z"
   },
   {
    "duration": 595,
    "start_time": "2022-05-13T12:45:50.425Z"
   },
   {
    "duration": 15,
    "start_time": "2022-05-13T12:45:51.023Z"
   },
   {
    "duration": 46,
    "start_time": "2022-05-13T12:45:51.039Z"
   },
   {
    "duration": 354,
    "start_time": "2022-05-13T12:45:51.100Z"
   },
   {
    "duration": 3,
    "start_time": "2022-05-13T12:45:51.456Z"
   },
   {
    "duration": 296,
    "start_time": "2022-05-13T12:47:11.398Z"
   },
   {
    "duration": 1787,
    "start_time": "2022-05-13T12:47:21.200Z"
   },
   {
    "duration": 9802,
    "start_time": "2022-05-13T12:47:22.989Z"
   },
   {
    "duration": 23,
    "start_time": "2022-05-13T12:47:32.793Z"
   },
   {
    "duration": 165,
    "start_time": "2022-05-13T12:47:32.818Z"
   },
   {
    "duration": 475,
    "start_time": "2022-05-13T12:47:32.985Z"
   },
   {
    "duration": 541,
    "start_time": "2022-05-13T12:47:33.462Z"
   },
   {
    "duration": 99,
    "start_time": "2022-05-13T12:47:34.005Z"
   },
   {
    "duration": 906,
    "start_time": "2022-05-13T12:47:34.106Z"
   },
   {
    "duration": 48,
    "start_time": "2022-05-13T12:47:35.014Z"
   },
   {
    "duration": 13,
    "start_time": "2022-05-13T12:47:35.066Z"
   },
   {
    "duration": 70,
    "start_time": "2022-05-13T12:47:35.081Z"
   },
   {
    "duration": 1001,
    "start_time": "2022-05-13T12:47:35.153Z"
   },
   {
    "duration": 273,
    "start_time": "2022-05-13T12:47:36.156Z"
   },
   {
    "duration": 443,
    "start_time": "2022-05-13T12:47:36.431Z"
   },
   {
    "duration": 151,
    "start_time": "2022-05-13T12:47:36.877Z"
   },
   {
    "duration": 727,
    "start_time": "2022-05-13T12:47:37.029Z"
   },
   {
    "duration": 259,
    "start_time": "2022-05-13T12:47:37.758Z"
   },
   {
    "duration": 36,
    "start_time": "2022-05-13T12:47:38.020Z"
   },
   {
    "duration": 191,
    "start_time": "2022-05-13T12:47:38.059Z"
   },
   {
    "duration": 24,
    "start_time": "2022-05-13T12:47:38.253Z"
   },
   {
    "duration": 265,
    "start_time": "2022-05-13T12:47:38.281Z"
   },
   {
    "duration": 101,
    "start_time": "2022-05-13T12:47:38.548Z"
   },
   {
    "duration": 54,
    "start_time": "2022-05-13T12:47:38.651Z"
   },
   {
    "duration": 64,
    "start_time": "2022-05-13T12:47:38.708Z"
   },
   {
    "duration": 146,
    "start_time": "2022-05-13T12:47:38.774Z"
   },
   {
    "duration": 56,
    "start_time": "2022-05-13T12:47:38.922Z"
   },
   {
    "duration": 591,
    "start_time": "2022-05-13T12:47:38.980Z"
   },
   {
    "duration": 25,
    "start_time": "2022-05-13T12:47:39.575Z"
   },
   {
    "duration": 46,
    "start_time": "2022-05-13T12:47:39.602Z"
   },
   {
    "duration": 126,
    "start_time": "2022-05-13T12:47:39.650Z"
   },
   {
    "duration": 3,
    "start_time": "2022-05-13T12:47:39.778Z"
   },
   {
    "duration": 1812,
    "start_time": "2022-05-13T12:48:12.858Z"
   },
   {
    "duration": 9902,
    "start_time": "2022-05-13T12:48:14.672Z"
   },
   {
    "duration": 17,
    "start_time": "2022-05-13T12:48:24.576Z"
   },
   {
    "duration": 133,
    "start_time": "2022-05-13T12:48:24.595Z"
   },
   {
    "duration": 471,
    "start_time": "2022-05-13T12:48:24.730Z"
   },
   {
    "duration": 494,
    "start_time": "2022-05-13T12:48:25.203Z"
   },
   {
    "duration": 85,
    "start_time": "2022-05-13T12:48:25.699Z"
   },
   {
    "duration": 830,
    "start_time": "2022-05-13T12:48:25.786Z"
   },
   {
    "duration": 43,
    "start_time": "2022-05-13T12:48:26.618Z"
   },
   {
    "duration": 13,
    "start_time": "2022-05-13T12:48:26.663Z"
   },
   {
    "duration": 70,
    "start_time": "2022-05-13T12:48:26.677Z"
   },
   {
    "duration": 614,
    "start_time": "2022-05-13T12:48:26.749Z"
   },
   {
    "duration": 235,
    "start_time": "2022-05-13T12:48:27.364Z"
   },
   {
    "duration": 321,
    "start_time": "2022-05-13T12:48:27.600Z"
   },
   {
    "duration": 135,
    "start_time": "2022-05-13T12:48:27.923Z"
   },
   {
    "duration": 644,
    "start_time": "2022-05-13T12:48:28.060Z"
   },
   {
    "duration": 234,
    "start_time": "2022-05-13T12:48:28.706Z"
   },
   {
    "duration": 34,
    "start_time": "2022-05-13T12:48:28.941Z"
   },
   {
    "duration": 100,
    "start_time": "2022-05-13T12:48:28.976Z"
   },
   {
    "duration": 33,
    "start_time": "2022-05-13T12:48:29.078Z"
   },
   {
    "duration": 134,
    "start_time": "2022-05-13T12:48:29.112Z"
   },
   {
    "duration": 57,
    "start_time": "2022-05-13T12:48:29.247Z"
   },
   {
    "duration": 35,
    "start_time": "2022-05-13T12:48:29.306Z"
   },
   {
    "duration": 63,
    "start_time": "2022-05-13T12:48:29.342Z"
   },
   {
    "duration": 75,
    "start_time": "2022-05-13T12:48:29.407Z"
   },
   {
    "duration": 67,
    "start_time": "2022-05-13T12:48:29.483Z"
   },
   {
    "duration": 587,
    "start_time": "2022-05-13T12:48:29.552Z"
   },
   {
    "duration": 16,
    "start_time": "2022-05-13T12:48:30.143Z"
   },
   {
    "duration": 62,
    "start_time": "2022-05-13T12:48:30.161Z"
   },
   {
    "duration": 107,
    "start_time": "2022-05-13T12:48:30.225Z"
   },
   {
    "duration": 3,
    "start_time": "2022-05-13T12:48:30.334Z"
   },
   {
    "duration": 273,
    "start_time": "2022-05-13T12:48:44.643Z"
   },
   {
    "duration": 225,
    "start_time": "2022-05-13T12:49:04.195Z"
   },
   {
    "duration": 1574,
    "start_time": "2022-05-13T12:49:09.687Z"
   },
   {
    "duration": 9728,
    "start_time": "2022-05-13T12:49:11.263Z"
   },
   {
    "duration": 16,
    "start_time": "2022-05-13T12:49:20.992Z"
   },
   {
    "duration": 136,
    "start_time": "2022-05-13T12:49:21.010Z"
   },
   {
    "duration": 462,
    "start_time": "2022-05-13T12:49:21.148Z"
   },
   {
    "duration": 500,
    "start_time": "2022-05-13T12:49:21.612Z"
   },
   {
    "duration": 94,
    "start_time": "2022-05-13T12:49:22.114Z"
   },
   {
    "duration": 822,
    "start_time": "2022-05-13T12:49:22.209Z"
   },
   {
    "duration": 41,
    "start_time": "2022-05-13T12:49:23.033Z"
   },
   {
    "duration": 12,
    "start_time": "2022-05-13T12:49:23.077Z"
   },
   {
    "duration": 56,
    "start_time": "2022-05-13T12:49:23.091Z"
   },
   {
    "duration": 598,
    "start_time": "2022-05-13T12:49:23.149Z"
   },
   {
    "duration": 232,
    "start_time": "2022-05-13T12:49:23.748Z"
   },
   {
    "duration": 335,
    "start_time": "2022-05-13T12:49:23.982Z"
   },
   {
    "duration": 139,
    "start_time": "2022-05-13T12:49:24.318Z"
   },
   {
    "duration": 614,
    "start_time": "2022-05-13T12:49:24.459Z"
   },
   {
    "duration": 228,
    "start_time": "2022-05-13T12:49:25.075Z"
   },
   {
    "duration": 34,
    "start_time": "2022-05-13T12:49:25.305Z"
   },
   {
    "duration": 108,
    "start_time": "2022-05-13T12:49:25.340Z"
   },
   {
    "duration": 21,
    "start_time": "2022-05-13T12:49:25.450Z"
   },
   {
    "duration": 144,
    "start_time": "2022-05-13T12:49:25.473Z"
   },
   {
    "duration": 53,
    "start_time": "2022-05-13T12:49:25.618Z"
   },
   {
    "duration": 52,
    "start_time": "2022-05-13T12:49:25.672Z"
   },
   {
    "duration": 49,
    "start_time": "2022-05-13T12:49:25.726Z"
   },
   {
    "duration": 86,
    "start_time": "2022-05-13T12:49:25.777Z"
   },
   {
    "duration": 60,
    "start_time": "2022-05-13T12:49:25.865Z"
   },
   {
    "duration": 569,
    "start_time": "2022-05-13T12:49:25.926Z"
   },
   {
    "duration": 16,
    "start_time": "2022-05-13T12:49:26.499Z"
   },
   {
    "duration": 42,
    "start_time": "2022-05-13T12:49:26.517Z"
   },
   {
    "duration": 125,
    "start_time": "2022-05-13T12:49:26.561Z"
   },
   {
    "duration": 3,
    "start_time": "2022-05-13T12:49:26.688Z"
   },
   {
    "duration": 80,
    "start_time": "2022-05-15T05:57:26.753Z"
   },
   {
    "duration": 2314,
    "start_time": "2022-05-15T06:10:21.577Z"
   },
   {
    "duration": 167,
    "start_time": "2022-05-15T06:10:23.896Z"
   },
   {
    "duration": 0,
    "start_time": "2022-05-15T06:10:24.068Z"
   },
   {
    "duration": 0,
    "start_time": "2022-05-15T06:10:24.069Z"
   },
   {
    "duration": 0,
    "start_time": "2022-05-15T06:10:24.071Z"
   },
   {
    "duration": 0,
    "start_time": "2022-05-15T06:10:24.072Z"
   },
   {
    "duration": 0,
    "start_time": "2022-05-15T06:10:24.073Z"
   },
   {
    "duration": 0,
    "start_time": "2022-05-15T06:10:24.075Z"
   },
   {
    "duration": 0,
    "start_time": "2022-05-15T06:10:24.077Z"
   },
   {
    "duration": 0,
    "start_time": "2022-05-15T06:10:24.078Z"
   },
   {
    "duration": 0,
    "start_time": "2022-05-15T06:10:24.080Z"
   },
   {
    "duration": 0,
    "start_time": "2022-05-15T06:10:24.081Z"
   },
   {
    "duration": 0,
    "start_time": "2022-05-15T06:10:24.082Z"
   },
   {
    "duration": 0,
    "start_time": "2022-05-15T06:10:24.084Z"
   },
   {
    "duration": 0,
    "start_time": "2022-05-15T06:10:24.085Z"
   },
   {
    "duration": 0,
    "start_time": "2022-05-15T06:10:24.086Z"
   },
   {
    "duration": 0,
    "start_time": "2022-05-15T06:10:24.088Z"
   },
   {
    "duration": 0,
    "start_time": "2022-05-15T06:10:24.089Z"
   },
   {
    "duration": 0,
    "start_time": "2022-05-15T06:10:24.091Z"
   },
   {
    "duration": 0,
    "start_time": "2022-05-15T06:10:24.093Z"
   },
   {
    "duration": 0,
    "start_time": "2022-05-15T06:10:24.094Z"
   },
   {
    "duration": 0,
    "start_time": "2022-05-15T06:10:24.095Z"
   },
   {
    "duration": 0,
    "start_time": "2022-05-15T06:10:24.097Z"
   },
   {
    "duration": 0,
    "start_time": "2022-05-15T06:10:24.099Z"
   },
   {
    "duration": 0,
    "start_time": "2022-05-15T06:10:24.100Z"
   },
   {
    "duration": 0,
    "start_time": "2022-05-15T06:10:24.102Z"
   },
   {
    "duration": 0,
    "start_time": "2022-05-15T06:10:24.104Z"
   },
   {
    "duration": 0,
    "start_time": "2022-05-15T06:10:24.157Z"
   },
   {
    "duration": 0,
    "start_time": "2022-05-15T06:10:24.159Z"
   },
   {
    "duration": 0,
    "start_time": "2022-05-15T06:10:24.160Z"
   },
   {
    "duration": 9,
    "start_time": "2022-05-15T06:10:51.672Z"
   },
   {
    "duration": 1059,
    "start_time": "2022-05-15T06:10:51.687Z"
   },
   {
    "duration": 31,
    "start_time": "2022-05-15T06:10:52.749Z"
   },
   {
    "duration": 193,
    "start_time": "2022-05-15T06:10:52.782Z"
   },
   {
    "duration": 720,
    "start_time": "2022-05-15T06:10:52.978Z"
   },
   {
    "duration": 784,
    "start_time": "2022-05-15T06:10:53.701Z"
   },
   {
    "duration": 130,
    "start_time": "2022-05-15T06:10:54.487Z"
   },
   {
    "duration": 1109,
    "start_time": "2022-05-15T06:10:54.619Z"
   },
   {
    "duration": 74,
    "start_time": "2022-05-15T06:10:55.730Z"
   },
   {
    "duration": 19,
    "start_time": "2022-05-15T06:10:55.806Z"
   },
   {
    "duration": 102,
    "start_time": "2022-05-15T06:10:55.827Z"
   },
   {
    "duration": 1002,
    "start_time": "2022-05-15T06:10:55.931Z"
   },
   {
    "duration": 424,
    "start_time": "2022-05-15T06:10:56.935Z"
   },
   {
    "duration": 522,
    "start_time": "2022-05-15T06:10:57.361Z"
   },
   {
    "duration": 220,
    "start_time": "2022-05-15T06:10:57.887Z"
   },
   {
    "duration": 995,
    "start_time": "2022-05-15T06:10:58.109Z"
   },
   {
    "duration": 425,
    "start_time": "2022-05-15T06:10:59.106Z"
   },
   {
    "duration": 74,
    "start_time": "2022-05-15T06:10:59.534Z"
   },
   {
    "duration": 128,
    "start_time": "2022-05-15T06:10:59.611Z"
   },
   {
    "duration": 46,
    "start_time": "2022-05-15T06:10:59.741Z"
   },
   {
    "duration": 205,
    "start_time": "2022-05-15T06:10:59.789Z"
   },
   {
    "duration": 75,
    "start_time": "2022-05-15T06:10:59.997Z"
   },
   {
    "duration": 56,
    "start_time": "2022-05-15T06:11:00.074Z"
   },
   {
    "duration": 84,
    "start_time": "2022-05-15T06:11:00.132Z"
   },
   {
    "duration": 119,
    "start_time": "2022-05-15T06:11:00.219Z"
   },
   {
    "duration": 77,
    "start_time": "2022-05-15T06:11:00.340Z"
   },
   {
    "duration": 13,
    "start_time": "2022-05-15T06:11:00.419Z"
   },
   {
    "duration": 864,
    "start_time": "2022-05-15T06:11:00.434Z"
   },
   {
    "duration": 22,
    "start_time": "2022-05-15T06:11:01.300Z"
   },
   {
    "duration": 36,
    "start_time": "2022-05-15T06:11:01.324Z"
   }
  ],
  "kernelspec": {
   "display_name": "Python 3 (ipykernel)",
   "language": "python",
   "name": "python3"
  },
  "language_info": {
   "codemirror_mode": {
    "name": "ipython",
    "version": 3
   },
   "file_extension": ".py",
   "mimetype": "text/x-python",
   "name": "python",
   "nbconvert_exporter": "python",
   "pygments_lexer": "ipython3",
   "version": "3.9.12"
  },
  "toc": {
   "base_numbering": 1,
   "nav_menu": {},
   "number_sections": true,
   "sideBar": true,
   "skip_h1_title": true,
   "title_cell": "Table of Contents",
   "title_sidebar": "Contents",
   "toc_cell": false,
   "toc_position": {
    "height": "calc(100% - 180px)",
    "left": "10px",
    "top": "150px",
    "width": "384px"
   },
   "toc_section_display": true,
   "toc_window_display": true
  }
 },
 "nbformat": 4,
 "nbformat_minor": 2
}
